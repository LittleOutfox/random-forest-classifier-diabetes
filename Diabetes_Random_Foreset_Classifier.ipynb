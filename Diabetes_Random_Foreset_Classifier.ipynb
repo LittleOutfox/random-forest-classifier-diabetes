{
  "cells": [
    {
      "cell_type": "markdown",
      "metadata": {
        "id": "9Rrd0fCd5oDR"
      },
      "source": [
        "## Local Runtime"
      ]
    },
    {
      "cell_type": "code",
      "execution_count": 1,
      "metadata": {
        "id": "5Xgi7e6Y5Q-1"
      },
      "outputs": [],
      "source": [
        "# Data manipulation and visualization\n",
        "import numpy as np\n",
        "import pandas as pd\n",
        "import seaborn as sns\n",
        "import matplotlib.pyplot as plt\n",
        "\n",
        "# Scikit-learn modules for machine learning and evaluation\n",
        "from sklearn.model_selection import train_test_split, RandomizedSearchCV, GridSearchCV\n",
        "from sklearn.neighbors import KNeighborsClassifier\n",
        "from sklearn.metrics import (\n",
        "    accuracy_score, roc_curve, auc, roc_auc_score, f1_score,\n",
        "    confusion_matrix, ConfusionMatrixDisplay, precision_score, recall_score\n",
        ")\n",
        "from sklearn.tree import DecisionTreeClassifier\n",
        "from sklearn.naive_bayes import GaussianNB, MultinomialNB\n",
        "from sklearn.inspection import permutation_importance\n",
        "from sklearn.ensemble import RandomForestClassifier\n",
        "\n",
        "# XGBoost for gradient boosting\n",
        "import xgboost as xgb\n",
        "from xgboost import XGBClassifier, plot_importance\n",
        "\n",
        "# Hyperopt for hyperparameter optimization\n",
        "from hyperopt import fmin, hp, tpe"
      ]
    },
    {
      "cell_type": "code",
      "execution_count": null,
      "metadata": {
        "id": "QnvcLeyu-tWf"
      },
      "outputs": [],
      "source": [
        "labs = pd.read_csv('C:\\\\Users\\\\redacted\\\\OneDrive\\\\Desktop\\\\Ominous Void\\\\National Health and Nutrition Examination Survey Dataset\\\\labs.csv')\n",
        "exam = pd.read_csv('C:\\\\Users\\\\redacted\\\\OneDrive\\\\Desktop\\\\Ominous Void\\\\National Health and Nutrition Examination Survey Dataset\\\\examination.csv')\n",
        "demo = pd.read_csv('C:\\\\Users\\\\redacted\\\\OneDrive\\\\Desktop\\\\Ominous Void\\\\National Health and Nutrition Examination Survey Dataset\\\\demographic.csv')\n",
        "diet = pd.read_csv('C:\\\\Users\\\\redacted\\\\OneDrive\\\\Desktop\\\\Ominous Void\\\\National Health and Nutrition Examination Survey Dataset\\\\diet.csv')\n",
        "ques = pd.read_csv('C:\\\\Users\\\\redacted\\\\OneDrive\\\\Desktop\\\\Ominous Void\\\\National Health and Nutrition Examination Survey Dataset\\\\questionnaire.csv')\n",
        "\n",
        "# removes SEQN from 4/5 datasets to prevent dupliates\n",
        "exam.drop(['SEQN'], axis = 1, inplace=True)\n",
        "demo.drop(['SEQN'], axis = 1, inplace=True)\n",
        "diet.drop(['SEQN'], axis = 1, inplace=True)\n",
        "ques.drop(['SEQN'], axis = 1, inplace=True)\n",
        "\n",
        "# joins the 4 datasets together\n",
        "df = pd.concat([labs, exam], axis=1, join='inner')\n",
        "df = pd.concat([df, demo], axis=1, join='inner')\n",
        "df = pd.concat([df, diet], axis=1, join='inner')\n",
        "df = pd.concat([df, ques], axis=1, join='inner')"
      ]
    },
    {
      "cell_type": "markdown",
      "metadata": {
        "id": "DNye4xVM5YQX"
      },
      "source": [
        "## Hosted Runtime Alternative"
      ]
    },
    {
      "cell_type": "code",
      "execution_count": null,
      "metadata": {
        "colab": {
          "base_uri": "https://localhost:8080/"
        },
        "id": "ojoFqAf157Db",
        "outputId": "aa7bd125-8ab9-4940-9794-77a0b02d6d2b"
      },
      "outputs": [
        {
          "output_type": "stream",
          "name": "stdout",
          "text": [
            "Mounted at /content/drive/\n"
          ]
        }
      ],
      "source": [
        "# Data manipulation and visualization\n",
        "import numpy as np\n",
        "import pandas as pd\n",
        "import seaborn as sns\n",
        "import matplotlib.pyplot as plt\n",
        "\n",
        "# Scikit-learn modules for machine learning and evaluation\n",
        "from sklearn.model_selection import train_test_split, RandomizedSearchCV, GridSearchCV\n",
        "from sklearn.neighbors import KNeighborsClassifier\n",
        "from sklearn.metrics import (\n",
        "    accuracy_score, roc_curve, auc, roc_auc_score, f1_score,\n",
        "    confusion_matrix, ConfusionMatrixDisplay, precision_score, recall_score\n",
        ")\n",
        "from sklearn.tree import DecisionTreeClassifier\n",
        "from sklearn.naive_bayes import GaussianNB, MultinomialNB\n",
        "from sklearn.inspection import permutation_importance\n",
        "from sklearn.ensemble import RandomForestClassifier\n",
        "\n",
        "# XGBoost for gradient boosting\n",
        "import xgboost as xgb\n",
        "from xgboost import XGBClassifier, plot_importance\n",
        "\n",
        "# Hyperopt for hyperparameter optimization\n",
        "from hyperopt import fmin, hp, tpe\n",
        "\n",
        "# Google Colab for mounting Google Drive\n",
        "from google.colab import drive\n",
        "drive.mount(\"/content/drive/\")\n"
      ]
    },
    {
      "cell_type": "code",
      "execution_count": null,
      "metadata": {
        "id": "Ok5hURdmVQL3"
      },
      "outputs": [],
      "source": [
        "labs = pd.read_csv('/content/drive/MyDrive/redacted/labs.csv')\n",
        "exam = pd.read_csv('/content/drive/MyDrive/redacted/examination.csv')\n",
        "demo = pd.read_csv('/content/drive/MyDrive/redacted/demographic.csv')\n",
        "diet = pd.read_csv('/content/drive/MyDrive/redacted/diet.csv')\n",
        "ques = pd.read_csv('/content/drive/MyDrive/redacted/questionnaire.csv')\n",
        "\n",
        "# removes SEQN from 4/5 datasets to prevent dupliates\n",
        "exam.drop(['SEQN'], axis = 1, inplace=True)\n",
        "demo.drop(['SEQN'], axis = 1, inplace=True)\n",
        "diet.drop(['SEQN'], axis = 1, inplace=True)\n",
        "ques.drop(['SEQN'], axis = 1, inplace=True)\n",
        "\n",
        "# joins the 4 datasets together\n",
        "df = pd.concat([labs, exam], axis=1, join='inner')\n",
        "df = pd.concat([df, demo], axis=1, join='inner')\n",
        "df = pd.concat([df, diet], axis=1, join='inner')\n",
        "df = pd.concat([df, ques], axis=1, join='inner')"
      ]
    },
    {
      "cell_type": "markdown",
      "metadata": {
        "id": "sEZv0FMcCkFU"
      },
      "source": [
        "## Understanding The Dataset"
      ]
    },
    {
      "cell_type": "code",
      "execution_count": null,
      "metadata": {
        "id": "gC6dTPExO4xc"
      },
      "outputs": [],
      "source": [
        "# SI columns are duplicate columns that give unit conversions (removing SI units)\n",
        "cols = [c for c in df.columns if c[-2:] != 'SI']\n",
        "df = df[cols]\n",
        "data = df"
      ]
    },
    {
      "cell_type": "code",
      "execution_count": null,
      "metadata": {
        "colab": {
          "base_uri": "https://localhost:8080/"
        },
        "id": "YBeDHnz-S82z",
        "outputId": "edb2fcee-67e6-4f9f-d272-6419e7f1bea2"
      },
      "outputs": [
        {
          "output_type": "execute_result",
          "data": {
            "text/plain": [
              "73557    1\n",
              "80348    1\n",
              "80341    1\n",
              "80342    1\n",
              "80343    1\n",
              "        ..\n",
              "76953    1\n",
              "76954    1\n",
              "76955    1\n",
              "76956    1\n",
              "83731    1\n",
              "Name: SEQN, Length: 9813, dtype: int64"
            ]
          },
          "metadata": {},
          "execution_count": 4
        }
      ],
      "source": [
        "# Counts the number of samples per catagory\n",
        "data[\"SEQN\"].value_counts()"
      ]
    },
    {
      "cell_type": "code",
      "execution_count": null,
      "metadata": {
        "colab": {
          "base_uri": "https://localhost:8080/"
        },
        "id": "V7J4V_4MWDbr",
        "outputId": "590ae055-6a8f-44d4-b04a-6efd55c6b9af"
      },
      "outputs": [
        {
          "output_type": "execute_result",
          "data": {
            "text/plain": [
              "8.0     1720\n",
              "7.0     1654\n",
              "6.0     1457\n",
              "5.0      537\n",
              "9.0      347\n",
              "4.0      229\n",
              "10.0     160\n",
              "12.0      45\n",
              "3.0       41\n",
              "2.0       21\n",
              "11.0       9\n",
              "99.0       7\n",
              "Name: SLD010H, dtype: int64"
            ]
          },
          "metadata": {},
          "execution_count": 5
        }
      ],
      "source": [
        "# Counts the number of samples per catagory\n",
        "data[\"SLD010H\"].value_counts()"
      ]
    },
    {
      "cell_type": "code",
      "execution_count": null,
      "metadata": {
        "colab": {
          "base_uri": "https://localhost:8080/"
        },
        "id": "uzTR1DSNWDh7",
        "outputId": "e30d463d-7931-46f8-d827-ae811ffe2dc1"
      },
      "outputs": [
        {
          "output_type": "execute_result",
          "data": {
            "text/plain": [
              "2.0    4697\n",
              "1.0    1530\n",
              "9.0       2\n",
              "Name: SLQ050, dtype: int64"
            ]
          },
          "metadata": {},
          "execution_count": 6
        }
      ],
      "source": [
        "# Counts the number of samples per catagory\n",
        "data[\"SLQ050\"].value_counts()"
      ]
    },
    {
      "cell_type": "code",
      "execution_count": null,
      "metadata": {
        "colab": {
          "base_uri": "https://localhost:8080/"
        },
        "id": "M6v_JvRqWDo5",
        "outputId": "710ba1c3-5f4e-4539-f0dd-592595e04d9c"
      },
      "outputs": [
        {
          "output_type": "execute_result",
          "data": {
            "text/plain": [
              "2.0    5649\n",
              "1.0     567\n",
              "9.0      13\n",
              "Name: SLQ060, dtype: int64"
            ]
          },
          "metadata": {},
          "execution_count": 7
        }
      ],
      "source": [
        "# Counts the number of samples per catagory\n",
        "data[\"SLQ060\"].value_counts()"
      ]
    },
    {
      "cell_type": "code",
      "execution_count": null,
      "metadata": {
        "colab": {
          "base_uri": "https://localhost:8080/"
        },
        "id": "s5CyNc_pWkbD",
        "outputId": "a988c1f3-869d-4a42-d3f4-1390ab1f998e"
      },
      "outputs": [
        {
          "output_type": "execute_result",
          "data": {
            "text/plain": [
              "1766"
            ]
          },
          "metadata": {},
          "execution_count": 8
        }
      ],
      "source": [
        "# Counts the number of unique catagories\n",
        "len(data.axes[1])"
      ]
    },
    {
      "cell_type": "code",
      "execution_count": null,
      "metadata": {
        "colab": {
          "base_uri": "https://localhost:8080/"
        },
        "id": "R00TE_PnaghF",
        "outputId": "a073bcb9-ec48-4eb3-8260-c41756906cd6"
      },
      "outputs": [
        {
          "output_type": "execute_result",
          "data": {
            "text/plain": [
              "SEQN           0\n",
              "URXUMA      1761\n",
              "URXUMS      1761\n",
              "URXUCR.x    1761\n",
              "URXCRS      1761\n",
              "            ... \n",
              "WHD140      3934\n",
              "WHQ150      4013\n",
              "WHQ030M     8389\n",
              "WHQ500      8389\n",
              "WHQ520      8389\n",
              "Length: 1766, dtype: int64"
            ]
          },
          "metadata": {},
          "execution_count": 9
        }
      ],
      "source": [
        "# Counts the number of null values\n",
        "data.isnull().sum()"
      ]
    },
    {
      "cell_type": "code",
      "execution_count": null,
      "metadata": {
        "colab": {
          "base_uri": "https://localhost:8080/",
          "height": 444
        },
        "id": "_DhFj3RvL4fb",
        "outputId": "c1118308-e0d4-4a45-ba61-8dc35dbb2654"
      },
      "outputs": [
        {
          "output_type": "execute_result",
          "data": {
            "text/plain": [
              "       SEQN URXUMA URXUMS URXUCR.x   URXCRS  URDACT     WTSAF2YR.x LBXAPB  \\\n",
              "0     73557    4.3    4.3     39.0   3447.6   11.03                         \n",
              "1     73558  153.0  153.0     50.0   4420.0   306.0                         \n",
              "2     73559   11.9   11.9    113.0   9989.2   10.53  142196.890197   57.0   \n",
              "3     73560   16.0   16.0     76.0   6718.4   21.05                         \n",
              "4     73561  255.0  255.0    147.0  12994.8  173.47  142266.006548   92.0   \n",
              "...     ...    ...    ...      ...      ...     ...            ...    ...   \n",
              "9808  83727    1.9    1.9     47.0   4154.8    4.04   67775.162806   88.0   \n",
              "9809  83728                                                                 \n",
              "9810  83729    6.0    6.0    117.0  10342.8    5.13                         \n",
              "9811  83730    4.5    4.5     86.0   7602.4    5.23                         \n",
              "9812  83731    5.3    5.3    114.0  10077.6    4.65                         \n",
              "\n",
              "     LBXSAL LBXSBU  ... WHD080U WHD080L WHD110 WHD120 WHD130 WHD140 WHQ150  \\\n",
              "0       4.1   10.0  ...            40.0  270.0  200.0   69.0  270.0   62.0   \n",
              "1       4.7   16.0  ...                  240.0  250.0   72.0  250.0   25.0   \n",
              "2       3.7   14.0  ...                  180.0  190.0   70.0  228.0   35.0   \n",
              "3                   ...                                                      \n",
              "4       4.3   31.0  ...                  150.0  135.0   67.0  170.0   60.0   \n",
              "...     ...    ...  ...     ...     ...    ...    ...    ...    ...    ...   \n",
              "9808    4.9   13.0  ...                  130.0  122.0         168.0   48.0   \n",
              "9809                ...                                                      \n",
              "9810    4.1   10.0  ...                         210.0         260.0   20.0   \n",
              "9811                ...                  120.0  100.0         125.0   42.0   \n",
              "9812                ...                  113.0  120.0   66.0  150.0   18.0   \n",
              "\n",
              "     WHQ030M WHQ500 WHQ520  \n",
              "0                           \n",
              "1                           \n",
              "2                           \n",
              "3        3.0    3.0    3.0  \n",
              "4                           \n",
              "...      ...    ...    ...  \n",
              "9808                        \n",
              "9809                        \n",
              "9810                        \n",
              "9811                        \n",
              "9812                        \n",
              "\n",
              "[9813 rows x 1766 columns]"
            ],
            "text/html": [
              "\n",
              "  <div id=\"df-e792ecce-9bf2-4ee4-ba3b-3b93583afb8f\" class=\"colab-df-container\">\n",
              "    <div>\n",
              "<style scoped>\n",
              "    .dataframe tbody tr th:only-of-type {\n",
              "        vertical-align: middle;\n",
              "    }\n",
              "\n",
              "    .dataframe tbody tr th {\n",
              "        vertical-align: top;\n",
              "    }\n",
              "\n",
              "    .dataframe thead th {\n",
              "        text-align: right;\n",
              "    }\n",
              "</style>\n",
              "<table border=\"1\" class=\"dataframe\">\n",
              "  <thead>\n",
              "    <tr style=\"text-align: right;\">\n",
              "      <th></th>\n",
              "      <th>SEQN</th>\n",
              "      <th>URXUMA</th>\n",
              "      <th>URXUMS</th>\n",
              "      <th>URXUCR.x</th>\n",
              "      <th>URXCRS</th>\n",
              "      <th>URDACT</th>\n",
              "      <th>WTSAF2YR.x</th>\n",
              "      <th>LBXAPB</th>\n",
              "      <th>LBXSAL</th>\n",
              "      <th>LBXSBU</th>\n",
              "      <th>...</th>\n",
              "      <th>WHD080U</th>\n",
              "      <th>WHD080L</th>\n",
              "      <th>WHD110</th>\n",
              "      <th>WHD120</th>\n",
              "      <th>WHD130</th>\n",
              "      <th>WHD140</th>\n",
              "      <th>WHQ150</th>\n",
              "      <th>WHQ030M</th>\n",
              "      <th>WHQ500</th>\n",
              "      <th>WHQ520</th>\n",
              "    </tr>\n",
              "  </thead>\n",
              "  <tbody>\n",
              "    <tr>\n",
              "      <th>0</th>\n",
              "      <td>73557</td>\n",
              "      <td>4.3</td>\n",
              "      <td>4.3</td>\n",
              "      <td>39.0</td>\n",
              "      <td>3447.6</td>\n",
              "      <td>11.03</td>\n",
              "      <td></td>\n",
              "      <td></td>\n",
              "      <td>4.1</td>\n",
              "      <td>10.0</td>\n",
              "      <td>...</td>\n",
              "      <td></td>\n",
              "      <td>40.0</td>\n",
              "      <td>270.0</td>\n",
              "      <td>200.0</td>\n",
              "      <td>69.0</td>\n",
              "      <td>270.0</td>\n",
              "      <td>62.0</td>\n",
              "      <td></td>\n",
              "      <td></td>\n",
              "      <td></td>\n",
              "    </tr>\n",
              "    <tr>\n",
              "      <th>1</th>\n",
              "      <td>73558</td>\n",
              "      <td>153.0</td>\n",
              "      <td>153.0</td>\n",
              "      <td>50.0</td>\n",
              "      <td>4420.0</td>\n",
              "      <td>306.0</td>\n",
              "      <td></td>\n",
              "      <td></td>\n",
              "      <td>4.7</td>\n",
              "      <td>16.0</td>\n",
              "      <td>...</td>\n",
              "      <td></td>\n",
              "      <td></td>\n",
              "      <td>240.0</td>\n",
              "      <td>250.0</td>\n",
              "      <td>72.0</td>\n",
              "      <td>250.0</td>\n",
              "      <td>25.0</td>\n",
              "      <td></td>\n",
              "      <td></td>\n",
              "      <td></td>\n",
              "    </tr>\n",
              "    <tr>\n",
              "      <th>2</th>\n",
              "      <td>73559</td>\n",
              "      <td>11.9</td>\n",
              "      <td>11.9</td>\n",
              "      <td>113.0</td>\n",
              "      <td>9989.2</td>\n",
              "      <td>10.53</td>\n",
              "      <td>142196.890197</td>\n",
              "      <td>57.0</td>\n",
              "      <td>3.7</td>\n",
              "      <td>14.0</td>\n",
              "      <td>...</td>\n",
              "      <td></td>\n",
              "      <td></td>\n",
              "      <td>180.0</td>\n",
              "      <td>190.0</td>\n",
              "      <td>70.0</td>\n",
              "      <td>228.0</td>\n",
              "      <td>35.0</td>\n",
              "      <td></td>\n",
              "      <td></td>\n",
              "      <td></td>\n",
              "    </tr>\n",
              "    <tr>\n",
              "      <th>3</th>\n",
              "      <td>73560</td>\n",
              "      <td>16.0</td>\n",
              "      <td>16.0</td>\n",
              "      <td>76.0</td>\n",
              "      <td>6718.4</td>\n",
              "      <td>21.05</td>\n",
              "      <td></td>\n",
              "      <td></td>\n",
              "      <td></td>\n",
              "      <td></td>\n",
              "      <td>...</td>\n",
              "      <td></td>\n",
              "      <td></td>\n",
              "      <td></td>\n",
              "      <td></td>\n",
              "      <td></td>\n",
              "      <td></td>\n",
              "      <td></td>\n",
              "      <td>3.0</td>\n",
              "      <td>3.0</td>\n",
              "      <td>3.0</td>\n",
              "    </tr>\n",
              "    <tr>\n",
              "      <th>4</th>\n",
              "      <td>73561</td>\n",
              "      <td>255.0</td>\n",
              "      <td>255.0</td>\n",
              "      <td>147.0</td>\n",
              "      <td>12994.8</td>\n",
              "      <td>173.47</td>\n",
              "      <td>142266.006548</td>\n",
              "      <td>92.0</td>\n",
              "      <td>4.3</td>\n",
              "      <td>31.0</td>\n",
              "      <td>...</td>\n",
              "      <td></td>\n",
              "      <td></td>\n",
              "      <td>150.0</td>\n",
              "      <td>135.0</td>\n",
              "      <td>67.0</td>\n",
              "      <td>170.0</td>\n",
              "      <td>60.0</td>\n",
              "      <td></td>\n",
              "      <td></td>\n",
              "      <td></td>\n",
              "    </tr>\n",
              "    <tr>\n",
              "      <th>...</th>\n",
              "      <td>...</td>\n",
              "      <td>...</td>\n",
              "      <td>...</td>\n",
              "      <td>...</td>\n",
              "      <td>...</td>\n",
              "      <td>...</td>\n",
              "      <td>...</td>\n",
              "      <td>...</td>\n",
              "      <td>...</td>\n",
              "      <td>...</td>\n",
              "      <td>...</td>\n",
              "      <td>...</td>\n",
              "      <td>...</td>\n",
              "      <td>...</td>\n",
              "      <td>...</td>\n",
              "      <td>...</td>\n",
              "      <td>...</td>\n",
              "      <td>...</td>\n",
              "      <td>...</td>\n",
              "      <td>...</td>\n",
              "      <td>...</td>\n",
              "    </tr>\n",
              "    <tr>\n",
              "      <th>9808</th>\n",
              "      <td>83727</td>\n",
              "      <td>1.9</td>\n",
              "      <td>1.9</td>\n",
              "      <td>47.0</td>\n",
              "      <td>4154.8</td>\n",
              "      <td>4.04</td>\n",
              "      <td>67775.162806</td>\n",
              "      <td>88.0</td>\n",
              "      <td>4.9</td>\n",
              "      <td>13.0</td>\n",
              "      <td>...</td>\n",
              "      <td></td>\n",
              "      <td></td>\n",
              "      <td>130.0</td>\n",
              "      <td>122.0</td>\n",
              "      <td></td>\n",
              "      <td>168.0</td>\n",
              "      <td>48.0</td>\n",
              "      <td></td>\n",
              "      <td></td>\n",
              "      <td></td>\n",
              "    </tr>\n",
              "    <tr>\n",
              "      <th>9809</th>\n",
              "      <td>83728</td>\n",
              "      <td></td>\n",
              "      <td></td>\n",
              "      <td></td>\n",
              "      <td></td>\n",
              "      <td></td>\n",
              "      <td></td>\n",
              "      <td></td>\n",
              "      <td></td>\n",
              "      <td></td>\n",
              "      <td>...</td>\n",
              "      <td></td>\n",
              "      <td></td>\n",
              "      <td></td>\n",
              "      <td></td>\n",
              "      <td></td>\n",
              "      <td></td>\n",
              "      <td></td>\n",
              "      <td></td>\n",
              "      <td></td>\n",
              "      <td></td>\n",
              "    </tr>\n",
              "    <tr>\n",
              "      <th>9810</th>\n",
              "      <td>83729</td>\n",
              "      <td>6.0</td>\n",
              "      <td>6.0</td>\n",
              "      <td>117.0</td>\n",
              "      <td>10342.8</td>\n",
              "      <td>5.13</td>\n",
              "      <td></td>\n",
              "      <td></td>\n",
              "      <td>4.1</td>\n",
              "      <td>10.0</td>\n",
              "      <td>...</td>\n",
              "      <td></td>\n",
              "      <td></td>\n",
              "      <td></td>\n",
              "      <td>210.0</td>\n",
              "      <td></td>\n",
              "      <td>260.0</td>\n",
              "      <td>20.0</td>\n",
              "      <td></td>\n",
              "      <td></td>\n",
              "      <td></td>\n",
              "    </tr>\n",
              "    <tr>\n",
              "      <th>9811</th>\n",
              "      <td>83730</td>\n",
              "      <td>4.5</td>\n",
              "      <td>4.5</td>\n",
              "      <td>86.0</td>\n",
              "      <td>7602.4</td>\n",
              "      <td>5.23</td>\n",
              "      <td></td>\n",
              "      <td></td>\n",
              "      <td></td>\n",
              "      <td></td>\n",
              "      <td>...</td>\n",
              "      <td></td>\n",
              "      <td></td>\n",
              "      <td>120.0</td>\n",
              "      <td>100.0</td>\n",
              "      <td></td>\n",
              "      <td>125.0</td>\n",
              "      <td>42.0</td>\n",
              "      <td></td>\n",
              "      <td></td>\n",
              "      <td></td>\n",
              "    </tr>\n",
              "    <tr>\n",
              "      <th>9812</th>\n",
              "      <td>83731</td>\n",
              "      <td>5.3</td>\n",
              "      <td>5.3</td>\n",
              "      <td>114.0</td>\n",
              "      <td>10077.6</td>\n",
              "      <td>4.65</td>\n",
              "      <td></td>\n",
              "      <td></td>\n",
              "      <td></td>\n",
              "      <td></td>\n",
              "      <td>...</td>\n",
              "      <td></td>\n",
              "      <td></td>\n",
              "      <td>113.0</td>\n",
              "      <td>120.0</td>\n",
              "      <td>66.0</td>\n",
              "      <td>150.0</td>\n",
              "      <td>18.0</td>\n",
              "      <td></td>\n",
              "      <td></td>\n",
              "      <td></td>\n",
              "    </tr>\n",
              "  </tbody>\n",
              "</table>\n",
              "<p>9813 rows × 1766 columns</p>\n",
              "</div>\n",
              "    <div class=\"colab-df-buttons\">\n",
              "\n",
              "  <div class=\"colab-df-container\">\n",
              "    <button class=\"colab-df-convert\" onclick=\"convertToInteractive('df-e792ecce-9bf2-4ee4-ba3b-3b93583afb8f')\"\n",
              "            title=\"Convert this dataframe to an interactive table.\"\n",
              "            style=\"display:none;\">\n",
              "\n",
              "  <svg xmlns=\"http://www.w3.org/2000/svg\" height=\"24px\" viewBox=\"0 -960 960 960\">\n",
              "    <path d=\"M120-120v-720h720v720H120Zm60-500h600v-160H180v160Zm220 220h160v-160H400v160Zm0 220h160v-160H400v160ZM180-400h160v-160H180v160Zm440 0h160v-160H620v160ZM180-180h160v-160H180v160Zm440 0h160v-160H620v160Z\"/>\n",
              "  </svg>\n",
              "    </button>\n",
              "\n",
              "  <style>\n",
              "    .colab-df-container {\n",
              "      display:flex;\n",
              "      gap: 12px;\n",
              "    }\n",
              "\n",
              "    .colab-df-convert {\n",
              "      background-color: #E8F0FE;\n",
              "      border: none;\n",
              "      border-radius: 50%;\n",
              "      cursor: pointer;\n",
              "      display: none;\n",
              "      fill: #1967D2;\n",
              "      height: 32px;\n",
              "      padding: 0 0 0 0;\n",
              "      width: 32px;\n",
              "    }\n",
              "\n",
              "    .colab-df-convert:hover {\n",
              "      background-color: #E2EBFA;\n",
              "      box-shadow: 0px 1px 2px rgba(60, 64, 67, 0.3), 0px 1px 3px 1px rgba(60, 64, 67, 0.15);\n",
              "      fill: #174EA6;\n",
              "    }\n",
              "\n",
              "    .colab-df-buttons div {\n",
              "      margin-bottom: 4px;\n",
              "    }\n",
              "\n",
              "    [theme=dark] .colab-df-convert {\n",
              "      background-color: #3B4455;\n",
              "      fill: #D2E3FC;\n",
              "    }\n",
              "\n",
              "    [theme=dark] .colab-df-convert:hover {\n",
              "      background-color: #434B5C;\n",
              "      box-shadow: 0px 1px 3px 1px rgba(0, 0, 0, 0.15);\n",
              "      filter: drop-shadow(0px 1px 2px rgba(0, 0, 0, 0.3));\n",
              "      fill: #FFFFFF;\n",
              "    }\n",
              "  </style>\n",
              "\n",
              "    <script>\n",
              "      const buttonEl =\n",
              "        document.querySelector('#df-e792ecce-9bf2-4ee4-ba3b-3b93583afb8f button.colab-df-convert');\n",
              "      buttonEl.style.display =\n",
              "        google.colab.kernel.accessAllowed ? 'block' : 'none';\n",
              "\n",
              "      async function convertToInteractive(key) {\n",
              "        const element = document.querySelector('#df-e792ecce-9bf2-4ee4-ba3b-3b93583afb8f');\n",
              "        const dataTable =\n",
              "          await google.colab.kernel.invokeFunction('convertToInteractive',\n",
              "                                                    [key], {});\n",
              "        if (!dataTable) return;\n",
              "\n",
              "        const docLinkHtml = 'Like what you see? Visit the ' +\n",
              "          '<a target=\"_blank\" href=https://colab.research.google.com/notebooks/data_table.ipynb>data table notebook</a>'\n",
              "          + ' to learn more about interactive tables.';\n",
              "        element.innerHTML = '';\n",
              "        dataTable['output_type'] = 'display_data';\n",
              "        await google.colab.output.renderOutput(dataTable, element);\n",
              "        const docLink = document.createElement('div');\n",
              "        docLink.innerHTML = docLinkHtml;\n",
              "        element.appendChild(docLink);\n",
              "      }\n",
              "    </script>\n",
              "  </div>\n",
              "\n",
              "\n",
              "<div id=\"df-860548a2-592a-4725-baf1-7e65c2b503fd\">\n",
              "  <button class=\"colab-df-quickchart\" onclick=\"quickchart('df-860548a2-592a-4725-baf1-7e65c2b503fd')\"\n",
              "            title=\"Suggest charts.\"\n",
              "            style=\"display:none;\">\n",
              "\n",
              "<svg xmlns=\"http://www.w3.org/2000/svg\" height=\"24px\"viewBox=\"0 0 24 24\"\n",
              "     width=\"24px\">\n",
              "    <g>\n",
              "        <path d=\"M19 3H5c-1.1 0-2 .9-2 2v14c0 1.1.9 2 2 2h14c1.1 0 2-.9 2-2V5c0-1.1-.9-2-2-2zM9 17H7v-7h2v7zm4 0h-2V7h2v10zm4 0h-2v-4h2v4z\"/>\n",
              "    </g>\n",
              "</svg>\n",
              "  </button>\n",
              "\n",
              "<style>\n",
              "  .colab-df-quickchart {\n",
              "      --bg-color: #E8F0FE;\n",
              "      --fill-color: #1967D2;\n",
              "      --hover-bg-color: #E2EBFA;\n",
              "      --hover-fill-color: #174EA6;\n",
              "      --disabled-fill-color: #AAA;\n",
              "      --disabled-bg-color: #DDD;\n",
              "  }\n",
              "\n",
              "  [theme=dark] .colab-df-quickchart {\n",
              "      --bg-color: #3B4455;\n",
              "      --fill-color: #D2E3FC;\n",
              "      --hover-bg-color: #434B5C;\n",
              "      --hover-fill-color: #FFFFFF;\n",
              "      --disabled-bg-color: #3B4455;\n",
              "      --disabled-fill-color: #666;\n",
              "  }\n",
              "\n",
              "  .colab-df-quickchart {\n",
              "    background-color: var(--bg-color);\n",
              "    border: none;\n",
              "    border-radius: 50%;\n",
              "    cursor: pointer;\n",
              "    display: none;\n",
              "    fill: var(--fill-color);\n",
              "    height: 32px;\n",
              "    padding: 0;\n",
              "    width: 32px;\n",
              "  }\n",
              "\n",
              "  .colab-df-quickchart:hover {\n",
              "    background-color: var(--hover-bg-color);\n",
              "    box-shadow: 0 1px 2px rgba(60, 64, 67, 0.3), 0 1px 3px 1px rgba(60, 64, 67, 0.15);\n",
              "    fill: var(--button-hover-fill-color);\n",
              "  }\n",
              "\n",
              "  .colab-df-quickchart-complete:disabled,\n",
              "  .colab-df-quickchart-complete:disabled:hover {\n",
              "    background-color: var(--disabled-bg-color);\n",
              "    fill: var(--disabled-fill-color);\n",
              "    box-shadow: none;\n",
              "  }\n",
              "\n",
              "  .colab-df-spinner {\n",
              "    border: 2px solid var(--fill-color);\n",
              "    border-color: transparent;\n",
              "    border-bottom-color: var(--fill-color);\n",
              "    animation:\n",
              "      spin 1s steps(1) infinite;\n",
              "  }\n",
              "\n",
              "  @keyframes spin {\n",
              "    0% {\n",
              "      border-color: transparent;\n",
              "      border-bottom-color: var(--fill-color);\n",
              "      border-left-color: var(--fill-color);\n",
              "    }\n",
              "    20% {\n",
              "      border-color: transparent;\n",
              "      border-left-color: var(--fill-color);\n",
              "      border-top-color: var(--fill-color);\n",
              "    }\n",
              "    30% {\n",
              "      border-color: transparent;\n",
              "      border-left-color: var(--fill-color);\n",
              "      border-top-color: var(--fill-color);\n",
              "      border-right-color: var(--fill-color);\n",
              "    }\n",
              "    40% {\n",
              "      border-color: transparent;\n",
              "      border-right-color: var(--fill-color);\n",
              "      border-top-color: var(--fill-color);\n",
              "    }\n",
              "    60% {\n",
              "      border-color: transparent;\n",
              "      border-right-color: var(--fill-color);\n",
              "    }\n",
              "    80% {\n",
              "      border-color: transparent;\n",
              "      border-right-color: var(--fill-color);\n",
              "      border-bottom-color: var(--fill-color);\n",
              "    }\n",
              "    90% {\n",
              "      border-color: transparent;\n",
              "      border-bottom-color: var(--fill-color);\n",
              "    }\n",
              "  }\n",
              "</style>\n",
              "\n",
              "  <script>\n",
              "    async function quickchart(key) {\n",
              "      const quickchartButtonEl =\n",
              "        document.querySelector('#' + key + ' button');\n",
              "      quickchartButtonEl.disabled = true;  // To prevent multiple clicks.\n",
              "      quickchartButtonEl.classList.add('colab-df-spinner');\n",
              "      try {\n",
              "        const charts = await google.colab.kernel.invokeFunction(\n",
              "            'suggestCharts', [key], {});\n",
              "      } catch (error) {\n",
              "        console.error('Error during call to suggestCharts:', error);\n",
              "      }\n",
              "      quickchartButtonEl.classList.remove('colab-df-spinner');\n",
              "      quickchartButtonEl.classList.add('colab-df-quickchart-complete');\n",
              "    }\n",
              "    (() => {\n",
              "      let quickchartButtonEl =\n",
              "        document.querySelector('#df-860548a2-592a-4725-baf1-7e65c2b503fd button');\n",
              "      quickchartButtonEl.style.display =\n",
              "        google.colab.kernel.accessAllowed ? 'block' : 'none';\n",
              "    })();\n",
              "  </script>\n",
              "</div>\n",
              "    </div>\n",
              "  </div>\n"
            ]
          },
          "metadata": {},
          "execution_count": 10
        }
      ],
      "source": [
        "# Fill all null values with a space charachters\n",
        "# Fixes the unreasonable responses for sleep\n",
        "data.SLD010H[data.SLD010H > 24] = np.NaN\n",
        "data.fillna(\" \")\n"
      ]
    },
    {
      "cell_type": "code",
      "execution_count": null,
      "metadata": {
        "colab": {
          "base_uri": "https://localhost:8080/"
        },
        "id": "DojOVWh9pk3D",
        "outputId": "37688d26-7387-4bbf-d237-40c92c9b8182"
      },
      "outputs": [
        {
          "output_type": "stream",
          "name": "stdout",
          "text": [
            "['Healthy', 'Healthy', 'Healthy', 'Healthy', 'Unhealthy', 'Healthy', 'Healthy', 'Unhealthy', 'Healthy', 'Healthy', 'Unhealthy', 'Healthy', 'Healthy', 'Healthy', 'Healthy', 'Healthy', 'Healthy', 'Healthy', 'Unhealthy', 'Healthy', 'Healthy', 'Healthy', 'Unhealthy', 'Healthy', 'Unhealthy', 'Healthy', 'Healthy', 'Healthy', 'Healthy', 'Healthy', 'Unhealthy', 'Healthy', 'Unhealthy', 'Unhealthy', 'Unhealthy', 'Healthy', 'Unhealthy', 'Healthy', 'Healthy', 'Healthy', 'Healthy', 'Healthy', 'Unhealthy', 'Healthy', 'Unhealthy', 'Healthy', 'Healthy', 'Healthy', 'Unhealthy', 'Unhealthy', 'Healthy', 'Unhealthy', 'Healthy', 'Healthy', 'Healthy', 'Unhealthy', 'Healthy', 'Healthy', 'Unhealthy', 'Healthy', 'Healthy', 'Healthy', 'Unhealthy', 'Unhealthy', 'Unhealthy', 'Healthy', 'Unhealthy', 'Unhealthy', 'Healthy', 'Healthy', 'Unhealthy', 'Healthy', 'Unhealthy', 'Healthy', 'Healthy', 'Healthy', 'Healthy', 'Healthy', 'Healthy', 'Healthy', 'Healthy', 'Unhealthy', 'Healthy', 'Healthy', 'Unhealthy', 'Healthy', 'Healthy', 'Healthy', 'Healthy', 'Healthy', 'Unhealthy', 'Unhealthy', 'Healthy', 'Healthy', 'Healthy', 'Unhealthy', 'Unhealthy', 'Unhealthy', 'Unhealthy', 'Healthy', 'Healthy', 'Unhealthy', 'Healthy', 'Healthy', 'Healthy', 'Unhealthy', 'Unhealthy', 'Healthy', 'Healthy', 'Healthy', 'Healthy', 'Healthy', 'Unhealthy', 'Healthy', 'Healthy', 'Healthy', 'Healthy', 'Healthy', 'Healthy', 'Healthy', 'Unhealthy', 'Unhealthy', 'Healthy', 'Unhealthy', 'Unhealthy', 'Healthy', 'Healthy', 'Healthy', 'Healthy', 'Unhealthy', 'Unhealthy', 'Unhealthy', 'Unhealthy', 'Healthy', 'Unhealthy', 'Unhealthy', 'Healthy', 'Healthy', 'Unhealthy', 'Healthy', 'Healthy', 'Unhealthy', 'Unhealthy', 'Healthy', 'Healthy', 'Healthy', 'Healthy', 'Healthy', 'Unhealthy', 'Healthy', 'Healthy', 'Healthy', 'Healthy', 'Unhealthy', 'Healthy', 'Unhealthy', 'Healthy', 'Healthy', 'Unhealthy', 'Healthy', 'Healthy', 'Healthy', 'Unhealthy', 'Healthy', 'Unhealthy', 'Unhealthy', 'Healthy', 'Healthy', 'Healthy', 'Healthy', 'Healthy', 'Healthy', 'Unhealthy', 'Healthy', 'Unhealthy', 'Healthy', 'Unhealthy', 'Healthy', 'Unhealthy', 'Healthy', 'Healthy', 'Unhealthy', 'Healthy', 'Healthy', 'Unhealthy', 'Healthy', 'Unhealthy', 'Healthy', 'Healthy', 'Healthy', 'Unhealthy', 'Healthy', 'Unhealthy', 'Unhealthy', 'Healthy', 'Unhealthy', 'Unhealthy', 'Unhealthy', 'Healthy', 'Unhealthy', 'Healthy', 'Healthy', 'Healthy', 'Healthy', 'Healthy', 'Healthy', 'Healthy', 'Healthy', 'Unhealthy', 'Healthy', 'Unhealthy', 'Healthy', 'Unhealthy', 'Unhealthy', 'Unhealthy', 'Healthy', 'Healthy', 'Healthy', 'Unhealthy', 'Unhealthy', 'Healthy', 'Healthy', 'Healthy', 'Unhealthy', 'Unhealthy', 'Healthy', 'Healthy', 'Healthy', 'Healthy', 'Unhealthy', 'Healthy', 'Healthy', 'Healthy', 'Healthy', 'Healthy', 'Healthy', 'Unhealthy', 'Healthy', 'Unhealthy', 'Unhealthy', 'Unhealthy', 'Unhealthy', 'Healthy', 'Healthy', 'Unhealthy', 'Healthy', 'Healthy', 'Unhealthy', 'Unhealthy', 'Healthy', 'Healthy', 'Unhealthy', 'Unhealthy', 'Healthy', 'Unhealthy', 'Healthy', 'Healthy', 'Unhealthy', 'Healthy', 'Unhealthy', 'Unhealthy', 'Healthy', 'Unhealthy', 'Healthy', 'Unhealthy', 'Healthy', 'Healthy', 'Healthy', 'Healthy', 'Healthy', 'Unhealthy', 'Healthy', 'Unhealthy', 'Healthy', 'Healthy', 'Unhealthy', 'Healthy', 'Unhealthy', 'Healthy', 'Healthy', 'Healthy', 'Healthy', 'Healthy', 'Healthy', 'Unhealthy', 'Unhealthy', 'Healthy', 'Healthy', 'Healthy', 'Unhealthy', 'Unhealthy', 'Unhealthy', 'Unhealthy', 'Healthy', 'Healthy', 'Healthy', 'Healthy', 'Healthy', 'Unhealthy', 'Healthy', 'Unhealthy', 'Healthy', 'Healthy', 'Unhealthy', 'Unhealthy', 'Unhealthy', 'Healthy', 'Unhealthy', 'Healthy', 'Unhealthy', 'Unhealthy', 'Unhealthy', 'Unhealthy', 'Healthy', 'Healthy', 'Healthy', 'Healthy', 'Healthy', 'Healthy', 'Unhealthy', 'Unhealthy', 'Unhealthy', 'Unhealthy', 'Unhealthy', 'Healthy', 'Healthy', 'Healthy', 'Unhealthy', 'Healthy', 'Unhealthy', 'Unhealthy', 'Healthy', 'Healthy', 'Healthy', 'Unhealthy', 'Healthy', 'Unhealthy', 'Healthy', 'Healthy', 'Healthy', 'Unhealthy', 'Unhealthy', 'Healthy', 'Healthy', 'Healthy', 'Unhealthy', 'Unhealthy', 'Healthy', 'Healthy', 'Healthy', 'Unhealthy', 'Healthy', 'Healthy', 'Unhealthy', 'Healthy', 'Healthy', 'Healthy', 'Unhealthy', 'Unhealthy', 'Unhealthy', 'Healthy', 'Healthy', 'Healthy', 'Healthy', 'Unhealthy', 'Unhealthy', 'Healthy', 'Unhealthy', 'Healthy', 'Healthy', 'Healthy', 'Healthy', 'Healthy', 'Healthy', 'Unhealthy', 'Unhealthy', 'Unhealthy', 'Healthy', 'Healthy', 'Healthy', 'Unhealthy', 'Healthy', 'Unhealthy', 'Healthy', 'Healthy', 'Healthy', 'Healthy', 'Unhealthy', 'Unhealthy', 'Healthy', 'Healthy', 'Healthy', 'Unhealthy', 'Unhealthy', 'Healthy', 'Healthy', 'Healthy', 'Unhealthy', 'Healthy', 'Healthy', 'Unhealthy', 'Healthy', 'Healthy', 'Healthy', 'Healthy', 'Unhealthy', 'Healthy', 'Unhealthy', 'Healthy', 'Healthy', 'Healthy', 'Healthy', 'Unhealthy', 'Healthy', 'Unhealthy', 'Healthy', 'Healthy', 'Healthy', 'Unhealthy', 'Healthy', 'Healthy', 'Unhealthy', 'Healthy', 'Healthy', 'Unhealthy', 'Unhealthy', 'Unhealthy', 'Unhealthy', 'Unhealthy', 'Healthy', 'Healthy', 'Unhealthy', 'Healthy', 'Healthy', 'Healthy', 'Healthy', 'Healthy', 'Unhealthy', 'Healthy', 'Healthy', 'Healthy', 'Healthy', 'Healthy', 'Healthy', 'Unhealthy', 'Healthy', 'Healthy', 'Unhealthy', 'Unhealthy', 'Healthy', 'Healthy', 'Unhealthy', 'Healthy', 'Healthy', 'Healthy', 'Unhealthy', 'Unhealthy', 'Healthy', 'Healthy', 'Healthy', 'Healthy', 'Healthy', 'Healthy', 'Healthy', 'Healthy', 'Healthy', 'Healthy', 'Unhealthy', 'Unhealthy', 'Healthy', 'Unhealthy', 'Healthy', 'Unhealthy', 'Unhealthy', 'Healthy', 'Unhealthy', 'Healthy', 'Unhealthy', 'Healthy', 'Unhealthy', 'Healthy', 'Unhealthy', 'Healthy', 'Healthy', 'Healthy', 'Healthy', 'Healthy', 'Healthy', 'Healthy', 'Unhealthy', 'Healthy', 'Healthy', 'Healthy', 'Healthy', 'Healthy', 'Healthy', 'Unhealthy', 'Healthy', 'Healthy', 'Unhealthy', 'Healthy', 'Healthy', 'Healthy', 'Healthy', 'Healthy', 'Healthy', 'Healthy', 'Healthy', 'Healthy', 'Healthy', 'Unhealthy', 'Unhealthy', 'Healthy', 'Unhealthy', 'Healthy', 'Unhealthy', 'Healthy', 'Healthy', 'Unhealthy', 'Unhealthy', 'Healthy', 'Unhealthy', 'Healthy', 'Unhealthy', 'Unhealthy', 'Unhealthy', 'Unhealthy', 'Healthy', 'Unhealthy', 'Healthy', 'Unhealthy', 'Healthy', 'Healthy', 'Unhealthy', 'Healthy', 'Healthy', 'Healthy', 'Healthy', 'Unhealthy', 'Healthy', 'Healthy', 'Healthy', 'Healthy', 'Unhealthy', 'Unhealthy', 'Healthy', 'Unhealthy', 'Healthy', 'Unhealthy', 'Unhealthy', 'Healthy', 'Healthy', 'Unhealthy', 'Healthy', 'Healthy', 'Healthy', 'Healthy', 'Healthy', 'Unhealthy', 'Healthy', 'Unhealthy', 'Healthy', 'Healthy', 'Healthy', 'Healthy', 'Unhealthy', 'Healthy', 'Healthy', 'Healthy', 'Healthy', 'Healthy', 'Unhealthy', 'Healthy', 'Healthy', 'Healthy', 'Unhealthy', 'Healthy', 'Unhealthy', 'Unhealthy', 'Healthy', 'Healthy', 'Healthy', 'Healthy', 'Healthy', 'Healthy', 'Unhealthy', 'Unhealthy', 'Healthy', 'Healthy', 'Healthy', 'Healthy', 'Healthy', 'Healthy', 'Unhealthy', 'Unhealthy', 'Healthy', 'Healthy', 'Healthy', 'Healthy', 'Healthy', 'Unhealthy', 'Unhealthy', 'Healthy', 'Healthy', 'Healthy', 'Healthy', 'Healthy', 'Unhealthy', 'Healthy', 'Unhealthy', 'Healthy', 'Unhealthy', 'Healthy', 'Healthy', 'Healthy', 'Healthy', 'Healthy', 'Healthy', 'Healthy', 'Healthy', 'Healthy', 'Unhealthy', 'Healthy', 'Healthy', 'Healthy', 'Healthy', 'Unhealthy', 'Healthy', 'Healthy', 'Healthy', 'Healthy', 'Healthy', 'Unhealthy', 'Healthy', 'Healthy', 'Healthy', 'Healthy', 'Healthy', 'Healthy', 'Healthy', 'Healthy', 'Unhealthy', 'Healthy', 'Unhealthy', 'Healthy', 'Healthy', 'Healthy', 'Healthy', 'Unhealthy', 'Unhealthy', 'Unhealthy', 'Unhealthy', 'Healthy', 'Unhealthy', 'Healthy', 'Healthy', 'Healthy', 'Healthy', 'Unhealthy', 'Healthy', 'Healthy', 'Healthy', 'Unhealthy', 'Healthy', 'Unhealthy', 'Unhealthy', 'Healthy', 'Healthy', 'Healthy', 'Unhealthy', 'Healthy', 'Healthy', 'Unhealthy', 'Healthy', 'Healthy', 'Unhealthy', 'Healthy', 'Healthy', 'Healthy', 'Unhealthy', 'Unhealthy', 'Healthy', 'Healthy', 'Healthy', 'Unhealthy', 'Unhealthy', 'Healthy', 'Healthy', 'Unhealthy', 'Unhealthy', 'Healthy', 'Healthy', 'Unhealthy', 'Healthy', 'Healthy', 'Unhealthy', 'Healthy', 'Unhealthy', 'Healthy', 'Healthy', 'Healthy', 'Healthy', 'Unhealthy', 'Healthy', 'Healthy', 'Healthy', 'Healthy', 'Unhealthy', 'Unhealthy', 'Healthy', 'Healthy', 'Healthy', 'Unhealthy', 'Healthy', 'Unhealthy', 'Healthy', 'Healthy', 'Healthy', 'Unhealthy', 'Healthy', 'Healthy', 'Healthy', 'Unhealthy', 'Unhealthy', 'Unhealthy', 'Healthy', 'Healthy', 'Unhealthy', 'Unhealthy', 'Unhealthy', 'Unhealthy', 'Healthy', 'Unhealthy', 'Healthy', 'Healthy', 'Healthy', 'Unhealthy', 'Healthy', 'Healthy', 'Unhealthy', 'Healthy', 'Healthy', 'Unhealthy', 'Healthy', 'Unhealthy', 'Unhealthy', 'Healthy', 'Unhealthy', 'Unhealthy', 'Unhealthy', 'Unhealthy', 'Healthy', 'Unhealthy', 'Healthy', 'Healthy', 'Unhealthy', 'Healthy', 'Healthy', 'Healthy', 'Unhealthy', 'Unhealthy', 'Healthy', 'Healthy', 'Healthy', 'Unhealthy', 'Unhealthy', 'Healthy', 'Healthy', 'Healthy', 'Healthy', 'Unhealthy', 'Unhealthy', 'Unhealthy', 'Healthy', 'Unhealthy', 'Unhealthy', 'Healthy', 'Healthy', 'Healthy', 'Unhealthy', 'Unhealthy', 'Unhealthy', 'Healthy', 'Healthy', 'Healthy', 'Healthy', 'Healthy', 'Healthy', 'Healthy', 'Unhealthy', 'Healthy', 'Healthy', 'Healthy', 'Healthy', 'Healthy', 'Healthy', 'Healthy', 'Healthy', 'Unhealthy', 'Unhealthy', 'Unhealthy', 'Healthy', 'Unhealthy', 'Healthy', 'Healthy', 'Healthy', 'Healthy', 'Unhealthy', 'Healthy', 'Unhealthy', 'Healthy', 'Unhealthy', 'Healthy', 'Healthy', 'Healthy', 'Healthy', 'Healthy', 'Healthy', 'Healthy', 'Unhealthy', 'Unhealthy', 'Healthy', 'Unhealthy', 'Healthy', 'Healthy', 'Healthy', 'Healthy', 'Healthy', 'Healthy', 'Unhealthy', 'Healthy', 'Unhealthy', 'Healthy', 'Healthy', 'Healthy', 'Healthy', 'Healthy', 'Healthy', 'Healthy', 'Healthy', 'Unhealthy', 'Healthy', 'Unhealthy', 'Healthy', 'Unhealthy', 'Unhealthy', 'Healthy', 'Unhealthy', 'Healthy', 'Healthy', 'Unhealthy', 'Healthy', 'Unhealthy', 'Healthy', 'Unhealthy', 'Unhealthy', 'Unhealthy', 'Healthy', 'Healthy', 'Healthy', 'Unhealthy', 'Healthy', 'Unhealthy', 'Unhealthy', 'Unhealthy', 'Healthy', 'Unhealthy', 'Healthy', 'Healthy', 'Healthy', 'Healthy', 'Healthy', 'Healthy', 'Healthy', 'Unhealthy', 'Healthy', 'Healthy', 'Healthy', 'Unhealthy', 'Healthy', 'Unhealthy', 'Healthy', 'Healthy', 'Unhealthy', 'Unhealthy', 'Healthy', 'Healthy', 'Unhealthy', 'Unhealthy', 'Healthy', 'Unhealthy', 'Healthy', 'Healthy', 'Healthy', 'Healthy', 'Unhealthy', 'Healthy', 'Unhealthy', 'Unhealthy', 'Unhealthy', 'Healthy', 'Unhealthy', 'Healthy', 'Healthy', 'Unhealthy', 'Healthy', 'Healthy', 'Healthy', 'Healthy', 'Unhealthy', 'Healthy', 'Healthy', 'Healthy', 'Unhealthy', 'Unhealthy', 'Healthy', 'Healthy', 'Healthy', 'Unhealthy', 'Unhealthy', 'Healthy', 'Healthy', 'Healthy', 'Healthy', 'Healthy', 'Healthy', 'Unhealthy', 'Unhealthy', 'Unhealthy', 'Healthy', 'Unhealthy', 'Healthy', 'Unhealthy', 'Healthy', 'Healthy', 'Healthy', 'Unhealthy', 'Unhealthy', 'Unhealthy', 'Healthy', 'Unhealthy', 'Healthy', 'Unhealthy', 'Healthy', 'Unhealthy', 'Healthy', 'Unhealthy', 'Healthy', 'Unhealthy', 'Healthy', 'Healthy', 'Unhealthy', 'Healthy', 'Unhealthy', 'Unhealthy', 'Unhealthy', 'Healthy', 'Unhealthy', 'Unhealthy', 'Healthy', 'Healthy', 'Unhealthy', 'Healthy', 'Healthy', 'Unhealthy', 'Healthy', 'Unhealthy', 'Healthy', 'Unhealthy', 'Healthy', 'Healthy', 'Unhealthy', 'Healthy', 'Healthy', 'Healthy', 'Unhealthy', 'Healthy', 'Unhealthy', 'Healthy', 'Healthy', 'Healthy', 'Healthy', 'Unhealthy', 'Healthy', 'Healthy', 'Unhealthy', 'Unhealthy', 'Healthy', 'Unhealthy', 'Healthy', 'Healthy', 'Unhealthy', 'Healthy', 'Unhealthy', 'Healthy', 'Healthy', 'Healthy', 'Healthy', 'Unhealthy', 'Healthy', 'Unhealthy', 'Healthy', 'Healthy', 'Unhealthy', 'Unhealthy', 'Unhealthy', 'Unhealthy', 'Healthy', 'Healthy', 'Unhealthy', 'Healthy', 'Healthy', 'Healthy', 'Unhealthy', 'Unhealthy', 'Healthy', 'Healthy', 'Healthy', 'Unhealthy', 'Unhealthy', 'Healthy', 'Healthy', 'Unhealthy', 'Healthy', 'Unhealthy', 'Healthy', 'Healthy', 'Unhealthy', 'Unhealthy', 'Healthy', 'Unhealthy', 'Healthy', 'Healthy', 'Unhealthy', 'Healthy', 'Healthy', 'Healthy', 'Healthy', 'Healthy', 'Healthy', 'Healthy', 'Healthy', 'Healthy', 'Healthy', 'Healthy', 'Healthy', 'Healthy', 'Unhealthy', 'Healthy', 'Healthy', 'Unhealthy', 'Healthy', 'Unhealthy', 'Healthy', 'Unhealthy', 'Unhealthy', 'Healthy', 'Unhealthy', 'Healthy', 'Unhealthy', 'Healthy', 'Healthy', 'Unhealthy', 'Unhealthy', 'Healthy', 'Healthy', 'Healthy', 'Unhealthy', 'Healthy', 'Healthy', 'Healthy', 'Healthy', 'Healthy', 'Healthy', 'Healthy', 'Healthy', 'Unhealthy', 'Unhealthy', 'Unhealthy', 'Unhealthy', 'Unhealthy', 'Healthy', 'Healthy', 'Healthy', 'Unhealthy', 'Healthy', 'Healthy', 'Healthy', 'Healthy', 'Unhealthy', 'Healthy', 'Healthy', 'Healthy', 'Healthy', 'Unhealthy', 'Healthy', 'Unhealthy', 'Healthy', 'Healthy', 'Healthy', 'Healthy', 'Unhealthy', 'Healthy', 'Healthy', 'Healthy', 'Healthy', 'Healthy', 'Healthy', 'Healthy', 'Healthy', 'Healthy', 'Healthy', 'Healthy', 'Unhealthy', 'Healthy', 'Healthy', 'Unhealthy', 'Healthy', 'Unhealthy', 'Unhealthy', 'Healthy', 'Healthy', 'Healthy', 'Unhealthy', 'Healthy', 'Healthy', 'Healthy', 'Healthy', 'Healthy', 'Healthy', 'Unhealthy', 'Unhealthy', 'Healthy', 'Healthy', 'Unhealthy', 'Unhealthy', 'Unhealthy', 'Healthy', 'Healthy', 'Healthy', 'Healthy', 'Healthy', 'Healthy', 'Healthy', 'Healthy', 'Healthy', 'Healthy', 'Unhealthy', 'Unhealthy', 'Healthy', 'Healthy', 'Healthy', 'Unhealthy', 'Unhealthy', 'Unhealthy', 'Healthy', 'Unhealthy', 'Healthy', 'Unhealthy', 'Unhealthy', 'Healthy', 'Healthy', 'Healthy', 'Healthy', 'Unhealthy', 'Healthy', 'Healthy', 'Unhealthy', 'Healthy', 'Healthy', 'Healthy', 'Healthy', 'Unhealthy', 'Healthy', 'Unhealthy', 'Healthy', 'Healthy', 'Unhealthy', 'Unhealthy', 'Healthy', 'Healthy', 'Healthy', 'Healthy', 'Unhealthy', 'Healthy', 'Unhealthy', 'Healthy', 'Healthy', 'Unhealthy', 'Healthy', 'Healthy', 'Healthy', 'Unhealthy', 'Healthy', 'Healthy', 'Unhealthy', 'Unhealthy', 'Healthy', 'Healthy', 'Unhealthy', 'Unhealthy', 'Healthy', 'Healthy', 'Healthy', 'Healthy', 'Healthy', 'Healthy', 'Healthy', 'Unhealthy', 'Healthy', 'Unhealthy', 'Unhealthy', 'Healthy', 'Unhealthy', 'Unhealthy', 'Healthy', 'Unhealthy', 'Unhealthy', 'Healthy', 'Unhealthy', 'Unhealthy', 'Healthy', 'Unhealthy', 'Healthy', 'Healthy', 'Healthy', 'Healthy', 'Unhealthy', 'Unhealthy', 'Healthy', 'Healthy', 'Unhealthy', 'Healthy', 'Unhealthy', 'Healthy', 'Healthy', 'Healthy', 'Healthy', 'Unhealthy', 'Unhealthy', 'Unhealthy', 'Unhealthy', 'Healthy', 'Unhealthy', 'Healthy', 'Unhealthy', 'Healthy', 'Unhealthy', 'Unhealthy', 'Healthy', 'Healthy', 'Healthy', 'Unhealthy', 'Healthy', 'Healthy', 'Healthy', 'Unhealthy', 'Healthy', 'Unhealthy', 'Healthy', 'Unhealthy', 'Healthy', 'Healthy', 'Unhealthy', 'Unhealthy', 'Healthy', 'Healthy', 'Healthy', 'Unhealthy', 'Unhealthy', 'Unhealthy', 'Healthy', 'Unhealthy', 'Healthy', 'Unhealthy', 'Healthy', 'Unhealthy', 'Healthy', 'Unhealthy', 'Unhealthy', 'Healthy', 'Unhealthy', 'Unhealthy', 'Healthy', 'Unhealthy', 'Healthy', 'Healthy', 'Unhealthy', 'Unhealthy', 'Unhealthy', 'Unhealthy', 'Healthy', 'Healthy', 'Healthy', 'Unhealthy', 'Healthy', 'Unhealthy', 'Healthy', 'Healthy', 'Healthy', 'Healthy', 'Unhealthy', 'Unhealthy', 'Healthy', 'Unhealthy', 'Unhealthy', 'Healthy', 'Unhealthy', 'Healthy', 'Healthy', 'Unhealthy', 'Unhealthy', 'Unhealthy', 'Healthy', 'Unhealthy', 'Healthy', 'Unhealthy', 'Healthy', 'Unhealthy', 'Healthy', 'Healthy', 'Healthy', 'Healthy', 'Healthy', 'Healthy', 'Healthy', 'Healthy', 'Healthy', 'Healthy', 'Healthy', 'Healthy', 'Unhealthy', 'Healthy', 'Unhealthy', 'Unhealthy', 'Healthy', 'Healthy', 'Healthy', 'Healthy', 'Unhealthy', 'Unhealthy', 'Healthy', 'Unhealthy', 'Unhealthy', 'Healthy', 'Unhealthy', 'Healthy', 'Unhealthy', 'Healthy', 'Healthy', 'Healthy', 'Healthy', 'Unhealthy', 'Healthy', 'Healthy', 'Healthy', 'Healthy', 'Healthy', 'Healthy', 'Healthy', 'Unhealthy', 'Healthy', 'Healthy', 'Unhealthy', 'Healthy', 'Healthy', 'Healthy', 'Healthy', 'Healthy', 'Healthy', 'Healthy', 'Healthy', 'Unhealthy', 'Healthy', 'Healthy', 'Healthy', 'Unhealthy', 'Healthy', 'Unhealthy', 'Healthy', 'Healthy', 'Unhealthy', 'Healthy', 'Unhealthy', 'Healthy', 'Unhealthy', 'Healthy', 'Unhealthy', 'Healthy', 'Healthy', 'Healthy', 'Unhealthy', 'Unhealthy', 'Healthy', 'Healthy', 'Unhealthy', 'Healthy', 'Unhealthy', 'Healthy', 'Healthy', 'Unhealthy', 'Unhealthy', 'Unhealthy', 'Unhealthy', 'Healthy', 'Healthy', 'Healthy', 'Healthy', 'Healthy', 'Healthy', 'Unhealthy', 'Unhealthy', 'Healthy', 'Healthy', 'Healthy', 'Unhealthy', 'Healthy', 'Healthy', 'Healthy', 'Healthy', 'Unhealthy', 'Healthy', 'Healthy', 'Healthy', 'Unhealthy', 'Healthy', 'Healthy', 'Healthy', 'Healthy', 'Healthy', 'Unhealthy', 'Unhealthy', 'Unhealthy', 'Healthy', 'Unhealthy', 'Healthy', 'Healthy', 'Unhealthy', 'Healthy', 'Healthy', 'Healthy', 'Healthy', 'Unhealthy', 'Healthy', 'Healthy', 'Healthy', 'Unhealthy', 'Healthy', 'Unhealthy', 'Healthy', 'Healthy', 'Healthy', 'Healthy', 'Healthy', 'Healthy', 'Healthy', 'Unhealthy', 'Healthy', 'Healthy', 'Unhealthy', 'Healthy', 'Unhealthy', 'Unhealthy', 'Healthy', 'Healthy', 'Healthy', 'Unhealthy', 'Healthy', 'Healthy', 'Healthy', 'Healthy', 'Healthy', 'Healthy', 'Healthy', 'Healthy', 'Healthy', 'Healthy', 'Healthy', 'Healthy', 'Healthy', 'Healthy', 'Healthy', 'Unhealthy', 'Healthy', 'Healthy', 'Healthy', 'Healthy', 'Unhealthy', 'Unhealthy', 'Healthy', 'Healthy', 'Healthy', 'Unhealthy', 'Healthy', 'Healthy', 'Unhealthy', 'Healthy', 'Unhealthy', 'Healthy', 'Healthy', 'Unhealthy', 'Healthy', 'Unhealthy', 'Healthy', 'Unhealthy', 'Unhealthy', 'Healthy', 'Healthy', 'Unhealthy', 'Healthy', 'Healthy', 'Healthy', 'Healthy', 'Unhealthy', 'Healthy', 'Healthy', 'Unhealthy', 'Healthy', 'Unhealthy', 'Healthy', 'Unhealthy', 'Healthy', 'Unhealthy', 'Unhealthy', 'Unhealthy', 'Unhealthy', 'Healthy', 'Healthy', 'Healthy', 'Healthy', 'Healthy', 'Healthy', 'Unhealthy', 'Unhealthy', 'Healthy', 'Unhealthy', 'Unhealthy', 'Healthy', 'Unhealthy', 'Healthy', 'Healthy', 'Unhealthy', 'Unhealthy', 'Unhealthy', 'Unhealthy', 'Healthy', 'Unhealthy', 'Unhealthy', 'Healthy', 'Unhealthy', 'Healthy', 'Healthy', 'Unhealthy', 'Unhealthy', 'Unhealthy', 'Unhealthy', 'Healthy', 'Healthy', 'Unhealthy', 'Healthy', 'Unhealthy', 'Unhealthy', 'Healthy', 'Unhealthy', 'Healthy', 'Unhealthy', 'Healthy', 'Healthy', 'Unhealthy', 'Unhealthy', 'Healthy', 'Unhealthy', 'Unhealthy', 'Healthy', 'Unhealthy', 'Healthy', 'Unhealthy', 'Healthy', 'Healthy', 'Unhealthy', 'Healthy', 'Unhealthy', 'Healthy', 'Healthy', 'Healthy', 'Healthy', 'Unhealthy', 'Unhealthy', 'Healthy', 'Unhealthy', 'Healthy', 'Healthy', 'Unhealthy', 'Unhealthy', 'Unhealthy', 'Healthy', 'Healthy', 'Healthy', 'Unhealthy', 'Healthy', 'Unhealthy', 'Unhealthy', 'Healthy', 'Healthy', 'Healthy', 'Healthy', 'Healthy', 'Healthy', 'Healthy', 'Healthy', 'Unhealthy', 'Healthy', 'Unhealthy', 'Healthy', 'Healthy', 'Healthy', 'Healthy', 'Healthy', 'Healthy', 'Healthy', 'Healthy', 'Unhealthy', 'Healthy', 'Healthy', 'Healthy', 'Unhealthy', 'Healthy', 'Healthy', 'Unhealthy', 'Healthy', 'Unhealthy', 'Healthy', 'Unhealthy', 'Healthy', 'Unhealthy', 'Healthy', 'Unhealthy', 'Healthy', 'Healthy', 'Healthy', 'Unhealthy', 'Healthy', 'Unhealthy', 'Healthy', 'Healthy', 'Healthy', 'Healthy', 'Healthy', 'Healthy', 'Unhealthy', 'Healthy', 'Healthy', 'Unhealthy', 'Unhealthy', 'Healthy', 'Unhealthy', 'Healthy', 'Unhealthy', 'Healthy', 'Unhealthy', 'Healthy', 'Healthy', 'Unhealthy', 'Healthy', 'Unhealthy', 'Healthy', 'Healthy', 'Healthy', 'Healthy', 'Unhealthy', 'Unhealthy', 'Unhealthy', 'Healthy', 'Unhealthy', 'Healthy', 'Healthy', 'Healthy', 'Healthy', 'Unhealthy', 'Healthy', 'Healthy', 'Healthy', 'Unhealthy', 'Healthy', 'Healthy', 'Healthy', 'Unhealthy', 'Healthy', 'Unhealthy', 'Healthy', 'Unhealthy', 'Healthy', 'Healthy', 'Unhealthy', 'Healthy', 'Unhealthy', 'Healthy', 'Unhealthy', 'Healthy', 'Healthy', 'Unhealthy', 'Healthy', 'Healthy', 'Unhealthy', 'Healthy', 'Healthy', 'Healthy', 'Healthy', 'Unhealthy', 'Healthy', 'Healthy', 'Healthy', 'Unhealthy', 'Healthy', 'Unhealthy', 'Unhealthy', 'Healthy', 'Healthy', 'Healthy', 'Unhealthy', 'Unhealthy', 'Healthy', 'Healthy', 'Healthy', 'Unhealthy', 'Healthy', 'Unhealthy', 'Healthy', 'Unhealthy', 'Healthy', 'Healthy', 'Healthy', 'Healthy', 'Unhealthy', 'Healthy', 'Healthy', 'Unhealthy', 'Unhealthy', 'Unhealthy', 'Healthy', 'Healthy', 'Healthy', 'Healthy', 'Unhealthy', 'Healthy', 'Healthy', 'Unhealthy', 'Unhealthy', 'Unhealthy', 'Healthy', 'Healthy', 'Unhealthy', 'Healthy', 'Unhealthy', 'Healthy', 'Healthy', 'Unhealthy', 'Unhealthy', 'Healthy', 'Unhealthy', 'Healthy', 'Healthy', 'Healthy', 'Unhealthy', 'Healthy', 'Healthy', 'Healthy', 'Healthy', 'Unhealthy', 'Healthy', 'Healthy', 'Unhealthy', 'Healthy', 'Healthy', 'Healthy', 'Healthy', 'Healthy', 'Healthy', 'Unhealthy', 'Healthy', 'Healthy', 'Healthy', 'Healthy', 'Healthy', 'Unhealthy', 'Healthy', 'Healthy', 'Healthy', 'Healthy', 'Healthy', 'Unhealthy', 'Unhealthy', 'Healthy', 'Healthy', 'Healthy', 'Healthy', 'Healthy', 'Healthy', 'Healthy', 'Healthy', 'Healthy', 'Unhealthy', 'Healthy', 'Unhealthy', 'Unhealthy', 'Healthy', 'Healthy', 'Unhealthy', 'Healthy', 'Unhealthy', 'Unhealthy', 'Healthy', 'Healthy', 'Healthy', 'Healthy', 'Healthy', 'Healthy', 'Healthy', 'Healthy', 'Unhealthy', 'Unhealthy', 'Unhealthy', 'Healthy', 'Healthy', 'Healthy', 'Unhealthy', 'Healthy', 'Healthy', 'Healthy', 'Healthy', 'Healthy', 'Healthy', 'Unhealthy', 'Unhealthy', 'Unhealthy', 'Healthy', 'Unhealthy', 'Unhealthy', 'Healthy', 'Healthy', 'Healthy', 'Healthy', 'Healthy', 'Healthy', 'Healthy', 'Unhealthy', 'Healthy', 'Healthy', 'Unhealthy', 'Unhealthy', 'Healthy', 'Healthy', 'Unhealthy', 'Healthy', 'Unhealthy', 'Unhealthy', 'Healthy', 'Unhealthy', 'Healthy', 'Unhealthy', 'Unhealthy', 'Healthy', 'Unhealthy', 'Healthy', 'Healthy', 'Unhealthy', 'Healthy', 'Healthy', 'Unhealthy', 'Unhealthy', 'Healthy', 'Healthy', 'Healthy', 'Unhealthy', 'Healthy', 'Healthy', 'Unhealthy', 'Healthy', 'Unhealthy', 'Unhealthy', 'Healthy', 'Unhealthy', 'Healthy', 'Healthy', 'Healthy', 'Healthy', 'Healthy', 'Healthy', 'Unhealthy', 'Healthy', 'Unhealthy', 'Healthy', 'Healthy', 'Unhealthy', 'Unhealthy', 'Unhealthy', 'Healthy', 'Unhealthy', 'Healthy', 'Unhealthy', 'Unhealthy', 'Healthy', 'Unhealthy', 'Unhealthy', 'Unhealthy', 'Healthy', 'Healthy', 'Healthy', 'Healthy', 'Unhealthy', 'Healthy', 'Unhealthy', 'Healthy', 'Unhealthy', 'Healthy', 'Healthy', 'Healthy', 'Healthy', 'Unhealthy', 'Healthy', 'Healthy', 'Unhealthy', 'Healthy', 'Healthy', 'Healthy', 'Healthy', 'Unhealthy', 'Healthy', 'Healthy', 'Healthy', 'Healthy', 'Healthy', 'Unhealthy', 'Healthy', 'Healthy', 'Unhealthy', 'Healthy', 'Healthy', 'Healthy', 'Healthy', 'Healthy', 'Healthy', 'Unhealthy', 'Healthy', 'Unhealthy', 'Unhealthy', 'Healthy', 'Healthy', 'Healthy', 'Unhealthy', 'Healthy', 'Unhealthy', 'Healthy', 'Unhealthy', 'Healthy', 'Healthy', 'Healthy', 'Healthy', 'Healthy', 'Healthy', 'Healthy', 'Unhealthy', 'Unhealthy', 'Unhealthy', 'Healthy', 'Healthy', 'Unhealthy', 'Unhealthy', 'Healthy', 'Healthy', 'Healthy', 'Healthy', 'Unhealthy', 'Unhealthy', 'Healthy', 'Unhealthy', 'Unhealthy', 'Healthy', 'Unhealthy', 'Unhealthy', 'Unhealthy', 'Unhealthy', 'Healthy', 'Healthy', 'Healthy', 'Unhealthy', 'Unhealthy', 'Healthy', 'Healthy', 'Unhealthy', 'Unhealthy', 'Healthy', 'Unhealthy', 'Unhealthy', 'Unhealthy', 'Healthy', 'Healthy', 'Healthy', 'Unhealthy', 'Healthy', 'Unhealthy', 'Unhealthy', 'Unhealthy', 'Unhealthy', 'Unhealthy', 'Unhealthy', 'Healthy', 'Healthy', 'Healthy', 'Unhealthy', 'Unhealthy', 'Healthy', 'Unhealthy', 'Healthy', 'Healthy', 'Unhealthy', 'Unhealthy', 'Healthy', 'Healthy', 'Healthy', 'Healthy', 'Healthy', 'Healthy', 'Unhealthy', 'Unhealthy', 'Healthy', 'Healthy', 'Healthy', 'Unhealthy', 'Healthy', 'Healthy', 'Unhealthy', 'Healthy', 'Unhealthy', 'Healthy', 'Unhealthy', 'Unhealthy', 'Healthy', 'Unhealthy', 'Healthy', 'Unhealthy', 'Healthy', 'Healthy', 'Unhealthy', 'Unhealthy', 'Unhealthy', 'Healthy', 'Unhealthy', 'Unhealthy', 'Healthy', 'Healthy', 'Healthy', 'Healthy', 'Healthy', 'Healthy', 'Unhealthy', 'Healthy', 'Unhealthy', 'Healthy', 'Healthy', 'Healthy', 'Healthy', 'Unhealthy', 'Unhealthy', 'Healthy', 'Healthy', 'Unhealthy', 'Healthy', 'Healthy', 'Healthy', 'Unhealthy', 'Healthy', 'Unhealthy', 'Healthy', 'Healthy', 'Healthy', 'Healthy', 'Healthy', 'Healthy', 'Healthy', 'Healthy', 'Healthy', 'Unhealthy', 'Unhealthy', 'Healthy', 'Healthy', 'Healthy', 'Unhealthy', 'Unhealthy', 'Healthy', 'Unhealthy', 'Healthy', 'Unhealthy', 'Healthy', 'Unhealthy', 'Unhealthy', 'Healthy', 'Healthy', 'Healthy', 'Healthy', 'Unhealthy', 'Healthy', 'Healthy', 'Healthy', 'Unhealthy', 'Healthy', 'Healthy', 'Unhealthy', 'Healthy', 'Healthy', 'Healthy', 'Healthy', 'Healthy', 'Unhealthy', 'Healthy', 'Healthy', 'Unhealthy', 'Healthy', 'Healthy', 'Unhealthy', 'Unhealthy', 'Healthy', 'Unhealthy', 'Unhealthy', 'Unhealthy', 'Healthy', 'Healthy', 'Healthy', 'Healthy', 'Healthy', 'Healthy', 'Healthy', 'Healthy', 'Healthy', 'Healthy', 'Unhealthy', 'Healthy', 'Healthy', 'Healthy', 'Unhealthy', 'Healthy', 'Healthy', 'Unhealthy', 'Healthy', 'Healthy', 'Healthy', 'Unhealthy', 'Unhealthy', 'Healthy', 'Healthy', 'Healthy', 'Healthy', 'Healthy', 'Unhealthy', 'Unhealthy', 'Healthy', 'Unhealthy', 'Unhealthy', 'Healthy', 'Unhealthy', 'Healthy', 'Healthy', 'Unhealthy', 'Healthy', 'Unhealthy', 'Healthy', 'Healthy', 'Healthy', 'Healthy', 'Healthy', 'Healthy', 'Healthy', 'Healthy', 'Unhealthy', 'Unhealthy', 'Healthy', 'Healthy', 'Unhealthy', 'Unhealthy', 'Unhealthy', 'Healthy', 'Unhealthy', 'Unhealthy', 'Healthy', 'Healthy', 'Unhealthy', 'Healthy', 'Healthy', 'Unhealthy', 'Unhealthy', 'Healthy', 'Unhealthy', 'Unhealthy', 'Healthy', 'Healthy', 'Healthy', 'Unhealthy', 'Unhealthy', 'Unhealthy', 'Healthy', 'Unhealthy', 'Healthy', 'Healthy', 'Healthy', 'Unhealthy', 'Healthy', 'Unhealthy', 'Healthy', 'Healthy', 'Healthy', 'Healthy', 'Unhealthy', 'Healthy', 'Unhealthy', 'Healthy', 'Unhealthy', 'Healthy', 'Healthy', 'Healthy', 'Healthy', 'Unhealthy', 'Healthy', 'Healthy', 'Healthy', 'Healthy', 'Healthy', 'Healthy', 'Healthy', 'Unhealthy', 'Unhealthy', 'Unhealthy', 'Unhealthy', 'Healthy', 'Healthy', 'Healthy', 'Healthy', 'Unhealthy', 'Unhealthy', 'Unhealthy', 'Healthy', 'Unhealthy', 'Unhealthy', 'Healthy', 'Unhealthy', 'Unhealthy', 'Healthy', 'Healthy', 'Healthy', 'Healthy', 'Healthy', 'Healthy', 'Unhealthy', 'Healthy', 'Healthy', 'Healthy', 'Healthy', 'Unhealthy', 'Healthy', 'Healthy', 'Unhealthy', 'Healthy', 'Healthy', 'Unhealthy', 'Healthy', 'Healthy', 'Healthy', 'Healthy', 'Healthy', 'Healthy', 'Healthy', 'Healthy', 'Healthy', 'Healthy', 'Healthy', 'Unhealthy', 'Healthy', 'Healthy', 'Unhealthy', 'Unhealthy', 'Unhealthy', 'Unhealthy', 'Unhealthy', 'Healthy', 'Healthy', 'Unhealthy', 'Healthy', 'Unhealthy', 'Unhealthy', 'Healthy', 'Healthy', 'Healthy', 'Healthy', 'Healthy', 'Healthy', 'Unhealthy', 'Healthy', 'Unhealthy', 'Healthy', 'Unhealthy', 'Unhealthy', 'Healthy', 'Healthy', 'Healthy', 'Healthy', 'Healthy', 'Unhealthy', 'Unhealthy', 'Healthy', 'Healthy', 'Unhealthy', 'Healthy', 'Healthy', 'Unhealthy', 'Healthy', 'Unhealthy', 'Healthy', 'Healthy', 'Unhealthy', 'Unhealthy', 'Unhealthy', 'Healthy', 'Unhealthy', 'Healthy', 'Unhealthy', 'Healthy', 'Healthy', 'Healthy', 'Unhealthy', 'Healthy', 'Unhealthy', 'Healthy', 'Unhealthy', 'Healthy', 'Unhealthy', 'Healthy', 'Unhealthy', 'Unhealthy', 'Healthy', 'Unhealthy', 'Healthy', 'Healthy', 'Unhealthy', 'Unhealthy', 'Unhealthy', 'Healthy', 'Healthy', 'Healthy', 'Healthy', 'Healthy', 'Healthy', 'Healthy', 'Unhealthy', 'Healthy', 'Healthy', 'Healthy', 'Unhealthy', 'Healthy', 'Healthy', 'Unhealthy', 'Unhealthy', 'Healthy', 'Unhealthy', 'Healthy', 'Healthy', 'Unhealthy', 'Healthy', 'Healthy', 'Unhealthy', 'Healthy', 'Healthy', 'Healthy', 'Healthy', 'Healthy', 'Unhealthy', 'Healthy', 'Healthy', 'Healthy', 'Unhealthy', 'Healthy', 'Healthy', 'Unhealthy', 'Healthy', 'Healthy', 'Unhealthy', 'Unhealthy', 'Healthy', 'Healthy', 'Unhealthy', 'Unhealthy', 'Unhealthy', 'Unhealthy', 'Unhealthy', 'Healthy', 'Unhealthy', 'Unhealthy', 'Healthy', 'Healthy', 'Healthy', 'Unhealthy', 'Healthy', 'Unhealthy', 'Unhealthy', 'Unhealthy', 'Unhealthy', 'Unhealthy', 'Unhealthy', 'Healthy', 'Unhealthy', 'Unhealthy', 'Unhealthy', 'Healthy', 'Healthy', 'Healthy', 'Healthy', 'Healthy', 'Healthy', 'Healthy', 'Healthy', 'Unhealthy', 'Healthy', 'Unhealthy', 'Healthy', 'Healthy', 'Unhealthy', 'Unhealthy', 'Healthy', 'Unhealthy', 'Healthy', 'Unhealthy', 'Unhealthy', 'Unhealthy', 'Unhealthy', 'Healthy', 'Unhealthy', 'Unhealthy', 'Unhealthy', 'Unhealthy', 'Healthy', 'Unhealthy', 'Unhealthy', 'Unhealthy', 'Healthy', 'Healthy', 'Unhealthy', 'Healthy', 'Unhealthy', 'Healthy', 'Unhealthy', 'Healthy', 'Healthy', 'Healthy', 'Healthy', 'Unhealthy', 'Unhealthy', 'Healthy', 'Healthy', 'Healthy', 'Healthy', 'Healthy', 'Healthy', 'Healthy', 'Unhealthy', 'Unhealthy', 'Unhealthy', 'Unhealthy', 'Unhealthy', 'Healthy', 'Unhealthy', 'Healthy', 'Unhealthy', 'Healthy', 'Healthy', 'Unhealthy', 'Healthy', 'Healthy', 'Healthy', 'Healthy', 'Healthy', 'Unhealthy', 'Unhealthy', 'Unhealthy', 'Healthy', 'Healthy', 'Unhealthy', 'Healthy', 'Healthy', 'Healthy', 'Healthy', 'Unhealthy', 'Healthy', 'Healthy', 'Healthy', 'Healthy', 'Unhealthy', 'Unhealthy', 'Healthy', 'Unhealthy', 'Healthy', 'Healthy', 'Healthy', 'Healthy', 'Unhealthy', 'Healthy', 'Healthy', 'Unhealthy', 'Healthy', 'Healthy', 'Healthy', 'Unhealthy', 'Unhealthy', 'Healthy', 'Healthy', 'Healthy', 'Unhealthy', 'Unhealthy', 'Unhealthy', 'Unhealthy', 'Unhealthy', 'Healthy', 'Healthy', 'Healthy', 'Healthy', 'Unhealthy', 'Unhealthy', 'Unhealthy', 'Unhealthy', 'Healthy', 'Unhealthy', 'Unhealthy', 'Healthy', 'Unhealthy', 'Healthy', 'Healthy', 'Unhealthy', 'Unhealthy', 'Healthy', 'Unhealthy', 'Unhealthy', 'Healthy', 'Healthy', 'Healthy', 'Healthy', 'Unhealthy', 'Unhealthy', 'Healthy', 'Healthy', 'Healthy', 'Unhealthy', 'Unhealthy', 'Healthy', 'Healthy', 'Healthy', 'Unhealthy', 'Healthy', 'Healthy', 'Healthy', 'Unhealthy', 'Unhealthy', 'Healthy', 'Healthy', 'Unhealthy', 'Healthy', 'Healthy', 'Healthy', 'Unhealthy', 'Healthy', 'Unhealthy', 'Healthy', 'Healthy', 'Unhealthy', 'Unhealthy', 'Healthy', 'Healthy', 'Unhealthy', 'Healthy', 'Healthy', 'Healthy', 'Healthy', 'Healthy', 'Healthy', 'Unhealthy', 'Healthy', 'Healthy', 'Healthy', 'Unhealthy', 'Unhealthy', 'Healthy', 'Healthy', 'Unhealthy', 'Unhealthy', 'Unhealthy', 'Healthy', 'Unhealthy', 'Healthy', 'Unhealthy', 'Unhealthy', 'Unhealthy', 'Healthy', 'Healthy', 'Healthy', 'Unhealthy', 'Healthy', 'Healthy', 'Healthy', 'Healthy', 'Unhealthy', 'Healthy', 'Healthy', 'Unhealthy', 'Healthy', 'Unhealthy', 'Unhealthy', 'Healthy', 'Unhealthy', 'Healthy', 'Healthy', 'Healthy', 'Unhealthy', 'Unhealthy', 'Healthy', 'Healthy', 'Unhealthy', 'Healthy', 'Unhealthy', 'Unhealthy', 'Healthy', 'Unhealthy', 'Healthy', 'Healthy', 'Healthy', 'Healthy', 'Unhealthy', 'Healthy', 'Healthy', 'Unhealthy', 'Unhealthy', 'Healthy', 'Healthy', 'Healthy', 'Healthy', 'Healthy', 'Unhealthy', 'Unhealthy', 'Unhealthy', 'Healthy', 'Unhealthy', 'Unhealthy', 'Healthy', 'Unhealthy', 'Healthy', 'Healthy', 'Unhealthy', 'Unhealthy', 'Unhealthy', 'Healthy', 'Healthy', 'Unhealthy', 'Healthy', 'Unhealthy', 'Healthy', 'Healthy', 'Healthy', 'Healthy', 'Healthy', 'Healthy', 'Healthy', 'Healthy', 'Unhealthy', 'Healthy', 'Healthy', 'Healthy', 'Unhealthy', 'Healthy', 'Unhealthy', 'Healthy', 'Healthy', 'Healthy', 'Healthy', 'Unhealthy', 'Unhealthy', 'Healthy', 'Healthy', 'Unhealthy', 'Healthy', 'Unhealthy', 'Healthy', 'Healthy', 'Healthy', 'Unhealthy', 'Healthy', 'Healthy', 'Healthy', 'Healthy', 'Unhealthy', 'Healthy', 'Unhealthy', 'Unhealthy', 'Unhealthy', 'Healthy', 'Healthy', 'Healthy', 'Unhealthy', 'Healthy', 'Unhealthy', 'Unhealthy', 'Healthy', 'Unhealthy', 'Healthy', 'Healthy', 'Unhealthy', 'Healthy', 'Healthy', 'Healthy', 'Healthy', 'Unhealthy', 'Unhealthy', 'Unhealthy', 'Unhealthy', 'Unhealthy', 'Healthy', 'Unhealthy', 'Healthy', 'Unhealthy', 'Healthy', 'Healthy', 'Unhealthy', 'Healthy', 'Healthy', 'Healthy', 'Healthy', 'Unhealthy', 'Healthy', 'Healthy', 'Healthy', 'Healthy', 'Healthy', 'Unhealthy', 'Unhealthy', 'Healthy', 'Healthy', 'Healthy', 'Healthy', 'Unhealthy', 'Healthy', 'Healthy', 'Healthy', 'Unhealthy', 'Healthy', 'Healthy', 'Healthy', 'Healthy', 'Unhealthy', 'Healthy', 'Unhealthy', 'Healthy', 'Healthy', 'Healthy', 'Healthy', 'Healthy', 'Healthy', 'Unhealthy', 'Healthy', 'Healthy', 'Healthy', 'Unhealthy', 'Healthy', 'Unhealthy', 'Healthy', 'Healthy', 'Healthy', 'Healthy', 'Healthy', 'Healthy', 'Healthy', 'Unhealthy', 'Healthy', 'Healthy', 'Unhealthy', 'Unhealthy', 'Healthy', 'Unhealthy', 'Unhealthy', 'Healthy', 'Healthy', 'Healthy', 'Healthy', 'Unhealthy', 'Healthy', 'Unhealthy', 'Unhealthy', 'Healthy', 'Unhealthy', 'Healthy', 'Unhealthy', 'Healthy', 'Healthy', 'Unhealthy', 'Healthy', 'Unhealthy', 'Unhealthy', 'Healthy', 'Unhealthy', 'Healthy', 'Unhealthy', 'Unhealthy', 'Unhealthy', 'Healthy', 'Healthy', 'Healthy', 'Unhealthy', 'Unhealthy', 'Healthy', 'Unhealthy', 'Unhealthy', 'Healthy', 'Unhealthy', 'Healthy', 'Healthy', 'Unhealthy', 'Unhealthy', 'Healthy', 'Healthy', 'Healthy', 'Unhealthy', 'Healthy', 'Healthy', 'Healthy', 'Unhealthy', 'Healthy', 'Unhealthy', 'Unhealthy', 'Unhealthy', 'Healthy', 'Healthy', 'Unhealthy', 'Healthy', 'Healthy', 'Unhealthy', 'Healthy', 'Unhealthy', 'Unhealthy', 'Unhealthy', 'Unhealthy', 'Unhealthy', 'Healthy', 'Unhealthy', 'Healthy', 'Unhealthy', 'Healthy', 'Unhealthy', 'Healthy', 'Healthy', 'Healthy', 'Healthy', 'Unhealthy', 'Healthy', 'Healthy', 'Unhealthy', 'Unhealthy', 'Unhealthy', 'Healthy', 'Healthy', 'Healthy', 'Healthy', 'Healthy', 'Healthy', 'Healthy', 'Healthy', 'Unhealthy', 'Unhealthy', 'Healthy', 'Unhealthy', 'Healthy', 'Healthy', 'Unhealthy', 'Healthy', 'Healthy', 'Unhealthy', 'Unhealthy', 'Unhealthy', 'Healthy', 'Healthy', 'Unhealthy', 'Healthy', 'Unhealthy', 'Healthy', 'Healthy', 'Unhealthy', 'Healthy', 'Healthy', 'Healthy', 'Healthy', 'Healthy', 'Healthy', 'Unhealthy', 'Healthy', 'Unhealthy', 'Healthy', 'Unhealthy', 'Healthy', 'Healthy', 'Unhealthy', 'Unhealthy', 'Unhealthy', 'Healthy', 'Unhealthy', 'Healthy', 'Healthy', 'Unhealthy', 'Healthy', 'Healthy', 'Unhealthy', 'Healthy', 'Healthy', 'Healthy', 'Unhealthy', 'Healthy', 'Healthy', 'Unhealthy', 'Healthy', 'Healthy', 'Healthy', 'Healthy', 'Healthy', 'Healthy', 'Healthy', 'Healthy', 'Unhealthy', 'Healthy', 'Healthy', 'Healthy', 'Healthy', 'Healthy', 'Healthy', 'Unhealthy', 'Healthy', 'Healthy', 'Unhealthy', 'Healthy', 'Unhealthy', 'Healthy', 'Unhealthy', 'Healthy', 'Healthy', 'Healthy', 'Healthy', 'Unhealthy', 'Healthy', 'Healthy', 'Unhealthy', 'Healthy', 'Unhealthy', 'Healthy', 'Healthy', 'Healthy', 'Healthy', 'Healthy', 'Unhealthy', 'Healthy', 'Healthy', 'Unhealthy', 'Healthy', 'Healthy', 'Unhealthy', 'Unhealthy', 'Healthy', 'Unhealthy', 'Unhealthy', 'Healthy', 'Healthy', 'Unhealthy', 'Unhealthy', 'Healthy', 'Healthy', 'Healthy', 'Healthy', 'Healthy', 'Unhealthy', 'Unhealthy', 'Healthy', 'Healthy', 'Healthy', 'Unhealthy', 'Healthy', 'Healthy', 'Unhealthy', 'Unhealthy', 'Healthy', 'Healthy', 'Healthy', 'Unhealthy', 'Healthy', 'Healthy', 'Healthy', 'Healthy', 'Healthy', 'Healthy', 'Unhealthy', 'Unhealthy', 'Unhealthy', 'Healthy', 'Unhealthy', 'Healthy', 'Unhealthy', 'Unhealthy', 'Healthy', 'Healthy', 'Unhealthy', 'Healthy', 'Healthy', 'Healthy', 'Unhealthy', 'Unhealthy', 'Healthy', 'Healthy', 'Unhealthy', 'Healthy', 'Healthy', 'Unhealthy', 'Healthy', 'Unhealthy', 'Healthy', 'Unhealthy', 'Healthy', 'Healthy', 'Healthy', 'Unhealthy', 'Healthy', 'Unhealthy', 'Healthy', 'Healthy', 'Healthy', 'Unhealthy', 'Unhealthy', 'Unhealthy', 'Unhealthy', 'Unhealthy', 'Unhealthy', 'Unhealthy', 'Unhealthy', 'Healthy', 'Healthy', 'Unhealthy', 'Healthy', 'Unhealthy', 'Healthy', 'Healthy', 'Healthy', 'Healthy', 'Healthy', 'Healthy', 'Healthy', 'Healthy', 'Unhealthy', 'Healthy', 'Unhealthy', 'Healthy', 'Unhealthy', 'Healthy', 'Healthy', 'Healthy', 'Healthy', 'Unhealthy', 'Unhealthy', 'Healthy', 'Unhealthy', 'Unhealthy', 'Unhealthy', 'Healthy', 'Healthy', 'Healthy', 'Unhealthy', 'Unhealthy', 'Healthy', 'Unhealthy', 'Healthy', 'Healthy', 'Healthy', 'Unhealthy', 'Healthy', 'Healthy', 'Healthy', 'Healthy', 'Unhealthy', 'Unhealthy', 'Healthy', 'Healthy', 'Healthy', 'Healthy', 'Healthy', 'Healthy', 'Healthy', 'Unhealthy', 'Unhealthy', 'Healthy', 'Unhealthy', 'Unhealthy', 'Unhealthy', 'Healthy', 'Unhealthy', 'Unhealthy', 'Healthy', 'Healthy', 'Healthy', 'Unhealthy', 'Healthy', 'Healthy', 'Healthy', 'Healthy', 'Unhealthy', 'Healthy', 'Healthy', 'Healthy', 'Healthy', 'Healthy', 'Healthy', 'Healthy', 'Unhealthy', 'Unhealthy', 'Healthy', 'Unhealthy', 'Healthy', 'Healthy', 'Unhealthy', 'Unhealthy', 'Healthy', 'Healthy', 'Healthy', 'Healthy', 'Healthy', 'Healthy', 'Healthy', 'Healthy', 'Unhealthy', 'Unhealthy', 'Healthy', 'Healthy', 'Healthy', 'Unhealthy', 'Healthy', 'Healthy', 'Unhealthy', 'Unhealthy', 'Healthy', 'Unhealthy', 'Unhealthy', 'Unhealthy', 'Unhealthy', 'Healthy', 'Healthy', 'Healthy', 'Unhealthy', 'Unhealthy', 'Healthy', 'Healthy', 'Healthy', 'Healthy', 'Unhealthy', 'Healthy', 'Healthy', 'Unhealthy', 'Healthy', 'Healthy', 'Unhealthy', 'Healthy', 'Healthy', 'Unhealthy', 'Unhealthy', 'Unhealthy', 'Unhealthy', 'Unhealthy', 'Healthy', 'Healthy', 'Healthy', 'Unhealthy', 'Healthy', 'Unhealthy', 'Healthy', 'Unhealthy', 'Unhealthy', 'Healthy', 'Healthy', 'Healthy', 'Healthy', 'Healthy', 'Unhealthy', 'Healthy', 'Healthy', 'Healthy', 'Unhealthy', 'Healthy', 'Unhealthy', 'Healthy', 'Unhealthy', 'Unhealthy', 'Healthy', 'Unhealthy', 'Unhealthy', 'Unhealthy', 'Healthy', 'Healthy', 'Healthy', 'Healthy', 'Unhealthy', 'Healthy', 'Healthy', 'Healthy', 'Healthy', 'Healthy', 'Healthy', 'Healthy', 'Healthy', 'Unhealthy', 'Healthy', 'Unhealthy', 'Healthy', 'Healthy', 'Unhealthy', 'Unhealthy', 'Healthy', 'Healthy', 'Healthy', 'Healthy', 'Unhealthy', 'Unhealthy', 'Healthy', 'Healthy', 'Healthy', 'Healthy', 'Healthy', 'Unhealthy', 'Unhealthy', 'Unhealthy', 'Healthy', 'Healthy', 'Unhealthy', 'Healthy', 'Healthy', 'Unhealthy', 'Healthy', 'Unhealthy', 'Healthy', 'Healthy', 'Healthy', 'Healthy', 'Unhealthy', 'Unhealthy', 'Unhealthy', 'Unhealthy', 'Healthy', 'Healthy', 'Unhealthy', 'Healthy', 'Healthy', 'Healthy', 'Healthy', 'Unhealthy', 'Healthy', 'Unhealthy', 'Healthy', 'Healthy', 'Healthy', 'Healthy', 'Healthy', 'Unhealthy', 'Unhealthy', 'Healthy', 'Unhealthy', 'Unhealthy', 'Healthy', 'Healthy', 'Unhealthy', 'Healthy', 'Healthy', 'Healthy', 'Unhealthy', 'Unhealthy', 'Unhealthy', 'Healthy', 'Healthy', 'Healthy', 'Unhealthy', 'Healthy', 'Unhealthy', 'Healthy', 'Unhealthy', 'Healthy', 'Healthy', 'Unhealthy', 'Healthy', 'Unhealthy', 'Healthy', 'Healthy', 'Unhealthy', 'Healthy', 'Healthy', 'Unhealthy', 'Healthy', 'Healthy', 'Healthy', 'Healthy', 'Unhealthy', 'Healthy', 'Healthy', 'Healthy', 'Healthy', 'Healthy', 'Healthy', 'Unhealthy', 'Healthy', 'Unhealthy', 'Healthy', 'Healthy', 'Healthy', 'Healthy', 'Healthy', 'Unhealthy', 'Healthy', 'Unhealthy', 'Healthy', 'Healthy', 'Healthy', 'Healthy', 'Unhealthy', 'Healthy', 'Healthy', 'Healthy', 'Healthy', 'Healthy', 'Unhealthy', 'Unhealthy', 'Healthy', 'Unhealthy', 'Unhealthy', 'Healthy', 'Healthy', 'Unhealthy', 'Healthy', 'Unhealthy', 'Unhealthy', 'Unhealthy', 'Unhealthy', 'Unhealthy', 'Unhealthy', 'Unhealthy', 'Unhealthy', 'Healthy', 'Unhealthy', 'Healthy', 'Healthy', 'Healthy', 'Unhealthy', 'Healthy', 'Healthy', 'Unhealthy', 'Healthy', 'Unhealthy', 'Healthy', 'Unhealthy', 'Unhealthy', 'Healthy', 'Healthy', 'Healthy', 'Unhealthy', 'Healthy', 'Healthy', 'Healthy', 'Healthy', 'Unhealthy', 'Healthy', 'Healthy', 'Healthy', 'Unhealthy', 'Healthy', 'Healthy', 'Healthy', 'Healthy', 'Healthy', 'Unhealthy', 'Healthy', 'Healthy', 'Unhealthy', 'Unhealthy', 'Unhealthy', 'Healthy', 'Healthy', 'Healthy', 'Healthy', 'Unhealthy', 'Unhealthy', 'Unhealthy', 'Unhealthy', 'Unhealthy', 'Unhealthy', 'Unhealthy', 'Unhealthy', 'Unhealthy', 'Healthy', 'Healthy', 'Unhealthy', 'Unhealthy', 'Unhealthy', 'Healthy', 'Healthy', 'Unhealthy', 'Unhealthy', 'Healthy', 'Unhealthy', 'Healthy', 'Healthy', 'Unhealthy', 'Healthy', 'Healthy', 'Healthy', 'Healthy', 'Healthy', 'Unhealthy', 'Healthy', 'Healthy', 'Unhealthy', 'Healthy', 'Unhealthy', 'Healthy', 'Unhealthy', 'Healthy', 'Healthy', 'Healthy', 'Healthy', 'Healthy', 'Unhealthy', 'Healthy', 'Unhealthy', 'Healthy', 'Healthy', 'Healthy', 'Healthy', 'Unhealthy', 'Healthy', 'Healthy', 'Healthy', 'Healthy', 'Healthy', 'Healthy', 'Healthy', 'Healthy', 'Unhealthy', 'Healthy', 'Healthy', 'Healthy', 'Unhealthy', 'Unhealthy', 'Healthy', 'Unhealthy', 'Healthy', 'Unhealthy', 'Healthy', 'Healthy', 'Healthy', 'Healthy', 'Unhealthy', 'Healthy', 'Unhealthy', 'Unhealthy', 'Healthy', 'Healthy', 'Healthy', 'Healthy', 'Healthy', 'Healthy', 'Healthy', 'Healthy', 'Unhealthy', 'Unhealthy', 'Healthy', 'Unhealthy', 'Healthy', 'Healthy', 'Unhealthy', 'Healthy', 'Unhealthy', 'Unhealthy', 'Unhealthy', 'Healthy', 'Healthy', 'Unhealthy', 'Healthy', 'Unhealthy', 'Healthy', 'Healthy', 'Healthy', 'Healthy', 'Healthy', 'Unhealthy', 'Unhealthy', 'Unhealthy', 'Healthy', 'Healthy', 'Unhealthy', 'Healthy', 'Healthy', 'Healthy', 'Healthy', 'Healthy', 'Healthy', 'Unhealthy', 'Unhealthy', 'Healthy', 'Healthy', 'Unhealthy', 'Healthy', 'Healthy', 'Healthy', 'Healthy', 'Healthy', 'Healthy', 'Unhealthy', 'Unhealthy', 'Healthy', 'Healthy', 'Healthy', 'Healthy', 'Unhealthy', 'Healthy', 'Unhealthy', 'Unhealthy', 'Healthy', 'Healthy', 'Unhealthy', 'Healthy', 'Healthy', 'Healthy', 'Healthy', 'Healthy', 'Healthy', 'Unhealthy', 'Unhealthy', 'Healthy', 'Unhealthy', 'Unhealthy', 'Unhealthy', 'Unhealthy', 'Healthy', 'Healthy', 'Healthy', 'Unhealthy', 'Unhealthy', 'Unhealthy', 'Healthy', 'Healthy', 'Healthy', 'Unhealthy', 'Healthy', 'Unhealthy', 'Healthy', 'Unhealthy', 'Healthy', 'Healthy', 'Healthy', 'Unhealthy', 'Healthy', 'Unhealthy', 'Unhealthy', 'Healthy', 'Healthy', 'Healthy', 'Healthy', 'Healthy', 'Healthy', 'Healthy', 'Healthy', 'Healthy', 'Unhealthy', 'Healthy', 'Healthy', 'Healthy', 'Unhealthy', 'Healthy', 'Healthy', 'Healthy', 'Healthy', 'Healthy', 'Unhealthy', 'Healthy', 'Unhealthy', 'Healthy', 'Healthy', 'Healthy', 'Healthy', 'Healthy', 'Healthy', 'Healthy', 'Healthy', 'Healthy', 'Unhealthy', 'Unhealthy', 'Unhealthy', 'Healthy', 'Healthy', 'Healthy', 'Healthy', 'Unhealthy', 'Unhealthy', 'Unhealthy', 'Healthy', 'Healthy', 'Unhealthy', 'Healthy', 'Healthy', 'Healthy', 'Healthy', 'Healthy', 'Healthy', 'Unhealthy', 'Unhealthy', 'Unhealthy', 'Unhealthy', 'Unhealthy', 'Healthy', 'Healthy', 'Unhealthy', 'Healthy', 'Unhealthy', 'Healthy', 'Healthy', 'Healthy', 'Healthy', 'Healthy', 'Unhealthy', 'Unhealthy', 'Healthy', 'Healthy', 'Unhealthy', 'Healthy', 'Healthy', 'Healthy', 'Healthy', 'Unhealthy', 'Unhealthy', 'Healthy', 'Healthy', 'Healthy', 'Healthy', 'Healthy', 'Unhealthy', 'Healthy', 'Unhealthy', 'Healthy', 'Unhealthy', 'Healthy', 'Healthy', 'Healthy', 'Healthy', 'Healthy', 'Healthy', 'Healthy', 'Healthy', 'Unhealthy', 'Unhealthy', 'Healthy', 'Healthy', 'Healthy', 'Unhealthy', 'Unhealthy', 'Healthy', 'Healthy', 'Healthy', 'Healthy', 'Healthy', 'Healthy', 'Healthy', 'Healthy', 'Healthy', 'Healthy', 'Healthy', 'Healthy', 'Healthy', 'Unhealthy', 'Healthy', 'Healthy', 'Healthy', 'Healthy', 'Healthy', 'Unhealthy', 'Healthy', 'Healthy', 'Unhealthy', 'Unhealthy', 'Healthy', 'Unhealthy', 'Unhealthy', 'Healthy', 'Unhealthy', 'Healthy', 'Healthy', 'Healthy', 'Unhealthy', 'Unhealthy', 'Healthy', 'Unhealthy', 'Unhealthy', 'Healthy', 'Healthy', 'Unhealthy', 'Unhealthy', 'Healthy', 'Healthy', 'Unhealthy', 'Unhealthy', 'Healthy', 'Healthy', 'Healthy', 'Healthy', 'Healthy', 'Healthy', 'Unhealthy', 'Healthy', 'Healthy', 'Healthy', 'Healthy', 'Unhealthy', 'Healthy', 'Healthy', 'Healthy', 'Healthy', 'Unhealthy', 'Healthy', 'Healthy', 'Healthy', 'Healthy', 'Unhealthy', 'Healthy', 'Healthy', 'Unhealthy', 'Healthy', 'Healthy', 'Unhealthy', 'Unhealthy', 'Unhealthy', 'Healthy', 'Healthy', 'Healthy', 'Healthy', 'Unhealthy', 'Healthy', 'Healthy', 'Unhealthy', 'Unhealthy', 'Healthy', 'Healthy', 'Healthy', 'Healthy', 'Healthy', 'Unhealthy', 'Unhealthy', 'Healthy', 'Unhealthy', 'Healthy', 'Healthy', 'Healthy', 'Unhealthy', 'Healthy', 'Healthy', 'Healthy', 'Unhealthy', 'Healthy', 'Unhealthy', 'Healthy', 'Healthy', 'Healthy', 'Unhealthy', 'Unhealthy', 'Healthy', 'Healthy', 'Healthy', 'Healthy', 'Healthy', 'Unhealthy', 'Unhealthy', 'Healthy', 'Healthy', 'Unhealthy', 'Unhealthy', 'Unhealthy', 'Healthy', 'Healthy', 'Healthy', 'Healthy', 'Healthy', 'Healthy', 'Unhealthy', 'Healthy', 'Healthy', 'Healthy', 'Healthy', 'Healthy', 'Healthy', 'Healthy', 'Healthy', 'Healthy', 'Unhealthy', 'Healthy', 'Healthy', 'Healthy', 'Healthy', 'Unhealthy', 'Unhealthy', 'Healthy', 'Healthy', 'Healthy', 'Unhealthy', 'Unhealthy', 'Healthy', 'Healthy', 'Unhealthy', 'Unhealthy', 'Healthy', 'Healthy', 'Healthy', 'Healthy', 'Healthy', 'Healthy', 'Healthy', 'Unhealthy', 'Healthy', 'Unhealthy', 'Unhealthy', 'Unhealthy', 'Healthy', 'Healthy', 'Healthy', 'Unhealthy', 'Healthy', 'Unhealthy', 'Healthy', 'Unhealthy', 'Unhealthy', 'Unhealthy', 'Healthy', 'Healthy', 'Unhealthy', 'Unhealthy', 'Unhealthy', 'Healthy', 'Healthy', 'Healthy', 'Unhealthy', 'Healthy', 'Unhealthy', 'Healthy', 'Healthy', 'Healthy', 'Healthy', 'Healthy', 'Healthy', 'Healthy', 'Healthy', 'Unhealthy', 'Healthy', 'Healthy', 'Unhealthy', 'Healthy', 'Healthy', 'Healthy', 'Unhealthy', 'Unhealthy', 'Healthy', 'Unhealthy', 'Healthy', 'Unhealthy', 'Healthy', 'Unhealthy', 'Healthy', 'Healthy', 'Healthy', 'Unhealthy', 'Healthy', 'Healthy', 'Healthy', 'Healthy', 'Healthy', 'Healthy', 'Healthy', 'Healthy', 'Unhealthy', 'Unhealthy', 'Healthy', 'Healthy', 'Healthy', 'Healthy', 'Unhealthy', 'Healthy', 'Healthy', 'Healthy', 'Unhealthy', 'Unhealthy', 'Unhealthy', 'Unhealthy', 'Healthy', 'Unhealthy', 'Healthy', 'Unhealthy', 'Healthy', 'Healthy', 'Healthy', 'Healthy', 'Healthy', 'Healthy', 'Unhealthy', 'Healthy', 'Healthy', 'Healthy', 'Healthy', 'Healthy', 'Healthy', 'Healthy', 'Healthy', 'Healthy', 'Unhealthy', 'Unhealthy', 'Healthy', 'Healthy', 'Healthy', 'Healthy', 'Healthy', 'Healthy', 'Healthy', 'Unhealthy', 'Unhealthy', 'Healthy', 'Unhealthy', 'Unhealthy', 'Unhealthy', 'Healthy', 'Healthy', 'Healthy', 'Unhealthy', 'Unhealthy', 'Healthy', 'Healthy', 'Healthy', 'Healthy', 'Unhealthy', 'Unhealthy', 'Unhealthy', 'Unhealthy', 'Unhealthy', 'Healthy', 'Healthy', 'Healthy', 'Healthy', 'Unhealthy', 'Unhealthy', 'Healthy', 'Healthy', 'Unhealthy', 'Healthy', 'Unhealthy', 'Healthy', 'Healthy', 'Unhealthy', 'Unhealthy', 'Unhealthy', 'Unhealthy', 'Unhealthy', 'Healthy', 'Healthy', 'Healthy', 'Healthy', 'Healthy', 'Healthy', 'Healthy', 'Healthy', 'Unhealthy', 'Healthy', 'Unhealthy', 'Healthy', 'Healthy', 'Healthy', 'Unhealthy', 'Unhealthy', 'Unhealthy', 'Healthy', 'Healthy', 'Healthy', 'Healthy', 'Unhealthy', 'Healthy', 'Unhealthy', 'Healthy', 'Unhealthy', 'Healthy', 'Healthy', 'Healthy', 'Healthy', 'Healthy', 'Healthy', 'Healthy', 'Healthy', 'Healthy', 'Healthy', 'Healthy', 'Healthy', 'Healthy', 'Unhealthy', 'Unhealthy', 'Healthy', 'Healthy', 'Unhealthy', 'Healthy', 'Healthy', 'Healthy', 'Healthy', 'Healthy', 'Healthy', 'Healthy', 'Healthy', 'Healthy', 'Unhealthy', 'Healthy', 'Healthy', 'Healthy', 'Unhealthy', 'Healthy', 'Unhealthy', 'Healthy', 'Healthy', 'Healthy', 'Healthy', 'Healthy', 'Healthy', 'Healthy', 'Healthy', 'Healthy', 'Unhealthy', 'Healthy', 'Unhealthy', 'Unhealthy', 'Healthy', 'Healthy', 'Healthy', 'Healthy', 'Healthy', 'Unhealthy', 'Healthy', 'Healthy', 'Healthy', 'Unhealthy', 'Healthy', 'Unhealthy', 'Healthy', 'Healthy', 'Healthy', 'Unhealthy', 'Unhealthy', 'Healthy', 'Unhealthy', 'Healthy', 'Healthy', 'Healthy', 'Healthy', 'Healthy', 'Healthy', 'Healthy', 'Unhealthy', 'Healthy', 'Healthy', 'Healthy', 'Unhealthy', 'Unhealthy', 'Healthy', 'Unhealthy', 'Healthy', 'Unhealthy', 'Unhealthy', 'Healthy', 'Healthy', 'Healthy', 'Unhealthy', 'Healthy', 'Unhealthy', 'Healthy', 'Unhealthy', 'Healthy', 'Unhealthy', 'Unhealthy', 'Unhealthy', 'Unhealthy', 'Unhealthy', 'Healthy', 'Healthy', 'Healthy', 'Healthy', 'Healthy', 'Healthy', 'Unhealthy', 'Healthy', 'Unhealthy', 'Healthy', 'Unhealthy', 'Unhealthy', 'Healthy', 'Healthy', 'Unhealthy', 'Healthy', 'Healthy', 'Healthy', 'Healthy', 'Unhealthy', 'Healthy', 'Unhealthy', 'Unhealthy', 'Unhealthy', 'Healthy', 'Healthy', 'Healthy', 'Healthy', 'Healthy', 'Unhealthy', 'Healthy', 'Healthy', 'Unhealthy', 'Unhealthy', 'Healthy', 'Healthy', 'Healthy', 'Unhealthy', 'Unhealthy', 'Healthy', 'Unhealthy', 'Healthy', 'Healthy', 'Unhealthy', 'Healthy', 'Healthy', 'Healthy', 'Healthy', 'Unhealthy', 'Healthy', 'Healthy', 'Unhealthy', 'Unhealthy', 'Healthy', 'Healthy', 'Healthy', 'Healthy', 'Unhealthy', 'Unhealthy', 'Healthy', 'Unhealthy', 'Unhealthy', 'Healthy', 'Healthy', 'Healthy', 'Healthy', 'Healthy', 'Healthy', 'Healthy', 'Healthy', 'Healthy', 'Unhealthy', 'Unhealthy', 'Unhealthy', 'Healthy', 'Healthy', 'Healthy', 'Healthy', 'Healthy', 'Unhealthy', 'Unhealthy', 'Healthy', 'Healthy', 'Healthy', 'Healthy', 'Healthy', 'Healthy', 'Healthy', 'Unhealthy', 'Unhealthy', 'Healthy', 'Unhealthy', 'Unhealthy', 'Healthy', 'Healthy', 'Healthy', 'Healthy', 'Unhealthy', 'Unhealthy', 'Healthy', 'Healthy', 'Healthy', 'Unhealthy', 'Healthy', 'Healthy', 'Healthy', 'Healthy', 'Healthy', 'Unhealthy', 'Healthy', 'Healthy', 'Unhealthy', 'Unhealthy', 'Unhealthy', 'Healthy', 'Unhealthy', 'Healthy', 'Healthy', 'Unhealthy', 'Unhealthy', 'Healthy', 'Healthy', 'Healthy', 'Healthy', 'Healthy', 'Healthy', 'Unhealthy', 'Healthy', 'Unhealthy', 'Healthy', 'Healthy', 'Unhealthy', 'Unhealthy', 'Unhealthy', 'Healthy', 'Healthy', 'Healthy', 'Healthy', 'Healthy', 'Healthy', 'Unhealthy', 'Healthy', 'Unhealthy', 'Healthy', 'Unhealthy', 'Healthy', 'Healthy', 'Unhealthy', 'Healthy', 'Unhealthy', 'Healthy', 'Healthy', 'Healthy', 'Healthy', 'Healthy', 'Healthy', 'Healthy', 'Unhealthy', 'Unhealthy', 'Healthy', 'Healthy', 'Healthy', 'Healthy', 'Unhealthy', 'Healthy', 'Healthy', 'Healthy', 'Unhealthy', 'Healthy', 'Healthy', 'Healthy', 'Healthy', 'Healthy', 'Healthy', 'Healthy', 'Healthy', 'Healthy', 'Healthy', 'Healthy', 'Unhealthy', 'Unhealthy', 'Healthy', 'Unhealthy', 'Unhealthy', 'Healthy', 'Unhealthy', 'Healthy', 'Healthy', 'Unhealthy', 'Unhealthy', 'Unhealthy', 'Healthy', 'Healthy', 'Healthy', 'Healthy', 'Unhealthy', 'Unhealthy', 'Healthy', 'Healthy', 'Healthy', 'Healthy', 'Unhealthy', 'Healthy', 'Healthy', 'Unhealthy', 'Unhealthy', 'Healthy', 'Healthy', 'Healthy', 'Unhealthy', 'Unhealthy', 'Unhealthy', 'Unhealthy', 'Healthy', 'Healthy', 'Healthy', 'Healthy', 'Unhealthy', 'Unhealthy', 'Healthy', 'Healthy', 'Unhealthy', 'Unhealthy', 'Healthy', 'Unhealthy', 'Unhealthy', 'Healthy', 'Healthy', 'Healthy', 'Healthy', 'Healthy', 'Healthy', 'Healthy', 'Healthy', 'Healthy', 'Healthy', 'Healthy', 'Healthy', 'Healthy', 'Healthy', 'Unhealthy', 'Healthy', 'Healthy', 'Healthy', 'Healthy', 'Unhealthy', 'Healthy', 'Unhealthy', 'Healthy', 'Unhealthy', 'Unhealthy', 'Healthy', 'Healthy', 'Unhealthy', 'Healthy', 'Healthy', 'Healthy', 'Healthy', 'Healthy', 'Unhealthy', 'Unhealthy', 'Healthy', 'Unhealthy', 'Healthy', 'Unhealthy', 'Unhealthy', 'Unhealthy', 'Healthy', 'Healthy', 'Healthy', 'Unhealthy', 'Healthy', 'Healthy', 'Healthy', 'Healthy', 'Healthy', 'Unhealthy', 'Healthy', 'Healthy', 'Unhealthy', 'Healthy', 'Healthy', 'Unhealthy', 'Healthy', 'Healthy', 'Unhealthy', 'Healthy', 'Healthy', 'Healthy', 'Unhealthy', 'Unhealthy', 'Healthy', 'Healthy', 'Healthy', 'Healthy', 'Healthy', 'Unhealthy', 'Healthy', 'Healthy', 'Healthy', 'Unhealthy', 'Healthy', 'Healthy', 'Unhealthy', 'Healthy', 'Unhealthy', 'Healthy', 'Unhealthy', 'Unhealthy', 'Unhealthy', 'Healthy', 'Healthy', 'Unhealthy', 'Healthy', 'Unhealthy', 'Healthy', 'Healthy', 'Healthy', 'Unhealthy', 'Healthy', 'Healthy', 'Healthy', 'Healthy', 'Unhealthy', 'Healthy', 'Unhealthy', 'Healthy', 'Unhealthy', 'Unhealthy', 'Healthy', 'Unhealthy', 'Unhealthy', 'Unhealthy', 'Healthy', 'Unhealthy', 'Unhealthy', 'Unhealthy', 'Healthy', 'Unhealthy', 'Unhealthy', 'Unhealthy', 'Healthy', 'Unhealthy', 'Unhealthy', 'Healthy', 'Unhealthy', 'Healthy', 'Unhealthy', 'Healthy', 'Unhealthy', 'Healthy', 'Healthy', 'Healthy', 'Healthy', 'Healthy', 'Healthy', 'Healthy', 'Healthy', 'Unhealthy', 'Healthy', 'Healthy', 'Healthy', 'Healthy', 'Healthy', 'Healthy', 'Healthy', 'Healthy', 'Healthy', 'Unhealthy', 'Healthy', 'Unhealthy', 'Healthy', 'Unhealthy', 'Unhealthy', 'Unhealthy', 'Healthy', 'Healthy', 'Healthy', 'Healthy', 'Unhealthy', 'Healthy', 'Unhealthy', 'Unhealthy', 'Healthy', 'Healthy', 'Healthy', 'Healthy', 'Healthy', 'Healthy', 'Healthy', 'Healthy', 'Unhealthy', 'Healthy', 'Unhealthy', 'Healthy', 'Healthy', 'Healthy', 'Unhealthy', 'Unhealthy', 'Healthy', 'Healthy', 'Healthy', 'Healthy', 'Unhealthy', 'Unhealthy', 'Unhealthy', 'Unhealthy', 'Healthy', 'Healthy', 'Healthy', 'Healthy', 'Unhealthy', 'Unhealthy', 'Unhealthy', 'Healthy', 'Unhealthy', 'Healthy', 'Healthy', 'Healthy', 'Unhealthy', 'Healthy', 'Healthy', 'Healthy', 'Healthy', 'Healthy', 'Unhealthy', 'Healthy', 'Healthy', 'Healthy', 'Unhealthy', 'Healthy', 'Healthy', 'Unhealthy', 'Unhealthy', 'Healthy', 'Unhealthy', 'Unhealthy', 'Healthy', 'Healthy', 'Healthy', 'Healthy', 'Unhealthy', 'Healthy', 'Healthy', 'Unhealthy', 'Healthy', 'Healthy', 'Unhealthy', 'Unhealthy', 'Healthy', 'Unhealthy', 'Unhealthy', 'Healthy', 'Unhealthy', 'Healthy', 'Healthy', 'Healthy', 'Unhealthy', 'Healthy', 'Healthy', 'Healthy', 'Healthy', 'Healthy', 'Unhealthy', 'Unhealthy', 'Healthy', 'Unhealthy', 'Unhealthy', 'Healthy', 'Unhealthy', 'Unhealthy', 'Healthy', 'Healthy', 'Unhealthy', 'Unhealthy', 'Healthy', 'Healthy', 'Unhealthy', 'Healthy', 'Unhealthy', 'Healthy', 'Unhealthy', 'Healthy', 'Unhealthy', 'Healthy', 'Healthy', 'Unhealthy', 'Unhealthy', 'Healthy', 'Healthy', 'Healthy', 'Healthy', 'Healthy', 'Unhealthy', 'Healthy', 'Healthy', 'Unhealthy', 'Healthy', 'Healthy', 'Healthy', 'Healthy', 'Unhealthy', 'Healthy', 'Unhealthy', 'Healthy', 'Healthy', 'Healthy', 'Healthy', 'Healthy', 'Unhealthy', 'Unhealthy', 'Healthy', 'Healthy', 'Healthy', 'Unhealthy', 'Healthy', 'Unhealthy', 'Healthy', 'Unhealthy', 'Healthy', 'Unhealthy', 'Healthy', 'Healthy', 'Healthy', 'Healthy', 'Healthy', 'Unhealthy', 'Healthy', 'Healthy', 'Healthy', 'Healthy', 'Unhealthy', 'Unhealthy', 'Healthy', 'Healthy', 'Healthy', 'Healthy', 'Healthy', 'Healthy', 'Healthy', 'Healthy', 'Unhealthy', 'Healthy', 'Healthy', 'Healthy', 'Healthy', 'Healthy', 'Unhealthy', 'Healthy', 'Healthy', 'Healthy', 'Healthy', 'Healthy', 'Unhealthy', 'Healthy', 'Healthy', 'Unhealthy', 'Unhealthy', 'Unhealthy', 'Unhealthy', 'Unhealthy', 'Healthy', 'Healthy', 'Unhealthy', 'Unhealthy', 'Healthy', 'Healthy', 'Unhealthy', 'Healthy', 'Healthy', 'Healthy', 'Healthy', 'Healthy', 'Unhealthy', 'Healthy', 'Healthy', 'Healthy', 'Unhealthy', 'Unhealthy', 'Unhealthy', 'Unhealthy', 'Healthy', 'Healthy', 'Healthy', 'Healthy', 'Healthy', 'Healthy', 'Unhealthy', 'Healthy', 'Healthy', 'Healthy', 'Healthy', 'Healthy', 'Unhealthy', 'Healthy', 'Healthy', 'Unhealthy', 'Unhealthy', 'Healthy', 'Unhealthy', 'Healthy', 'Healthy', 'Healthy', 'Unhealthy', 'Healthy', 'Healthy', 'Healthy', 'Healthy', 'Healthy', 'Healthy', 'Unhealthy', 'Unhealthy', 'Healthy', 'Unhealthy', 'Unhealthy', 'Unhealthy', 'Unhealthy', 'Healthy', 'Healthy', 'Unhealthy', 'Healthy', 'Healthy', 'Healthy', 'Healthy', 'Unhealthy', 'Healthy', 'Healthy', 'Healthy', 'Healthy', 'Unhealthy', 'Healthy', 'Healthy', 'Unhealthy', 'Unhealthy', 'Healthy', 'Unhealthy', 'Healthy', 'Healthy', 'Unhealthy', 'Healthy', 'Healthy', 'Healthy', 'Unhealthy', 'Unhealthy', 'Healthy', 'Healthy', 'Healthy', 'Unhealthy', 'Healthy', 'Unhealthy', 'Unhealthy', 'Healthy', 'Unhealthy', 'Unhealthy', 'Unhealthy', 'Healthy', 'Unhealthy', 'Unhealthy', 'Healthy', 'Healthy', 'Healthy', 'Healthy', 'Healthy', 'Healthy', 'Unhealthy', 'Unhealthy', 'Healthy', 'Unhealthy', 'Unhealthy', 'Unhealthy', 'Healthy', 'Healthy', 'Healthy', 'Healthy', 'Unhealthy', 'Healthy', 'Unhealthy', 'Healthy', 'Healthy', 'Healthy', 'Healthy', 'Healthy', 'Unhealthy', 'Healthy', 'Healthy', 'Healthy', 'Healthy', 'Unhealthy', 'Healthy', 'Healthy', 'Unhealthy', 'Unhealthy', 'Unhealthy', 'Unhealthy', 'Healthy', 'Healthy', 'Healthy', 'Unhealthy', 'Healthy', 'Unhealthy', 'Unhealthy', 'Healthy', 'Healthy', 'Healthy', 'Unhealthy', 'Healthy', 'Healthy', 'Healthy', 'Unhealthy', 'Unhealthy', 'Healthy', 'Unhealthy', 'Healthy', 'Unhealthy', 'Unhealthy', 'Healthy', 'Healthy', 'Healthy', 'Unhealthy', 'Healthy', 'Unhealthy', 'Unhealthy', 'Healthy', 'Unhealthy', 'Unhealthy', 'Unhealthy', 'Healthy', 'Unhealthy', 'Unhealthy', 'Healthy', 'Healthy', 'Unhealthy', 'Healthy', 'Healthy', 'Unhealthy', 'Unhealthy', 'Healthy', 'Healthy', 'Healthy', 'Unhealthy', 'Unhealthy', 'Unhealthy', 'Unhealthy', 'Healthy', 'Healthy', 'Unhealthy', 'Unhealthy', 'Healthy', 'Unhealthy', 'Unhealthy', 'Healthy', 'Unhealthy', 'Healthy', 'Healthy', 'Healthy', 'Healthy', 'Unhealthy', 'Unhealthy', 'Healthy', 'Unhealthy', 'Healthy', 'Unhealthy', 'Healthy', 'Unhealthy', 'Unhealthy', 'Healthy', 'Healthy', 'Unhealthy', 'Unhealthy', 'Healthy', 'Healthy', 'Unhealthy', 'Unhealthy', 'Healthy', 'Unhealthy', 'Healthy', 'Healthy', 'Unhealthy', 'Healthy', 'Unhealthy', 'Unhealthy', 'Healthy', 'Unhealthy', 'Healthy', 'Healthy', 'Unhealthy', 'Unhealthy', 'Unhealthy', 'Healthy', 'Healthy', 'Healthy', 'Unhealthy', 'Healthy', 'Healthy', 'Unhealthy', 'Healthy', 'Healthy', 'Healthy', 'Healthy', 'Healthy', 'Healthy', 'Unhealthy', 'Healthy', 'Healthy', 'Healthy', 'Healthy', 'Unhealthy', 'Healthy', 'Healthy', 'Healthy', 'Healthy', 'Healthy', 'Unhealthy', 'Healthy', 'Healthy', 'Unhealthy', 'Unhealthy', 'Healthy', 'Healthy', 'Healthy', 'Healthy', 'Healthy', 'Unhealthy', 'Unhealthy', 'Unhealthy', 'Healthy', 'Healthy', 'Healthy', 'Healthy', 'Healthy', 'Healthy', 'Healthy', 'Unhealthy', 'Healthy', 'Unhealthy', 'Healthy', 'Healthy', 'Healthy', 'Unhealthy', 'Unhealthy', 'Healthy', 'Healthy', 'Healthy', 'Healthy', 'Healthy', 'Unhealthy', 'Unhealthy', 'Healthy', 'Unhealthy', 'Healthy', 'Healthy', 'Unhealthy', 'Healthy', 'Healthy', 'Healthy', 'Healthy', 'Healthy', 'Unhealthy', 'Healthy', 'Unhealthy', 'Healthy', 'Healthy', 'Healthy', 'Healthy', 'Unhealthy', 'Healthy', 'Unhealthy', 'Healthy', 'Healthy', 'Healthy', 'Healthy', 'Healthy', 'Unhealthy', 'Healthy', 'Healthy', 'Healthy', 'Unhealthy', 'Healthy', 'Healthy', 'Healthy', 'Unhealthy', 'Healthy', 'Unhealthy', 'Healthy', 'Healthy', 'Healthy', 'Healthy', 'Healthy', 'Unhealthy', 'Healthy', 'Healthy', 'Unhealthy', 'Unhealthy', 'Healthy', 'Healthy', 'Healthy', 'Healthy', 'Healthy', 'Healthy', 'Unhealthy', 'Healthy', 'Healthy', 'Healthy', 'Healthy', 'Healthy', 'Healthy', 'Healthy', 'Unhealthy', 'Unhealthy', 'Unhealthy', 'Unhealthy', 'Healthy', 'Healthy', 'Healthy', 'Unhealthy', 'Healthy', 'Healthy', 'Healthy', 'Healthy', 'Unhealthy', 'Unhealthy', 'Healthy', 'Unhealthy', 'Unhealthy', 'Healthy', 'Healthy', 'Healthy', 'Healthy', 'Unhealthy', 'Healthy', 'Healthy', 'Healthy', 'Healthy', 'Healthy', 'Healthy', 'Unhealthy', 'Healthy', 'Healthy', 'Healthy', 'Unhealthy', 'Healthy', 'Unhealthy', 'Unhealthy', 'Healthy', 'Healthy', 'Healthy', 'Healthy', 'Healthy', 'Healthy', 'Healthy', 'Healthy', 'Healthy', 'Unhealthy', 'Healthy', 'Healthy', 'Healthy', 'Unhealthy', 'Unhealthy', 'Healthy', 'Healthy', 'Unhealthy', 'Unhealthy', 'Healthy', 'Healthy', 'Unhealthy', 'Unhealthy', 'Healthy', 'Unhealthy', 'Healthy', 'Healthy', 'Healthy', 'Unhealthy', 'Healthy', 'Unhealthy', 'Unhealthy', 'Healthy', 'Healthy', 'Healthy', 'Healthy', 'Healthy', 'Healthy', 'Healthy', 'Unhealthy', 'Unhealthy', 'Unhealthy', 'Healthy', 'Healthy', 'Healthy', 'Healthy', 'Healthy', 'Healthy', 'Unhealthy', 'Healthy', 'Healthy', 'Healthy', 'Unhealthy', 'Unhealthy', 'Unhealthy', 'Healthy', 'Unhealthy', 'Healthy', 'Healthy', 'Unhealthy', 'Healthy', 'Unhealthy', 'Healthy', 'Healthy', 'Healthy', 'Unhealthy', 'Unhealthy', 'Unhealthy', 'Unhealthy', 'Healthy', 'Healthy', 'Unhealthy', 'Unhealthy', 'Healthy', 'Healthy', 'Unhealthy', 'Healthy', 'Healthy', 'Healthy', 'Healthy', 'Healthy', 'Unhealthy', 'Healthy', 'Unhealthy', 'Unhealthy', 'Healthy', 'Healthy', 'Healthy', 'Healthy', 'Unhealthy', 'Healthy', 'Healthy', 'Unhealthy', 'Unhealthy', 'Healthy', 'Healthy', 'Healthy', 'Unhealthy', 'Healthy', 'Healthy', 'Unhealthy', 'Healthy', 'Healthy', 'Healthy', 'Healthy', 'Healthy', 'Unhealthy', 'Healthy', 'Healthy', 'Unhealthy', 'Unhealthy', 'Unhealthy', 'Healthy', 'Healthy', 'Unhealthy', 'Unhealthy', 'Healthy', 'Healthy', 'Unhealthy', 'Healthy', 'Unhealthy', 'Healthy', 'Unhealthy', 'Healthy', 'Unhealthy', 'Healthy', 'Healthy', 'Healthy', 'Healthy', 'Unhealthy', 'Unhealthy', 'Unhealthy', 'Unhealthy', 'Healthy', 'Healthy', 'Healthy', 'Healthy', 'Healthy', 'Healthy', 'Healthy', 'Unhealthy', 'Unhealthy', 'Healthy', 'Healthy', 'Healthy', 'Unhealthy', 'Healthy', 'Unhealthy', 'Healthy', 'Healthy', 'Unhealthy', 'Healthy', 'Healthy', 'Healthy', 'Unhealthy', 'Unhealthy', 'Healthy', 'Unhealthy', 'Healthy', 'Unhealthy', 'Healthy', 'Unhealthy', 'Healthy', 'Healthy', 'Healthy', 'Healthy', 'Healthy', 'Healthy', 'Unhealthy', 'Healthy', 'Unhealthy', 'Healthy', 'Unhealthy', 'Unhealthy', 'Unhealthy', 'Healthy', 'Unhealthy', 'Unhealthy', 'Healthy', 'Healthy', 'Unhealthy', 'Healthy', 'Healthy', 'Unhealthy', 'Unhealthy', 'Healthy', 'Unhealthy', 'Healthy', 'Healthy', 'Healthy', 'Healthy', 'Healthy', 'Healthy', 'Healthy', 'Healthy', 'Healthy', 'Healthy', 'Unhealthy', 'Unhealthy', 'Healthy', 'Healthy', 'Healthy', 'Healthy', 'Healthy', 'Unhealthy', 'Unhealthy', 'Unhealthy', 'Healthy', 'Unhealthy', 'Unhealthy', 'Healthy', 'Healthy', 'Unhealthy', 'Healthy', 'Healthy', 'Healthy', 'Unhealthy', 'Healthy', 'Healthy', 'Unhealthy', 'Healthy', 'Unhealthy', 'Healthy', 'Healthy', 'Healthy', 'Unhealthy', 'Healthy', 'Healthy', 'Unhealthy', 'Healthy', 'Healthy', 'Unhealthy', 'Healthy', 'Healthy', 'Healthy', 'Healthy', 'Unhealthy', 'Unhealthy', 'Healthy', 'Unhealthy', 'Healthy', 'Unhealthy', 'Healthy', 'Healthy', 'Unhealthy', 'Healthy', 'Healthy', 'Healthy', 'Unhealthy', 'Unhealthy', 'Healthy', 'Healthy', 'Healthy', 'Healthy', 'Unhealthy', 'Healthy', 'Healthy', 'Unhealthy', 'Unhealthy', 'Healthy', 'Unhealthy', 'Healthy', 'Healthy', 'Healthy', 'Unhealthy', 'Unhealthy', 'Unhealthy', 'Unhealthy', 'Healthy', 'Unhealthy', 'Healthy', 'Unhealthy', 'Unhealthy', 'Healthy', 'Healthy', 'Unhealthy', 'Healthy', 'Unhealthy', 'Healthy', 'Healthy', 'Healthy', 'Healthy', 'Healthy', 'Unhealthy', 'Healthy', 'Healthy', 'Healthy', 'Unhealthy', 'Healthy', 'Healthy', 'Unhealthy', 'Unhealthy', 'Healthy', 'Healthy', 'Healthy', 'Unhealthy', 'Unhealthy', 'Unhealthy', 'Unhealthy', 'Unhealthy', 'Healthy', 'Healthy', 'Unhealthy', 'Unhealthy', 'Unhealthy', 'Healthy', 'Healthy', 'Healthy', 'Unhealthy', 'Healthy', 'Unhealthy', 'Healthy', 'Unhealthy', 'Healthy', 'Healthy', 'Unhealthy', 'Unhealthy', 'Healthy', 'Healthy', 'Unhealthy', 'Healthy', 'Unhealthy', 'Unhealthy', 'Unhealthy', 'Healthy', 'Healthy', 'Healthy', 'Healthy', 'Healthy', 'Healthy', 'Healthy', 'Unhealthy', 'Healthy', 'Healthy', 'Healthy', 'Healthy', 'Unhealthy', 'Unhealthy', 'Healthy', 'Unhealthy', 'Healthy', 'Healthy', 'Healthy', 'Unhealthy', 'Healthy', 'Healthy', 'Healthy', 'Healthy', 'Unhealthy', 'Healthy', 'Healthy', 'Healthy', 'Healthy', 'Healthy', 'Unhealthy', 'Healthy', 'Healthy', 'Healthy', 'Unhealthy', 'Healthy', 'Unhealthy', 'Healthy', 'Healthy', 'Unhealthy', 'Unhealthy', 'Unhealthy', 'Unhealthy', 'Unhealthy', 'Healthy', 'Unhealthy', 'Unhealthy', 'Healthy', 'Unhealthy', 'Unhealthy', 'Healthy', 'Unhealthy', 'Healthy', 'Unhealthy', 'Healthy', 'Healthy', 'Healthy', 'Unhealthy', 'Healthy', 'Healthy', 'Healthy', 'Healthy', 'Healthy', 'Healthy', 'Healthy', 'Unhealthy', 'Healthy', 'Unhealthy', 'Healthy', 'Unhealthy', 'Healthy', 'Unhealthy', 'Healthy', 'Unhealthy', 'Healthy', 'Healthy', 'Healthy', 'Healthy', 'Healthy', 'Healthy', 'Unhealthy', 'Unhealthy', 'Healthy', 'Healthy', 'Healthy', 'Healthy', 'Healthy', 'Unhealthy', 'Healthy', 'Unhealthy', 'Healthy', 'Healthy', 'Healthy', 'Healthy', 'Healthy', 'Unhealthy', 'Unhealthy', 'Unhealthy', 'Unhealthy', 'Healthy', 'Unhealthy', 'Unhealthy', 'Healthy', 'Healthy', 'Healthy', 'Healthy', 'Healthy', 'Healthy', 'Unhealthy', 'Healthy', 'Healthy', 'Healthy', 'Unhealthy', 'Healthy', 'Unhealthy', 'Healthy', 'Unhealthy', 'Healthy', 'Healthy', 'Unhealthy', 'Healthy', 'Healthy', 'Healthy', 'Healthy', 'Unhealthy', 'Healthy', 'Unhealthy', 'Healthy', 'Unhealthy', 'Unhealthy', 'Unhealthy', 'Healthy', 'Unhealthy', 'Unhealthy', 'Healthy', 'Unhealthy', 'Healthy', 'Healthy', 'Unhealthy', 'Healthy', 'Unhealthy', 'Unhealthy', 'Unhealthy', 'Healthy', 'Healthy', 'Unhealthy', 'Healthy', 'Unhealthy', 'Healthy', 'Healthy', 'Unhealthy', 'Healthy', 'Healthy', 'Healthy', 'Unhealthy', 'Healthy', 'Unhealthy', 'Unhealthy', 'Healthy', 'Healthy', 'Unhealthy', 'Healthy', 'Healthy', 'Unhealthy', 'Healthy', 'Unhealthy', 'Healthy', 'Healthy', 'Healthy', 'Healthy', 'Unhealthy', 'Healthy', 'Healthy', 'Unhealthy', 'Healthy', 'Healthy', 'Unhealthy', 'Healthy', 'Healthy', 'Unhealthy', 'Healthy', 'Healthy', 'Unhealthy', 'Healthy', 'Unhealthy', 'Unhealthy', 'Healthy', 'Unhealthy', 'Unhealthy', 'Healthy', 'Healthy', 'Healthy', 'Healthy', 'Healthy', 'Healthy', 'Healthy', 'Healthy', 'Healthy', 'Unhealthy', 'Unhealthy', 'Unhealthy', 'Healthy', 'Healthy', 'Healthy', 'Unhealthy', 'Healthy', 'Healthy', 'Healthy', 'Unhealthy', 'Healthy', 'Unhealthy', 'Unhealthy', 'Healthy', 'Healthy', 'Unhealthy', 'Healthy', 'Healthy', 'Healthy', 'Unhealthy', 'Healthy', 'Healthy', 'Healthy', 'Healthy', 'Healthy', 'Healthy', 'Unhealthy', 'Unhealthy', 'Healthy', 'Unhealthy', 'Unhealthy', 'Unhealthy', 'Unhealthy', 'Unhealthy', 'Unhealthy', 'Healthy', 'Healthy', 'Unhealthy', 'Healthy', 'Healthy', 'Unhealthy', 'Healthy', 'Unhealthy', 'Unhealthy', 'Healthy', 'Healthy', 'Unhealthy', 'Unhealthy', 'Healthy', 'Healthy', 'Unhealthy', 'Healthy', 'Healthy', 'Healthy', 'Unhealthy', 'Unhealthy', 'Healthy', 'Healthy', 'Unhealthy', 'Healthy', 'Unhealthy', 'Healthy', 'Healthy', 'Healthy', 'Unhealthy', 'Healthy', 'Healthy', 'Unhealthy', 'Unhealthy', 'Unhealthy', 'Unhealthy', 'Unhealthy', 'Healthy', 'Healthy', 'Healthy', 'Unhealthy', 'Unhealthy', 'Unhealthy', 'Healthy', 'Unhealthy', 'Healthy', 'Unhealthy', 'Healthy', 'Unhealthy', 'Unhealthy', 'Healthy', 'Unhealthy', 'Unhealthy', 'Unhealthy', 'Unhealthy', 'Healthy', 'Healthy', 'Healthy', 'Healthy', 'Healthy', 'Unhealthy', 'Healthy', 'Unhealthy', 'Unhealthy', 'Healthy', 'Healthy', 'Healthy', 'Healthy', 'Healthy', 'Healthy', 'Healthy', 'Healthy', 'Healthy', 'Healthy', 'Healthy', 'Healthy', 'Unhealthy', 'Unhealthy', 'Unhealthy', 'Healthy', 'Healthy', 'Healthy', 'Healthy', 'Healthy', 'Healthy', 'Healthy', 'Healthy', 'Healthy', 'Unhealthy', 'Unhealthy', 'Unhealthy', 'Unhealthy', 'Healthy', 'Healthy', 'Unhealthy', 'Healthy', 'Healthy', 'Unhealthy', 'Healthy', 'Healthy', 'Healthy', 'Healthy', 'Unhealthy', 'Healthy', 'Unhealthy', 'Unhealthy', 'Healthy', 'Healthy', 'Healthy', 'Healthy', 'Healthy', 'Healthy', 'Healthy', 'Healthy', 'Healthy', 'Unhealthy', 'Healthy', 'Unhealthy', 'Healthy', 'Healthy', 'Unhealthy', 'Unhealthy', 'Healthy', 'Healthy', 'Healthy', 'Healthy', 'Unhealthy', 'Healthy', 'Unhealthy', 'Unhealthy', 'Healthy', 'Healthy', 'Healthy', 'Healthy', 'Healthy', 'Healthy', 'Healthy', 'Healthy', 'Healthy', 'Healthy', 'Unhealthy', 'Healthy', 'Healthy', 'Unhealthy', 'Healthy', 'Healthy', 'Unhealthy', 'Healthy', 'Healthy', 'Healthy', 'Healthy', 'Unhealthy', 'Unhealthy', 'Healthy', 'Healthy', 'Unhealthy', 'Unhealthy', 'Unhealthy', 'Unhealthy', 'Unhealthy', 'Healthy', 'Healthy', 'Unhealthy', 'Healthy', 'Healthy', 'Healthy', 'Healthy', 'Unhealthy', 'Healthy', 'Healthy', 'Unhealthy', 'Unhealthy', 'Healthy', 'Healthy', 'Healthy', 'Healthy', 'Healthy', 'Unhealthy', 'Healthy', 'Unhealthy', 'Healthy', 'Healthy', 'Healthy', 'Unhealthy', 'Healthy', 'Healthy', 'Healthy', 'Unhealthy', 'Healthy', 'Unhealthy', 'Unhealthy', 'Healthy', 'Healthy', 'Unhealthy', 'Healthy', 'Unhealthy', 'Unhealthy', 'Healthy', 'Unhealthy', 'Healthy', 'Healthy', 'Unhealthy', 'Healthy', 'Healthy', 'Unhealthy', 'Healthy', 'Unhealthy', 'Unhealthy', 'Unhealthy', 'Unhealthy', 'Healthy', 'Healthy', 'Unhealthy', 'Healthy', 'Healthy', 'Unhealthy', 'Healthy', 'Healthy', 'Unhealthy', 'Unhealthy', 'Healthy', 'Healthy', 'Unhealthy', 'Healthy', 'Unhealthy', 'Unhealthy', 'Healthy', 'Healthy', 'Healthy', 'Healthy', 'Unhealthy', 'Healthy', 'Healthy', 'Unhealthy', 'Unhealthy', 'Unhealthy', 'Healthy', 'Unhealthy', 'Healthy', 'Unhealthy', 'Unhealthy', 'Healthy', 'Unhealthy', 'Healthy', 'Unhealthy', 'Healthy', 'Healthy', 'Unhealthy', 'Healthy', 'Healthy', 'Unhealthy', 'Healthy', 'Healthy', 'Healthy', 'Unhealthy', 'Unhealthy', 'Healthy', 'Unhealthy', 'Healthy', 'Healthy', 'Healthy', 'Healthy', 'Healthy', 'Healthy', 'Healthy', 'Healthy', 'Healthy', 'Unhealthy', 'Unhealthy', 'Unhealthy', 'Healthy', 'Healthy', 'Unhealthy', 'Healthy', 'Healthy', 'Healthy', 'Healthy', 'Unhealthy', 'Unhealthy', 'Healthy', 'Healthy', 'Unhealthy', 'Healthy', 'Healthy', 'Healthy', 'Healthy', 'Unhealthy', 'Healthy', 'Healthy', 'Unhealthy', 'Healthy', 'Healthy', 'Healthy', 'Healthy', 'Healthy', 'Healthy', 'Healthy', 'Healthy', 'Unhealthy', 'Healthy', 'Unhealthy', 'Unhealthy', 'Unhealthy', 'Healthy', 'Healthy', 'Healthy', 'Unhealthy', 'Healthy', 'Healthy', 'Healthy', 'Healthy', 'Healthy', 'Unhealthy', 'Healthy', 'Healthy', 'Healthy', 'Healthy', 'Healthy', 'Unhealthy', 'Healthy', 'Healthy', 'Healthy', 'Healthy', 'Healthy', 'Unhealthy', 'Healthy', 'Healthy', 'Unhealthy', 'Healthy', 'Healthy', 'Unhealthy', 'Unhealthy', 'Unhealthy', 'Healthy', 'Unhealthy', 'Unhealthy', 'Healthy', 'Unhealthy', 'Unhealthy', 'Unhealthy', 'Healthy', 'Healthy', 'Healthy', 'Unhealthy', 'Healthy', 'Healthy', 'Healthy', 'Healthy', 'Unhealthy', 'Unhealthy', 'Healthy', 'Healthy', 'Healthy', 'Unhealthy', 'Healthy', 'Unhealthy', 'Healthy', 'Unhealthy', 'Healthy', 'Healthy', 'Healthy', 'Healthy', 'Unhealthy', 'Healthy', 'Unhealthy', 'Healthy', 'Healthy', 'Healthy', 'Healthy', 'Unhealthy', 'Healthy', 'Healthy', 'Healthy', 'Healthy', 'Unhealthy', 'Unhealthy', 'Unhealthy', 'Unhealthy', 'Healthy', 'Unhealthy', 'Unhealthy', 'Healthy', 'Healthy', 'Healthy', 'Healthy', 'Unhealthy', 'Healthy', 'Healthy', 'Healthy', 'Healthy', 'Unhealthy', 'Healthy', 'Unhealthy', 'Healthy', 'Unhealthy', 'Healthy', 'Unhealthy', 'Healthy', 'Healthy', 'Healthy', 'Healthy', 'Unhealthy', 'Healthy', 'Healthy', 'Unhealthy', 'Unhealthy', 'Healthy', 'Healthy', 'Unhealthy', 'Healthy', 'Healthy', 'Healthy', 'Healthy', 'Healthy', 'Unhealthy', 'Unhealthy', 'Healthy', 'Unhealthy', 'Healthy', 'Unhealthy', 'Healthy', 'Healthy', 'Unhealthy', 'Healthy', 'Unhealthy', 'Healthy', 'Healthy', 'Healthy', 'Unhealthy', 'Unhealthy', 'Healthy', 'Healthy', 'Healthy', 'Unhealthy', 'Healthy', 'Healthy', 'Healthy', 'Healthy', 'Healthy', 'Healthy', 'Healthy', 'Healthy', 'Healthy', 'Unhealthy', 'Healthy', 'Healthy', 'Unhealthy', 'Healthy', 'Unhealthy', 'Healthy', 'Unhealthy', 'Healthy', 'Healthy', 'Unhealthy', 'Healthy', 'Healthy', 'Healthy', 'Unhealthy', 'Healthy', 'Healthy', 'Healthy', 'Unhealthy', 'Healthy', 'Healthy', 'Healthy', 'Healthy', 'Unhealthy', 'Healthy', 'Unhealthy', 'Unhealthy', 'Unhealthy', 'Unhealthy', 'Unhealthy', 'Healthy', 'Unhealthy', 'Healthy', 'Healthy', 'Healthy', 'Healthy', 'Unhealthy', 'Healthy', 'Unhealthy', 'Healthy', 'Healthy', 'Healthy', 'Healthy', 'Healthy', 'Unhealthy', 'Unhealthy', 'Unhealthy', 'Healthy', 'Unhealthy', 'Healthy', 'Healthy', 'Healthy', 'Unhealthy', 'Unhealthy', 'Healthy', 'Healthy', 'Healthy', 'Unhealthy', 'Healthy', 'Unhealthy', 'Unhealthy', 'Healthy', 'Healthy', 'Unhealthy', 'Healthy', 'Unhealthy', 'Healthy', 'Healthy', 'Healthy', 'Healthy', 'Unhealthy', 'Unhealthy', 'Unhealthy', 'Healthy', 'Healthy', 'Healthy', 'Healthy', 'Unhealthy', 'Unhealthy', 'Unhealthy', 'Healthy', 'Healthy', 'Healthy', 'Unhealthy', 'Healthy', 'Healthy', 'Healthy', 'Healthy', 'Healthy', 'Healthy', 'Unhealthy', 'Unhealthy', 'Unhealthy', 'Healthy', 'Healthy', 'Healthy', 'Unhealthy', 'Healthy', 'Healthy', 'Healthy', 'Healthy', 'Healthy', 'Unhealthy', 'Unhealthy', 'Healthy', 'Unhealthy', 'Healthy', 'Healthy', 'Healthy', 'Unhealthy', 'Healthy', 'Healthy', 'Healthy', 'Healthy', 'Healthy', 'Unhealthy', 'Healthy', 'Healthy', 'Healthy', 'Healthy', 'Healthy', 'Healthy', 'Unhealthy', 'Healthy', 'Unhealthy', 'Healthy', 'Healthy', 'Healthy', 'Healthy', 'Healthy', 'Unhealthy', 'Healthy', 'Healthy', 'Unhealthy', 'Healthy', 'Unhealthy', 'Unhealthy', 'Healthy', 'Unhealthy', 'Unhealthy', 'Healthy', 'Healthy', 'Healthy', 'Unhealthy', 'Unhealthy', 'Healthy', 'Healthy', 'Healthy', 'Healthy', 'Healthy', 'Healthy', 'Healthy', 'Healthy', 'Unhealthy', 'Unhealthy', 'Unhealthy', 'Healthy', 'Healthy', 'Healthy', 'Healthy', 'Healthy', 'Healthy', 'Unhealthy', 'Healthy', 'Unhealthy', 'Healthy', 'Healthy', 'Healthy', 'Healthy', 'Unhealthy', 'Healthy', 'Healthy', 'Healthy', 'Unhealthy', 'Unhealthy', 'Healthy', 'Unhealthy', 'Unhealthy', 'Unhealthy', 'Unhealthy', 'Healthy', 'Unhealthy', 'Unhealthy', 'Unhealthy', 'Healthy', 'Unhealthy', 'Healthy', 'Healthy']\n"
          ]
        }
      ],
      "source": [
        "# Discretization of data\n",
        "# Heatlhy 7+ Hours of Sleep (For Adults this is True), Unhealthy anything below 7\n",
        "# Python vectorisation\n",
        "sleepCatagories = []\n",
        "for i, row in data.iterrows():\n",
        "  sleep = row['SLD010H']\n",
        "  ### BEGIN YOUR CODE HERE ###\n",
        "  if sleep >= 7:\n",
        "    sleepCatagories.append(\"Healthy\")\n",
        "  elif sleep < 7:\n",
        "    sleepCatagories.append(\"Unhealthy\")\n",
        "\n",
        "print(sleepCatagories)"
      ]
    },
    {
      "cell_type": "markdown",
      "metadata": {
        "id": "Hz59FNK9Czkg"
      },
      "source": [
        "## Visualizing Data & Searching for Correlation"
      ]
    },
    {
      "cell_type": "code",
      "execution_count": null,
      "metadata": {
        "colab": {
          "base_uri": "https://localhost:8080/",
          "height": 449
        },
        "id": "e-kJyxnjS_Yf",
        "outputId": "47e24ae0-3b23-48cd-d684-fc9194afb6f9"
      },
      "outputs": [
        {
          "output_type": "display_data",
          "data": {
            "text/plain": [
              "<Figure size 640x480 with 1 Axes>"
            ],
            "image/png": "[encoded data removed]"
          },
          "metadata": {}
        }
      ],
      "source": [
        "# Scatter Plot of Hours of Sleep vs. Anxiety Questionaire\n",
        "# DPQ010, SLD010H\n",
        "\n",
        "ax1 = data.plot.scatter(x='SLD010H', y='DPQ010',c='DarkBlue')\n"
      ]
    },
    {
      "cell_type": "code",
      "execution_count": null,
      "metadata": {
        "colab": {
          "base_uri": "https://localhost:8080/",
          "height": 449
        },
        "id": "CptYCtl_Jitp",
        "outputId": "482858fe-5225-4e3b-8ffd-3a3d7c1415b0"
      },
      "outputs": [
        {
          "output_type": "display_data",
          "data": {
            "text/plain": [
              "<Figure size 640x480 with 1 Axes>"
            ],
            "image/png": "[encoded data removed]"
          },
          "metadata": {}
        }
      ],
      "source": [
        "# Scatter Plot of Hours of Sleep vs. Alcohol Use\n",
        "# DPQ010, SLD010H\n",
        "\n",
        "ax1 = data.plot.scatter(x='SLD010H', y='ALQ151',c='DarkBlue')\n"
      ]
    },
    {
      "cell_type": "code",
      "execution_count": null,
      "metadata": {
        "colab": {
          "base_uri": "https://localhost:8080/",
          "height": 449
        },
        "id": "NEpvhm-IJivl",
        "outputId": "93e3d861-62db-4d6e-c878-bd7747f5ab05"
      },
      "outputs": [
        {
          "output_type": "display_data",
          "data": {
            "text/plain": [
              "<Figure size 640x480 with 1 Axes>"
            ],
            "image/png": "[encoded data removed]"
          },
          "metadata": {}
        }
      ],
      "source": [
        "# Scatter Plot of Hours of Sleep vs. Drug Use (Any)\n",
        "# DPQ010, SLD010H\n",
        "\n",
        "ax1 = data.plot.scatter(x='SLD010H', y='DUQ230',c='DarkBlue')\n"
      ]
    },
    {
      "cell_type": "code",
      "execution_count": null,
      "metadata": {
        "colab": {
          "base_uri": "https://localhost:8080/",
          "height": 478
        },
        "id": "xGPgkPUJJi63",
        "outputId": "c7fb07d1-e641-4073-fdbb-0ed4ee2fa3f9"
      },
      "outputs": [
        {
          "output_type": "display_data",
          "data": {
            "text/plain": [
              "<Figure size 640x480 with 1 Axes>"
            ],
            "image/png": "[encoded data removed]"
          },
          "metadata": {}
        }
      ],
      "source": [
        "# Scatter Plot of Hours of Sleep vs. Marijianna\n",
        "# DPQ010, SLD010H\n",
        "\n",
        "ax1 = data.boxplot(column=['SMD641'], by='SLD010H')\n"
      ]
    },
    {
      "cell_type": "code",
      "execution_count": null,
      "metadata": {
        "colab": {
          "base_uri": "https://localhost:8080/",
          "height": 449
        },
        "id": "XEipagW8JjA_",
        "outputId": "ae834a11-4104-4ef9-e308-46db094de7be"
      },
      "outputs": [
        {
          "output_type": "display_data",
          "data": {
            "text/plain": [
              "<Figure size 640x480 with 1 Axes>"
            ],
            "image/png": "[encoded data removed]"
          },
          "metadata": {}
        }
      ],
      "source": [
        "# Scatter Plot of Hours of Sleep vs. Dietery Fast Food Orders\n",
        "# DPQ010, SLD010H\n",
        "\n",
        "ax1 = data.plot.scatter(x='SLD010H', y='CBQ535',c='DarkBlue')\n"
      ]
    },
    {
      "cell_type": "markdown",
      "metadata": {
        "id": "2YhgPf9LC_LE"
      },
      "source": [
        "## Data Processing"
      ]
    },
    {
      "cell_type": "code",
      "execution_count": null,
      "metadata": {
        "id": "9KpLoHqwJspK"
      },
      "outputs": [],
      "source": [
        "# Dictionary to decode and rename column names for better readability\n",
        "col_decoder = {\n",
        "'ACD011A' : 'speak_english',\n",
        "'AIALANGA' : 'speak_english2',\n",
        "'ALQ101' : 'drink_alcohol',\n",
        "'ALQ130' : 'alcohol_per_day',\n",
        "'AUQ136' : 'ear_infections',\n",
        "'BMDAVSAD' : 'saggital_abdominal_avg',\n",
        "'BMXARMC' : 'arm_circum',\n",
        "'BMXBMI' : 'BMI',\n",
        "'BMXLEG' : 'leg_length',\n",
        "'BMXSAD1' : 'saggital_abdominal_1',\n",
        "'BMXSAD2' : 'saggital_abdominal_2',\n",
        "'BMXWAIST' : 'waist_circum',\n",
        "'BMXWT' : 'weight_kg',\n",
        "'BPQ020' : 'high_bp',\n",
        "'BPQ056' : 'measure_bp_home',\n",
        "'BPQ059' : 'measure_bp_doctor',\n",
        "'BPQ060' : 'cholesterol_checked',\n",
        "'BPQ070' : 'cholesterol_checked_1y',\n",
        "'BPQ080' : 'high_cholesterol',\n",
        "'BPQ090D' : 'cholesterol_prescription',\n",
        "'BPXDI1' : 'diastolic_bp',\n",
        "'BPXML1' : 'cuff_max_inflation',\n",
        "'BPXSY1' : 'blood_pressure_1',\n",
        "'BPXSY2' : 'blood_pressure_2',\n",
        "'BPXSY3' : 'blood_pressure_3',\n",
        "'CBD070' : 'grocery_budget',\n",
        "'CBD090' : 'nonfood_budget',\n",
        "'CBD110' : 'food_budget',\n",
        "'CBD120' : 'restaurant_budget',\n",
        "'CBD130' : 'food_delivery_budget',\n",
        "'CBQ505' : 'fast_food',\n",
        "'CBQ535' : 'saw_nutrition_fast_food',\n",
        "'CBQ545' : 'use_nutrition_fast_food',\n",
        "'CBQ550' : 'eat_restaurants',\n",
        "'CBQ552' : 'eat_chain_restaurants',\n",
        "'CBQ580' : 'saw_nutrition_restaurant',\n",
        "'CBQ590' : 'use_nutrition_restaurant',\n",
        "'CBQ596' : 'saw_my_plate',\n",
        "'CDQ001' : 'chest_pain_ever',\n",
        "'CDQ010' : 'short_breath_stairs',\n",
        "'CSQ030' : 'sensative_smell',\n",
        "'CSQ100' : 'loss_of_taste',\n",
        "'CSQ110' : 'taste_in_mouth',\n",
        "'CSQ202' : 'dry_mouth',\n",
        "'CSQ204' : 'nasal_congestion',\n",
        "'CSQ210' : 'wisdom_teeth_removed',\n",
        "'CSQ220' : 'tonsils_removed',\n",
        "'CSQ240' : 'head_injury',\n",
        "'CSQ250' : 'broken_nose',\n",
        "'CSQ260' : 'sinus_infections',\n",
        "'DBD100' : 'salt_frequency',\n",
        "'DBD895' : 'meals_not_homemade',\n",
        "'DBD900' : 'meals_fast_food',\n",
        "'DBD905' : 'meals_prepackaged',\n",
        "'DBD910' : 'frozen_meals_per_month',\n",
        "'DBQ095Z' : 'salt_type',\n",
        "'DBQ197' : 'milk_product_per_month',\n",
        "'DBQ229' : 'milk_drinker',\n",
        "'DBQ700' : 'healthy_diet',\n",
        "'DEQ034C' : 'long_sleeve_shirt',\n",
        "'DEQ034D' : 'use_sunscreen',\n",
        "'DEQ038G' : 'sunburn_1y',\n",
        "'DIQ010' : 'diabetes',\n",
        "'DIQ050' : 'taking_insulin',\n",
        "'DIQ160' : 'prediabetes',\n",
        "'DIQ170' : 'diabetes_risk',\n",
        "'DIQ172' : 'diabetes_concern',\n",
        "'DIQ180' : 'blood_test_3y',\n",
        "'DLQ010' : 'deaf',\n",
        "'DLQ020' : 'blind',\n",
        "'DLQ040' : 'mental_issues',\n",
        "'DLQ050' : 'difficulty_walking',\n",
        "'DLQ060' : 'difficulty_dressing',\n",
        "'DLQ080' : 'difficulty_errands',\n",
        "'DMDBORN4' : 'born_in_us2',\n",
        "'DMDHHSIZ' : 'people_in_house',\n",
        "'DMDHHSZB' : 'children_in_house',\n",
        "'DMDHHSZE' : 'people_over_60_in_house',\n",
        "'DMDHRBR4' : 'born_in_us',\n",
        "'DMDHRGND' : 'gender2',\n",
        "'DMDMARTL' : 'Marital_Status',\n",
        "'DMDYRSUS' : 'years_in_US',\n",
        "'DPQ010' : 'no_interest_2w',\n",
        "'DPQ020' : 'depression',\n",
        "'DPQ030' : 'trouble_sleeping_2w',\n",
        "'DPQ040' : 'fatigue_2w',\n",
        "'DPQ050' : 'eating_problems_2w',\n",
        "'DPQ060' : 'feel_bad_2w',\n",
        "'DPQ070' : 'trouble_concentrating_2w',\n",
        "'DPQ080' : 'speaking_problems_2w',\n",
        "'DPQ090' : 'suicidal_2w',\n",
        "'DPQ100' : 'depression_difficulty',\n",
        "'DR1.320Z' : 'water',\n",
        "'DR1_320Z' : 'plain_water_yesterday',\n",
        "'DR1_330Z' : 'tap_water_yesterday',\n",
        "'DR1BWATZ' : 'bottled_water_yesterday',\n",
        "'DR1HELPD' : 'interview_help',\n",
        "'DR1TACAR' : 'dietary_alpha_carotene',\n",
        "'DR1TALCO' : 'alcohol',\n",
        "'DR1TATOC' : 'dietary_vitamin_e',\n",
        "'DR1TBCAR' : 'dietary_beta_carotene',\n",
        "'DR1TCAFF' : 'caffeine',\n",
        "'DR1TCALC' : 'dietary_calcium',\n",
        "'DR1TCARB' : 'carb',\n",
        "'DR1TCHL' : 'dietary_choline',\n",
        "'DR1TCHOL' : 'cholesterol',\n",
        "'DR1TCOPP' : 'dietary_copper',\n",
        "'DR1TCRYP' : 'dietary_beta_cryptoxanthin',\n",
        "'DR1TFA' : 'dietary_folic_acid',\n",
        "'DR1TFF' : 'folate_food',\n",
        "'DR1TFIBE' : 'fiber',\n",
        "'DR1TFOLA' : 'dietary_folate',\n",
        "'DR1TIRON' : 'dietary_iron',\n",
        "'DR1TKCAL' : 'calories',\n",
        "'DR1TLYCO' : 'dietary_lycopene',\n",
        "'DR1TLZ' : 'dietary_lutein',\n",
        "'DR1TM181' : 'octadecenoic_percent',\n",
        "'DR1TMAGN' : 'magnesium',\n",
        "'DR1TMFAT' : 'monounsaturated_fats',\n",
        "'DR1TMOIS' : 'moisture',\n",
        "'DR1TNIAC' : 'dietary_niacin',\n",
        "'DR1TP183' : 'octadecatrienoic_percent',\n",
        "'DR1TPHOS' : 'dietary_phosphorus',\n",
        "'DR1TPOTA' : 'dietary_potassium',\n",
        "'DR1TPROT' : 'protein',\n",
        "'DR1TRET' : 'dietary_retinol',\n",
        "'DR1TS140' : 'tetradeconoic_percent',\n",
        "'DR1TSELE' : 'dietary_selenium',\n",
        "'DR1TSODI' : 'sodium',\n",
        "'DR1TSUGR' : 'sugar',\n",
        "'DR1TTFAT' : 'fat',\n",
        "'DR1TTHEO' : 'dietary_theobromine',\n",
        "'DR1TVARA' : 'dietary_vitamin_a',\n",
        "'DR1TVB1' : 'dietary_b1',\n",
        "'DR1TVB12' : 'dietary_b12',\n",
        "'DR1TVB2' : 'dietary_b2',\n",
        "'DR1TVB6' : 'dietary_b6',\n",
        "'DR1TVC' : 'dietary_vit_c',\n",
        "'DR1TVD' : 'dietary_vit_d',\n",
        "'DR1TVK' : 'dietary_vit_k',\n",
        "'DR1TZINC' : 'dietary_zinc',\n",
        "'DRABF' : 'breast_fed',\n",
        "'DRD340' : 'shellfish',\n",
        "'DRD350A' : 'clams',\n",
        "'DRD350B' : 'crabs',\n",
        "'DRD350C' : 'crayfish',\n",
        "'DRD350D' : 'lobsters',\n",
        "'DRD350E' : 'mussels',\n",
        "'DRD350F' : 'oysters',\n",
        "'DRD350G' : 'scallops',\n",
        "'DRD350H' : 'shrimp',\n",
        "'DRD370A' : 'breaded_fish',\n",
        "'DRD370B' : 'tuna',\n",
        "'DRD370C' : 'bass',\n",
        "'DRD370D' : 'catfish',\n",
        "'DRD370E' : 'cod',\n",
        "'DRD370F' : 'flatfish',\n",
        "'DRD370G' : 'haddock',\n",
        "'DRD370H' : 'mackerel',\n",
        "'DRD370I' : 'perch',\n",
        "'DRD370J' : 'pike',\n",
        "'DRD370K' : 'pollock',\n",
        "'DRD370L' : 'porgy',\n",
        "'DRD370M' : 'salmon',\n",
        "'DRD370N' : 'sardines',\n",
        "'DRD370O' : 'sea_bass',\n",
        "'DRD370P' : 'shark',\n",
        "'DRD370Q' : 'swordfish',\n",
        "'DRD370R' : 'trout',\n",
        "'DRD370S' : 'walleye',\n",
        "'DRD370T' : 'other_fish',\n",
        "'DRQSDIET' : 'special_diet',\n",
        "'DRQSDT1' : 'low_cal_diet',\n",
        "'DRQSDT10' : 'high_protein_diet',\n",
        "'DRQSDT11' : 'low_gluten_diet',\n",
        "'DRQSDT12' : 'kidney_diet',\n",
        "'DRQSDT2' : 'low_fat_diet',\n",
        "'DRQSDT3' : 'low_salt_diet',\n",
        "'DRQSDT4' : 'low_sugar_diet',\n",
        "'DRQSDT5' : 'low_fiber_diet',\n",
        "'DRQSDT6' : 'high_fiber_diet',\n",
        "'DRQSDT7' : 'diabetic_diet',\n",
        "'DRQSDT8' : 'muscle_diet',\n",
        "'DRQSDT9' : 'low_carb_diet',\n",
        "'DRQSDT91' : 'other_diet',\n",
        "'DRQSPREP' : 'salt_used',\n",
        "'DUQ200' : 'marijuana',\n",
        "'DUQ370' : 'needle_drugs',\n",
        "'FSD032A' : 'food_insecure',\n",
        "'FSD032B' : 'not_enough_food',\n",
        "'FSD032C' : 'cheap_food',\n",
        "'FSD032D' : 'cheap_food_children',\n",
        "'FSD032E' : 'bad_food_children',\n",
        "'FSD032F' : 'low_food_children',\n",
        "'FSD151' : 'emergency_food_received',\n",
        "'FSDAD' : 'food_secure',\n",
        "'FSDCH' : 'child_food_secure',\n",
        "'FSDHH' : 'household_food_secure',\n",
        "'FSQ162' : 'wic_received',\n",
        "'FSQ165' : 'food_stamps',\n",
        "'HEQ010' : 'hepetitis_b',\n",
        "'HEQ030' : 'hepetitis_c',\n",
        "'HIQ011' : 'health_insurance',\n",
        "'HIQ210' : 'insurance_gap',\n",
        "'HIQ270' : 'prescription_insurance',\n",
        "'HOD050' : 'rooms_in_home',\n",
        "'HOQ065' : 'homeowner',\n",
        "'HSAQUEX' : 'health_status_source_data',\n",
        "'HSD010' : 'general_health',\n",
        "'HSQ500' : 'ever_had_cold',\n",
        "'HSQ510' : 'intestinal_illness',\n",
        "'HSQ520' : 'ever_had_flu',\n",
        "'HSQ571' : 'donate_blood',\n",
        "'HSQ590' : 'hiv',\n",
        "'HUQ010' : 'general_health2',\n",
        "'HUQ020' : 'health_compared_last_year',\n",
        "'HUQ030' : 'routine_healthcare',\n",
        "'HUQ041' : 'healthcare_location',\n",
        "'HUQ051' : 'dr_visits',\n",
        "'HUQ071' : 'overnight_hospital',\n",
        "'HUQ090' : 'mental_health_treatment',\n",
        "'IMQ011' : 'hepatitis_a_vaccine',\n",
        "'IMQ020' : 'hepatitis_b_vaccine',\n",
        "'IND235' : 'monthly_income',\n",
        "'INDFMMPC' : 'poverty_level_category',\n",
        "'INDFMMPI' : 'poverty_level_index',\n",
        "'INDFMPIR' : 'family_income',\n",
        "'INQ012' : 'self_employ_income',\n",
        "'INQ020' : 'income_from_wages',\n",
        "'INQ030' : 'income_from_SS',\n",
        "'INQ060' : 'disability_income',\n",
        "'INQ080' : 'retirement_income',\n",
        "'INQ090' : 'ss_income',\n",
        "'INQ132' : 'state_assistance_income',\n",
        "'INQ140' : 'investment_income',\n",
        "'INQ150' : 'other_income',\n",
        "'INQ244' : 'family_savings',\n",
        "'LBDBCDLC' : 'blood_cadmium',\n",
        "'LBDBGMLC' : 'methyl_mercury',\n",
        "'LBDHDD' : 'HDL_mg',\n",
        "'LBDIHGLC' : 'inorganic_mercury',\n",
        "'LBDNENO' : 'neutrophils_percent',\n",
        "'LBDTHGLC' : 'blood_mercury',\n",
        "'LBDWFL' : 'floride_water',\n",
        "'LBXEOPCT' : 'eosinophils_percent',\n",
        "'LBXGH' : 'glyco_hemoglobin',\n",
        "'LBXLYPCT' : 'lymphocite_percent',\n",
        "'LBXMC' : 'hemoglobin_concentration',\n",
        "'LBXSAL' : 'blood_albumin',\n",
        "'LBXSCA' : 'blood_calcium',\n",
        "'LBXSGL' : 'serum_glucose_mg',\n",
        "'LBXSTP' : 'blood_protein',\n",
        "'MCQ010' : 'asthma_ever',\n",
        "'MCQ025' : 'asthma_age',\n",
        "'MCQ035' : 'asthma',\n",
        "'MCQ040' : 'asthma_year',\n",
        "'MCQ050' : 'asthma_ER',\n",
        "'MCQ053' : 'anemia',\n",
        "'MCQ070' : 'psoriasis',\n",
        "'MCQ080' : 'overweight',\n",
        "'MCQ082' : 'celiac_disease',\n",
        "'MCQ086' : 'gluten_free',\n",
        "'MCQ092' : 'blood_transfusion',\n",
        "'MCQ149' : 'menstruate',\n",
        "'MCQ151' : 'menstruate_age',\n",
        "'MCQ160A' : 'arthritis',\n",
        "'MCQ160B' : 'congestive_heart_failure',\n",
        "'MCQ160C' : 'coronary_heart_disease',\n",
        "'MCQ160D' : 'angina',\n",
        "'MCQ160E' : 'heart_attack',\n",
        "'MCQ160F' : 'stroke',\n",
        "'MCQ160G' : 'emphysema',\n",
        "'MCQ160K' : 'bronchitis_ever',\n",
        "'MCQ160L' : 'liver_condition_ever',\n",
        "'MCQ160M' : 'thyroid_ever',\n",
        "'MCQ160N' : 'gout',\n",
        "'MCQ160O' : 'COPD',\n",
        "'MCQ170K' : 'bronchitis_now',\n",
        "'MCQ170L' : 'liver_condition',\n",
        "'MCQ170M' : 'thyroid_now',\n",
        "'MCQ180A' : 'arthritis_age',\n",
        "'MCQ180B' : 'heart_failure_age',\n",
        "'MCQ180C' : 'heart_disease_age',\n",
        "'MCQ180D' : 'angina_age',\n",
        "'MCQ180E' : 'heart_attack_age',\n",
        "'MCQ180F' : 'stroke_age',\n",
        "'MCQ180G' : 'emphysema_age',\n",
        "'MCQ180K' : 'bronchitis_age',\n",
        "'MCQ180L' : 'liver_condition_age',\n",
        "'MCQ180M' : 'thyroid_age',\n",
        "'MCQ180N' : 'gout_age',\n",
        "'MCQ195' : 'arthritis_type',\n",
        "'MCQ203' : 'jaundice',\n",
        "'MCQ206' : 'jaundice_age',\n",
        "'MCQ220' : 'cancer',\n",
        "'MCQ230A' : 'cancer_type1',\n",
        "'MCQ230B' : 'cancer_type2',\n",
        "'MCQ230C' : 'cancer_type3',\n",
        "'MCQ230D' : 'cancer_type4',\n",
        "'MCQ240A' : 'bladder_cancer_age',\n",
        "'MCQ240AA' : 'test_cancer_age',\n",
        "'MCQ240B' : 'blood_cancer_age',\n",
        "'MCQ240BB' : 'thyroid_cancer_age',\n",
        "'MCQ240C' : 'bone_cancer_age',\n",
        "'MCQ240CC' : 'uterine_cancer_age',\n",
        "'MCQ240D' : 'brain_cancer_age',\n",
        "'MCQ240DK' : 'cancer_age',\n",
        "'MCQ240E' : 'breast_cancer_age',\n",
        "'MCQ240F' : 'cervical_cancer_age',\n",
        "'MCQ240G' : 'colon_cancer_age',\n",
        "'MCQ240H' : 'esoph_cancer_age',\n",
        "'MCQ240I' : 'gallbladder_cancer_age',\n",
        "'MCQ240J' : 'kidney_cancer_age',\n",
        "'MCQ240K' : 'larynx_cancer_age',\n",
        "'MCQ240L' : 'leukemia_age',\n",
        "'MCQ240M' : 'liver_cancer_age',\n",
        "'MCQ240N' : 'lung_cancer_age',\n",
        "'MCQ240O' : 'lymphoma_age',\n",
        "'MCQ240P' : 'melanoma_age',\n",
        "'MCQ240Q' : 'mouth_cancer_age',\n",
        "'MCQ240R' : 'nervous_cancer_age',\n",
        "'MCQ240S' : 'ovarian_cancer_age',\n",
        "'MCQ240T' : 'pancreatic_cancer_age',\n",
        "'MCQ240U' : 'prostate_cancer_age',\n",
        "'MCQ240V' : 'rectal_cancer_age',\n",
        "'MCQ240X' : 'skin_cancer_age',\n",
        "'MCQ240Y' : 'soft_cancer_age',\n",
        "'MCQ240Z' : 'stomach_cancer_age',\n",
        "'MCQ300A' : 'relative_heart_attack',\n",
        "'MCQ300B' : 'relative_asthma',\n",
        "'MCQ300C' : 'relative_diabetes',\n",
        "'MCQ365A' : 'need_weight_loss',\n",
        "'MCQ365B' : 'need_exercise',\n",
        "'MCQ365C' : 'need_reduce_salt',\n",
        "'MCQ365D' : 'need_reduce_calories',\n",
        "'MCQ370A' : 'losing_weight',\n",
        "'MCQ370B' : 'excercising',\n",
        "'MCQ370C' : 'reducing_salt',\n",
        "'MCQ370D' : 'reducing_fat',\n",
        "'MGDCGSZ' : 'grip_strength',\n",
        "'OCD150' : 'work_done',\n",
        "'OCD270' : 'months_of_work',\n",
        "'OCD390G' : 'type_of_work',\n",
        "'OCD395' : 'job_duration',\n",
        "'OCQ260' : 'non_govt_employee',\n",
        "'OHQ030' : 'visit_dentist',\n",
        "'OHQ033' : 'dentist_reason',\n",
        "'OHQ620' : 'aching_mouth',\n",
        "'OHQ640' : 'mouth_problems',\n",
        "'OHQ680' : 'mouth_problems2',\n",
        "'OHQ770' : 'need_dental',\n",
        "'OHQ835' : 'gum_disease',\n",
        "'OHQ845' : 'teeth_health',\n",
        "'OHQ850' : 'gum_treatment',\n",
        "'OHQ855' : 'loose_teeth',\n",
        "'OHQ860' : 'teeth_bone_loss',\n",
        "'OHQ865' : 'weird_tooth',\n",
        "'OHQ870' : 'floss',\n",
        "'OHQ875' : 'use_mouthwash',\n",
        "'OHQ880' : 'oral_cancer_exam',\n",
        "'OHQ885' : 'oral_cancer_exam2',\n",
        "'OSQ060' : 'osteoporosis',\n",
        "'OSQ130' : 'take_prednisone',\n",
        "'OSQ230' : 'metal_objects',\n",
        "'PAAQUEX' : 'question_source',\n",
        "'PAD680' : 'sedentary_time',\n",
        "'PAQ605' : 'vigorous_work',\n",
        "'PAQ620' : 'moderate_work',\n",
        "'PAQ635' : 'walk_or_bike',\n",
        "'PAQ650' : 'vigorous_recreation',\n",
        "'PAQ665' : 'moderate_recreation',\n",
        "'PAQ710' : 'tv_hours',\n",
        "'PAQ715' : 'pc_hours',\n",
        "'PEASCST1' : 'bp_status',\n",
        "'PEASCTM1' : 'blood_pressure_time',\n",
        "'PFQ049' : 'work_limitations',\n",
        "'PFQ051' : 'work_limitations2',\n",
        "'PFQ054' : 'walk_equipment_required',\n",
        "'PFQ057' : 'confusion_memory_problems',\n",
        "'PFQ090' : 'special_healthcare_equipment',\n",
        "'PUQ100' : 'insecticide_used',\n",
        "'PUQ110' : 'weedkiller_used',\n",
        "'RIAGENDR' : 'gender',\n",
        "'RIDAGEYR' : 'age',\n",
        "'RIDRETH1' : 'hispanic',\n",
        "'RXQ510' : 'take_aspirin',\n",
        "'SEQN' : 'ID',\n",
        "'SLD010H' : 'sleep_hours',\n",
        "'SLQ050' : 'trouble_sleeping',\n",
        "'SLQ060' : 'sleep_disorder',\n",
        "'SMAQUEX.x' : 'question_mode',\n",
        "'SMAQUEX.y' : 'question_mode2',\n",
        "'SMAQUEX2' : 'question_mode3',\n",
        "'SMD460' : 'smokers_in_house',\n",
        "'SMDANY' : 'tobaco_1w',\n",
        "'SMQ681' : 'smoked_1w',\n",
        "'SMQ851' : 'tobaco2_1w',\n",
        "'SMQ856' : 'smoked_at_work',\n",
        "'SMQ858' : 'someone_smoked_at_job',\n",
        "'SMQ860' : 'smoked_at_restaurant',\n",
        "'SMQ863' : 'nicotine_1w',\n",
        "'SMQ866' : 'smoked_at_bar',\n",
        "'SMQ870' : 'smoked_in_car',\n",
        "'SMQ872' : 'someone_smoked_in_car',\n",
        "'SMQ874' : 'smoked_another_home',\n",
        "'SMQ876' : 'someone_smoked_in_home',\n",
        "'SMQ878' : 'smoked_other_building',\n",
        "'SMQ880' : 'someone_smoked_other_building',\n",
        "'SXD021' : 'sex_ever',\n",
        "'URXUCR' : 'creatinine_urine',\n",
        "'WHD010' : 'height_in',\n",
        "'WHD020' : 'current_weight_lb',\n",
        "'WHD050' : 'weight_1y',\n",
        "'WHD110' : 'weight_10y',\n",
        "'WHD120' : 'weight_age_25',\n",
        "'WHD140' : 'greatest_weight',\n",
        "'WHQ030' : 'overweight_self',\n",
        "'WHQ040' : 'weightloss_desire',\n",
        "'WHQ070' : 'weightloss_attempt',\n",
        "'WHQ150' : 'age_when_heaviest'\n",
        "}\n",
        "\n",
        "# Renaming columns of each DataFrame using the col_decoder dictionary for better readability\n",
        "df = df.rename(columns=col_decoder)\n",
        "labs = labs.rename(columns=col_decoder)\n",
        "exam = exam.rename(columns=col_decoder)\n",
        "demo = demo.rename(columns=col_decoder)\n",
        "diet = diet.rename(columns=col_decoder)\n",
        "ques = ques.rename(columns=col_decoder)"
      ]
    },
    {
      "cell_type": "code",
      "execution_count": null,
      "metadata": {
        "id": "bzly5Lm0PjNn"
      },
      "outputs": [],
      "source": [
        "# Isolates the \"answer key\" for model to compare answers against (drops everything else)\n",
        "diabetes_df = df.dropna(subset=['diabetes'])\n",
        "\n",
        "# target_dfs = [cancer_df, diabetes_df, heart_df, liver_df]\n",
        "target_dfs = [diabetes_df]\n",
        "\n",
        "# Combinations of 7s and 9s are used when data is not applicable or when the patient refused to answer (processing answer key)\n",
        "for df in target_dfs:\n",
        "    df.replace({7:None, 9:None, 77:None,99:None,777:None,999:None,7777:None,9999:None,77777:None,99999:None,\n",
        "            777777:None,999999:None,55:None,555:None,5555:None,8:None,88:None}, inplace=True)"
      ]
    },
    {
      "cell_type": "code",
      "execution_count": null,
      "metadata": {
        "id": "IS2gwErbQxhv"
      },
      "outputs": [],
      "source": [
        "#Provides function to remove columns and rows with excessive nulls\n",
        "\n",
        "def filter_columns(df, cutoff=0.9):\n",
        "    tot_rows = df.shape[0]\n",
        "    removed_cols = []\n",
        "    print(\"original number of columns: \", df.shape[1])\n",
        "    for col in df.columns:\n",
        "        num_na = df[col].isna().sum()\n",
        "        if (num_na/tot_rows) > cutoff:\n",
        "            #print(col, df[col].isna().sum())\n",
        "            removed_cols.append(col)\n",
        "    print(\"number of columns removed: \", len(removed_cols))\n",
        "    return df.drop(removed_cols, axis=1)\n",
        "\n",
        "def filter_rows(df, cutoff=0.9):\n",
        "    tot_cols = df.shape[1]\n",
        "    print(\"original number of rows: \", df.shape[0])\n",
        "    df = df[df.isnull().sum(axis=1) < tot_cols*cutoff]\n",
        "    print(\"remaining rows: \", df.shape[0])\n",
        "    return df\n",
        "\n",
        "def trans_cat_cols(df, cat_cols):\n",
        "    for col in cat_cols:\n",
        "        df.loc[df[col] != 1, col] = 0\n",
        "    return df"
      ]
    },
    {
      "cell_type": "code",
      "execution_count": null,
      "metadata": {
        "id": "Fg2ZDv6URXge"
      },
      "outputs": [],
      "source": [
        "# drops row if the fraction of null values in the row is greater then the cutoff\n",
        "# drops column if the fraction of null values in the row is greater then the cutoff\n",
        "x = df.nunique()\n",
        "cat_cols = x[(x<15)].index\n",
        "df = trans_cat_cols(df, cat_cols)"
      ]
    },
    {
      "cell_type": "code",
      "execution_count": null,
      "metadata": {
        "id": "0xWSKYZJRaVD"
      },
      "outputs": [],
      "source": [
        "# drops row if the fraction of null values in the row is greater then the cutoff\n",
        "# drops column if the fraction of null values in the row is greater then the cutoff\n",
        "for df in target_dfs:\n",
        "    x = df.nunique()\n",
        "    cat_cols = x[(x<15)].index\n",
        "    df = trans_cat_cols(df, cat_cols)"
      ]
    },
    {
      "cell_type": "code",
      "execution_count": null,
      "metadata": {
        "colab": {
          "base_uri": "https://localhost:8080/"
        },
        "id": "omiRCAoaRcL_",
        "outputId": "344887ef-00d1-4df2-c93d-095a54121056"
      },
      "outputs": [
        {
          "output_type": "stream",
          "name": "stdout",
          "text": [
            "original number of rows:  9422\n",
            "remaining rows:  9422\n",
            "original number of columns:  1766\n",
            "number of columns removed:  281\n"
          ]
        }
      ],
      "source": [
        "# drops row if the fraction of null values in the row is greater then the cutoff\n",
        "# drops column if the fraction of null values in the row is greater then the cutoff\n",
        "for df in target_dfs:\n",
        "    df = filter_rows(df, cutoff=0.8)\n",
        "    df = filter_columns(df, cutoff=0.5)"
      ]
    },
    {
      "cell_type": "code",
      "execution_count": null,
      "metadata": {
        "colab": {
          "base_uri": "https://localhost:8080/"
        },
        "id": "EIidMkKZRfZj",
        "outputId": "8c58f155-f14a-439b-cd64-96b99153361b"
      },
      "outputs": [
        {
          "output_type": "stream",
          "name": "stdout",
          "text": [
            "ID                      1\n",
            "URXUMA               1863\n",
            "URXUMS               1863\n",
            "URXUCR.x             1884\n",
            "URXCRS               1696\n",
            "                     ... \n",
            "greatest_weight      3622\n",
            "age_when_heaviest    3821\n",
            "WHQ030M                 0\n",
            "WHQ500                  0\n",
            "WHQ520                  0\n",
            "Length: 1766, dtype: int64\n"
          ]
        }
      ],
      "source": [
        "# replaces invalid values with the mode\n",
        "for df in target_dfs:\n",
        "    print(df.isna().sum())\n",
        "    df.fillna(df.mode().iloc[0], inplace=True)"
      ]
    },
    {
      "cell_type": "code",
      "execution_count": null,
      "metadata": {
        "id": "RjjO6gG3P9H7"
      },
      "outputs": [],
      "source": [
        "lifestyle_cols = ['drink_alcohol','alcohol_per_day','saggital_abdominal_avg','arm_circum','BMI',\n",
        "                  'saggital_abdominal_1','saggital_abdominal_2','waist_circum','weight_kg',\n",
        "                  'grocery_budget','nonfood_budget','food_budget',\n",
        "                  'restaurant_budget','food_delivery_budget','fast_food','saw_nutrition_fast_food',\n",
        "                  'use_nutrition_fast_food','eat_restaurants','eat_chain_restaurants','saw_nutrition_restaurant',\n",
        "                  'use_nutrition_restaurant','saw_my_plate','wisdom_teeth_removed','tonsils_removed',\n",
        "                  'salt_frequency','meals_not_homemade','meals_fast_food','meals_prepackaged',\n",
        "                  'frozen_meals_per_month','salt_type','milk_product_per_month','milk_drinker','healthy_diet',\n",
        "                  'long_sleeve_shirt','use_sunscreen','people_in_house','children_in_house','Marital_Status',\n",
        "                  'trouble_sleeping_2w','eating_problems_2w','water','plain_water_yesterday','tap_water_yesterday',\n",
        "                  'bottled_water_yesterday','dietary_alpha_carotene','alcohol','dietary_vitamin_e',\n",
        "                  'dietary_beta_carotene','caffeine','dietary_calcium','carb','dietary_choline','cholesterol',\n",
        "                  'dietary_copper','dietary_beta_cryptoxanthin','dietary_folic_acid','folate_food','fiber',\n",
        "                  'dietary_folate','dietary_iron','calories','dietary_lycopene','dietary_lutein',\n",
        "                  'octadecenoic_percent','magnesium','monounsaturated_fats','moisture','dietary_niacin',\n",
        "                  'octadecatrienoic_percent','dietary_phosphorus','dietary_potassium','protein','dietary_retinol',\n",
        "                  'tetradeconoic_percent','dietary_selenium','sodium','sugar','fat','dietary_theobromine',\n",
        "                  'dietary_vitamin_a','dietary_b1','dietary_b12','dietary_b2','dietary_b6','dietary_vit_c',\n",
        "                  'dietary_vit_d','dietary_vit_k','dietary_zinc','shellfish','clams','crabs','crayfish',\n",
        "                  'lobsters','mussels','oysters','scallops','shrimp','breaded_fish','tuna','bass','catfish',\n",
        "                  'cod','flatfish','haddock','mackerel','perch','pike','pollock','porgy','salmon','sardines',\n",
        "                  'sea_bass','shark','swordfish','trout','walleye','other_fish','special_diet','low_cal_diet',\n",
        "                  'high_protein_diet','low_gluten_diet','kidney_diet','low_fat_diet','low_salt_diet','low_sugar_diet',\n",
        "                  'low_fiber_diet','high_fiber_diet','muscle_diet','low_carb_diet','other_diet','salt_used',\n",
        "                  'marijuana','needle_drugs','food_insecure','not_enough_food','cheap_food','cheap_food_children',\n",
        "                  'bad_food_children','low_food_children','emergency_food_received','food_secure','child_food_secure',\n",
        "                  'household_food_secure','wic_received','food_stamps','health_insurance','insurance_gap',\n",
        "                  'prescription_insurance','donate_blood','routine_healthcare','healthcare_location','dr_visits',\n",
        "                  'hepatitis_a_vaccine','hepatitis_b_vaccine','neutrophils_percent','floride_water',\n",
        "                  'overweight','gluten_free','losing_weight','excercising',\n",
        "                  'reducing_salt','reducing_fat','work_done','months_of_work','type_of_work','job_duration',\n",
        "                  'non_govt_employee','visit_dentist','floss','use_mouthwash','take_prednisone','sedentary_time',\n",
        "                  'vigorous_work','moderate_work','walk_or_bike','vigorous_recreation','moderate_recreation',\n",
        "                  'tv_hours','pc_hours','bp_status','insecticide_used','weedkiller_used','age',\n",
        "                  'sleep_hours','smokers_in_house','tobaco_1w','smoked_1w','tobaco2_1w','smoked_at_work',\n",
        "                  'someone_smoked_at_job','smoked_at_restaurant','nicotine_1w','smoked_at_bar','smoked_in_car',\n",
        "                  'someone_smoked_in_car','smoked_another_home','someone_smoked_in_home','smoked_other_building',\n",
        "                  'someone_smoked_other_building','weight_1y','weight_10y','weight_age_25','greatest_weight',\n",
        "                  'overweight_self','weightloss_desire','weightloss_attempt']"
      ]
    },
    {
      "cell_type": "code",
      "execution_count": null,
      "metadata": {
        "colab": {
          "base_uri": "https://localhost:8080/",
          "height": 844
        },
        "id": "zHPgtszoPWio",
        "outputId": "283aa756-513b-46e3-870e-77e6bc628022"
      },
      "outputs": [
        {
          "output_type": "display_data",
          "data": {
            "text/plain": [
              "<Figure size 1000x800 with 2 Axes>"
            ],
            "image/png": "[encoded data removed]"
          },
          "metadata": {}
        }
      ],
      "source": [
        "# Loop through each DataFrame in the list of target DataFrames\n",
        "for df in target_dfs:\n",
        "    # Extract the subset of columns that are in both the DataFrame and the lifestyle_cols list\n",
        "    ex_df = df[list(set(df.columns) & set(lifestyle_cols))]\n",
        "\n",
        "    # Calculate the correlation matrix for the extracted DataFrame\n",
        "    corr = ex_df.corr()\n",
        "\n",
        "    # Mask the lower triangle of the correlation matrix to avoid redundancy\n",
        "    corr = corr.mask(np.tril(np.ones(corr.shape)).astype(bool))\n",
        "\n",
        "    # Identify redundant columns with a correlation coefficient above 0.9\n",
        "    redun = corr[abs(corr) >= 0.9].stack().reset_index()['level_1']\n",
        "\n",
        "    # Drop the redundant columns from the extracted DataFrame\n",
        "    ex_df = ex_df.drop(redun, axis=1)\n",
        "\n",
        "    # Recalculate the correlation matrix for the reduced DataFrame\n",
        "    corr = ex_df.corr()\n",
        "    corr = corr.mask(np.tril(np.ones(corr.shape)).astype(bool))\n",
        "\n",
        "    # Identify columns with a maximum correlation coefficient above 0.5\n",
        "    big_corr = ex_df[corr[abs(corr).max() > 0.5].index].corr()\n",
        "    big_corr = big_corr.mask(np.tril(np.ones(big_corr.shape)).astype(bool))\n",
        "\n",
        "    # Further refine the correlation matrix to include only highly correlated columns\n",
        "    big_corr = ex_df[big_corr[abs(big_corr).max() > 0.5].index].corr()\n",
        "\n",
        "    # Plot the heatmap of the final refined correlation matrix\n",
        "    plt.figure(figsize=(10, 8))\n",
        "    sns.heatmap(big_corr,\n",
        "                xticklabels=big_corr.columns,\n",
        "                yticklabels=big_corr.columns,\n",
        "                cmap=\"PiYG\",\n",
        "                vmin=-1, vmax=1)\n"
      ]
    },
    {
      "cell_type": "code",
      "execution_count": null,
      "metadata": {
        "id": "FLlg-S378c46"
      },
      "outputs": [],
      "source": [
        "# Function to replace all string values in a column with the mode of that column\n",
        "def replace_with_mode(column):\n",
        "    mode_value = column.mode().iloc[0]\n",
        "\n",
        "    def replace_string(cell_value):\n",
        "        if isinstance(cell_value, str):\n",
        "            return mode_value\n",
        "        else:\n",
        "            return cell_value\n",
        "\n",
        "    column = column.apply(replace_string)\n",
        "    return column\n",
        "\n",
        "# Apply the replace_with_mode function to each column in the DataFrame\n",
        "for column in df:\n",
        "    df[column] = replace_with_mode(df[column])\n"
      ]
    },
    {
      "cell_type": "code",
      "execution_count": null,
      "metadata": {
        "colab": {
          "base_uri": "https://localhost:8080/"
        },
        "id": "pSbO_kUBwjR3",
        "outputId": "3f138f9a-56fd-4816-dd37-30a623b99821"
      },
      "outputs": [
        {
          "output_type": "stream",
          "name": "stdout",
          "text": [
            "0.0    8709\n",
            "1.0     713\n",
            "Name: diabetes, dtype: int64\n"
          ]
        }
      ],
      "source": [
        "print(df[\"diabetes\"].value_counts())"
      ]
    },
    {
      "cell_type": "code",
      "execution_count": null,
      "metadata": {
        "colab": {
          "base_uri": "https://localhost:8080/"
        },
        "id": "uLGsf7NvAHdM",
        "outputId": "72f35b21-d4c4-463d-e90f-10551aa3f18b"
      },
      "outputs": [
        {
          "output_type": "stream",
          "name": "stderr",
          "text": [
            "<ipython-input-28-9bc013ce163b>:5: FutureWarning: elementwise comparison failed; returning scalar instead, but in the future will perform elementwise comparison\n",
            "  if \"* NO MATCH *\" in df[column].values or type(df[column].values[0]) == str:\n"
          ]
        },
        {
          "output_type": "stream",
          "name": "stdout",
          "text": [
            "['SMDUPCA', 'SMD100BR']\n"
          ]
        }
      ],
      "source": [
        "# removing no match\n",
        "problems = []\n",
        "\n",
        "for column in df:\n",
        "  if \"* NO MATCH *\" in df[column].values or type(df[column].values[0]) == str:\n",
        "    problems.append(column)\n",
        "print(problems)"
      ]
    },
    {
      "cell_type": "code",
      "execution_count": null,
      "metadata": {
        "colab": {
          "base_uri": "https://localhost:8080/"
        },
        "id": "44uGcC3X6r60",
        "outputId": "0fff7d92-faac-4696-eb91-b51a192e2483"
      },
      "outputs": [
        {
          "output_type": "stream",
          "name": "stdout",
          "text": [
            "{'insurance_gap', 'pc_hours', 'dietary_copper', 'dr_visits', 'frozen_meals_per_month', 'non_govt_employee', 'magnesium', 'scallops', 'wic_received', 'someone_smoked_at_job', 'vigorous_work', 'salmon', 'cod', 'meals_fast_food', 'long_sleeve_shirt', 'overweight', 'tuna', 'dietary_alpha_carotene', 'waist_circum', 'bass', 'cheap_food_children', 'dietary_vitamin_a', 'smoked_other_building', 'low_sugar_diet', 'sardines', 'saw_my_plate', 'healthy_diet', 'losing_weight', 'greatest_weight', 'saggital_abdominal_2', 'someone_smoked_other_building', 'dietary_b1', 'tobaco_1w', 'food_delivery_budget', 'saggital_abdominal_1', 'water', 'sleep_hours', 'dietary_vit_c', 'flatfish', 'milk_product_per_month', 'food_insecure', 'low_fat_diet', 'porgy', 'low_carb_diet', 'smoked_another_home', 'dietary_theobromine', 'food_budget', 'dietary_beta_cryptoxanthin', 'low_gluten_diet', 'BMI', 'tobaco2_1w', 'trouble_sleeping_2w', 'moderate_work', 'weight_10y', 'moisture', 'dietary_choline', 'calories', 'someone_smoked_in_car', 'age', 'dietary_b12', 'fast_food', 'shrimp', 'months_of_work', 'dietary_retinol', 'low_fiber_diet', 'job_duration', 'floride_water', 'needle_drugs', 'carb', 'children_in_house', 'smoked_at_bar', 'weightloss_desire', 'use_nutrition_restaurant', 'monounsaturated_fats', 'tv_hours', 'weight_1y', 'nonfood_budget', 'eat_restaurants', 'bad_food_children', 'vigorous_recreation', 'fiber', 'saw_nutrition_restaurant', 'food_stamps', 'special_diet', 'high_protein_diet', 'not_enough_food', 'dietary_b6', 'moderate_recreation', 'octadecatrienoic_percent', 'dietary_b2', 'dietary_folate', 'low_food_children', 'sedentary_time', 'weight_age_25', 'breaded_fish', 'bp_status', 'smoked_in_car', 'alcohol', 'dietary_niacin', 'protein', 'use_sunscreen', 'milk_drinker', 'crabs', 'kidney_diet', 'household_food_secure', 'insecticide_used', 'weight_kg', 'floss', 'clams', 'weedkiller_used', 'dietary_lycopene', 'haddock', 'dietary_iron', 'weightloss_attempt', 'mackerel', 'walleye', 'high_fiber_diet', 'use_mouthwash', 'trout', 'cholesterol', 'lobsters', 'walk_or_bike', 'dietary_vitamin_e', 'pollock', 'work_done', 'saggital_abdominal_avg', 'meals_prepackaged', 'pike', 'type_of_work', 'child_food_secure', 'dietary_folic_acid', 'catfish', 'salt_used', 'hepatitis_a_vaccine', 'shark', 'dietary_vit_k', 'folate_food', 'perch', 'tonsils_removed', 'low_cal_diet', 'healthcare_location', 'gluten_free', 'nicotine_1w', 'tetradeconoic_percent', 'dietary_zinc', 'shellfish', 'sodium', 'eating_problems_2w', 'wisdom_teeth_removed', 'low_salt_diet', 'arm_circum', 'Marital_Status', 'alcohol_per_day', 'cheap_food', 'dietary_vit_d', 'dietary_beta_carotene', 'other_fish', 'oysters', 'crayfish', 'smoked_at_work', 'drink_alcohol', 'sugar', 'bottled_water_yesterday', 'dietary_lutein', 'neutrophils_percent', 'dietary_calcium', 'food_secure', 'reducing_fat', 'dietary_selenium', 'overweight_self', 'use_nutrition_fast_food', 'reducing_salt', 'smoked_at_restaurant', 'eat_chain_restaurants', 'marijuana', 'meals_not_homemade', 'fat', 'swordfish', 'smoked_1w', 'grocery_budget', 'restaurant_budget', 'take_prednisone', 'dietary_phosphorus', 'muscle_diet', 'prescription_insurance', 'excercising', 'people_in_house', 'smokers_in_house', 'someone_smoked_in_home', 'mussels', 'caffeine', 'saw_nutrition_fast_food', 'salt_frequency', 'octadecenoic_percent', 'salt_type', 'other_diet', 'visit_dentist', 'dietary_potassium', 'hepatitis_b_vaccine', 'emergency_food_received', 'routine_healthcare', 'donate_blood', 'health_insurance', 'sea_bass'}\n"
          ]
        }
      ],
      "source": [
        "\"\"\"\n",
        "Filtering columns made it so some lifestyle colunms were removed.\n",
        "In order to use them for training we need to make sure that all the columns\n",
        "selected are still in df so we take the intersection of the column names\n",
        "\"\"\"\n",
        "# Model uses columns that are in both lifestyle and df.columns\n",
        "lifestyle_cols_remain = set(lifestyle_cols).intersection(set(df.columns))\n",
        "print(lifestyle_cols_remain)"
      ]
    },
    {
      "cell_type": "markdown",
      "metadata": {
        "id": "2V7kDWYKDKNE"
      },
      "source": [
        "## Model Training and Creation"
      ]
    },
    {
      "cell_type": "code",
      "execution_count": null,
      "metadata": {
        "colab": {
          "base_uri": "https://localhost:8080/"
        },
        "id": "UEJvUjdW7Lor",
        "outputId": "9863e752-a72c-4731-872e-076c061d1ee5"
      },
      "outputs": [
        {
          "output_type": "stream",
          "name": "stdout",
          "text": [
            "666.0 47.0\n"
          ]
        }
      ],
      "source": [
        "k = 100 # number of neighbors to consider\n",
        "N = 69 # number of models in random forest classifier (must be odd to avoid ties)\n",
        "N = 69  # number of models in random forest classifier (must be odd to avoid ties)\n",
        "y = df[\"diabetes\"].copy()\n",
        "X = df[list(lifestyle_cols_remain)]  # Convert to a list\n",
        "X_train, X_test, y_train, y_test = train_test_split(X, y, test_size=0.05, random_state=69)\n",
        "print(y_train.sum(), y_test.sum())"
      ]
    },
    {
      "cell_type": "code",
      "execution_count": null,
      "metadata": {
        "colab": {
          "base_uri": "https://localhost:8080/"
        },
        "id": "kdW6_fp3H_Xn",
        "outputId": "93f6b3d5-a601-4d50-99f8-d76126738038"
      },
      "outputs": [
        {
          "output_type": "stream",
          "name": "stdout",
          "text": [
            "The forest is right 0.8771186440677966% of the time!\n"
          ]
        }
      ],
      "source": [
        "# Using built in sklearn random forest classifier\n",
        "\n",
        "# model = RandomForestClassifier(n_estimators = 10, random_state=420, class_weight={0: 1.0, 1: 9.0}, max_depth=3)\n",
        "model = RandomForestClassifier(n_estimators = 150,\n",
        "                               random_state=420,\n",
        "                               class_weight='balanced',\n",
        "                               max_depth=30,\n",
        "                               criterion = 'log_loss',\n",
        "                               min_samples_leaf=16,\n",
        "                               min_samples_split=30)\n",
        "# model = RandomForestClassifier(random_state=420)\n",
        "model.fit(X_train, y_train)\n",
        "y_pred = model.predict(X_test)\n",
        "accuracy = accuracy_score(y_test, y_pred)\n",
        "print(f'The forest is right {accuracy}% of the time!')"
      ]
    },
    {
      "cell_type": "code",
      "execution_count": null,
      "metadata": {
        "id": "qx5evB2Vy7sa"
      },
      "outputs": [],
      "source": [
        "# custom random forest classifier\n",
        "# create a list filled with as many 0's as the answer key\n",
        "# voting = np.zeros_like(y_test)\n",
        "# print(accuracy_score(y_test, voting))\n",
        "\n",
        "# for modelNum in range(int(N)):\n",
        "#   treeTrainX, _, treeTrainY, _ = train_test_split(X_train, y_train, test_size=0.10, random_state=modelNum)\n",
        "#   knn = KNeighborsClassifier(n_neighbors=k)\n",
        "#   knn.fit(treeTrainX, treeTrainY)\n",
        "#   y_pred = knn.predict(X_test)\n",
        "#   accuracy = accuracy_score(y_test, y_pred)\n",
        "#   print(f'Model Number{modelNum} Accuracy: {accuracy}')\n",
        "#   # print(y_pred[0:10], y_test[0:10])\n",
        "#   voting += y_pred\n",
        "\n",
        "# # Averaging answers of the trees\n",
        "# voting = np.round((voting/N))\n",
        "# accuracy = accuracy_score(y_test, voting)\n",
        "# print(f'The forest is right {accuracy}% of the time!')"
      ]
    },
    {
      "cell_type": "markdown",
      "metadata": {
        "id": "rHl2pFvwDaEO"
      },
      "source": [
        "## Model Troubleshooting and Hyperparameter Optimization"
      ]
    },
    {
      "cell_type": "code",
      "execution_count": null,
      "metadata": {
        "colab": {
          "base_uri": "https://localhost:8080/",
          "height": 449
        },
        "id": "8X9NQWM7S1I7",
        "outputId": "ded64cc9-dc2a-4d17-c702-7b047c0ba0df"
      },
      "outputs": [
        {
          "output_type": "display_data",
          "data": {
            "text/plain": [
              "<Figure size 640x480 with 2 Axes>"
            ],
            "image/png": "[encoded data removed]"
          },
          "metadata": {}
        }
      ],
      "source": [
        "#confusion matrix\n",
        "confusion = confusion_matrix(y_test, y_pred, labels=model.classes_)\n",
        "disp = ConfusionMatrixDisplay(confusion_matrix=confusion, display_labels=model.classes_)\n",
        "disp.plot()\n",
        "plt.show()"
      ]
    },
    {
      "cell_type": "code",
      "execution_count": null,
      "metadata": {
        "id": "b71mTr35S7dW"
      },
      "outputs": [],
      "source": [
        "def model_metrics(y_test, y_pred):\n",
        "  return(\n",
        "  {\n",
        "    'accuracy': accuracy_score(y_test, y_pred),\n",
        "    'precision': precision_score(y_test, y_pred),\n",
        "    'recall': recall_score(y_test, y_pred),\n",
        "    'f1': f1_score(y_test, y_pred)\n",
        "  }\n",
        "  )"
      ]
    },
    {
      "cell_type": "code",
      "execution_count": null,
      "metadata": {
        "colab": {
          "base_uri": "https://localhost:8080/"
        },
        "id": "SqxH5IsTU3F2",
        "outputId": "fac89fca-9ba2-48a4-9e9c-4d167a85d1e5"
      },
      "outputs": [
        {
          "output_type": "execute_result",
          "data": {
            "text/plain": [
              "{'accuracy': 0.8771186440677966,\n",
              " 'precision': 0.4153846153846154,\n",
              " 'recall': 0.574468085106383,\n",
              " 'f1': 0.48214285714285715}"
            ]
          },
          "metadata": {},
          "execution_count": 35
        }
      ],
      "source": [
        "model_metrics(y_test, y_pred)"
      ]
    },
    {
      "cell_type": "code",
      "execution_count": null,
      "metadata": {
        "colab": {
          "base_uri": "https://localhost:8080/"
        },
        "id": "Eruycb6IMkKY",
        "outputId": "f6cee4e6-1692-4073-a205-04571df2982b"
      },
      "outputs": [
        {
          "output_type": "execute_result",
          "data": {
            "text/plain": [
              "{'bootstrap': True,\n",
              " 'ccp_alpha': 0.0,\n",
              " 'class_weight': 'balanced',\n",
              " 'criterion': 'log_loss',\n",
              " 'max_depth': 30,\n",
              " 'max_features': 'sqrt',\n",
              " 'max_leaf_nodes': None,\n",
              " 'max_samples': None,\n",
              " 'min_impurity_decrease': 0.0,\n",
              " 'min_samples_leaf': 16,\n",
              " 'min_samples_split': 30,\n",
              " 'min_weight_fraction_leaf': 0.0,\n",
              " 'n_estimators': 150,\n",
              " 'n_jobs': None,\n",
              " 'oob_score': False,\n",
              " 'random_state': 420,\n",
              " 'verbose': 0,\n",
              " 'warm_start': False}"
            ]
          },
          "metadata": {},
          "execution_count": 36
        }
      ],
      "source": [
        "model.get_params()"
      ]
    },
    {
      "cell_type": "code",
      "execution_count": null,
      "metadata": {
        "id": "40PLsRxsS06y",
        "colab": {
          "base_uri": "https://localhost:8080/",
          "height": 144
        },
        "outputId": "f2b6d7b5-edd1-46d4-dcb3-156392f56c02"
      },
      "outputs": [
        {
          "output_type": "execute_result",
          "data": {
            "text/plain": [
              "RandomForestClassifier(class_weight='balanced', criterion='log_loss',\n",
              "                       max_depth=30, max_leaf_nodes=5,\n",
              "                       min_impurity_decrease=0.2, min_samples_split=10,\n",
              "                       min_weight_fraction_leaf=0.4, n_estimators=200,\n",
              "                       n_jobs=-1, random_state=420)"
            ],
            "text/html": [
              "<style>#sk-container-id-1 {color: black;background-color: white;}#sk-container-id-1 pre{padding: 0;}#sk-container-id-1 div.sk-toggleable {background-color: white;}#sk-container-id-1 label.sk-toggleable__label {cursor: pointer;display: block;width: 100%;margin-bottom: 0;padding: 0.3em;box-sizing: border-box;text-align: center;}#sk-container-id-1 label.sk-toggleable__label-arrow:before {content: \"▸\";float: left;margin-right: 0.25em;color: #696969;}#sk-container-id-1 label.sk-toggleable__label-arrow:hover:before {color: black;}#sk-container-id-1 div.sk-estimator:hover label.sk-toggleable__label-arrow:before {color: black;}#sk-container-id-1 div.sk-toggleable__content {max-height: 0;max-width: 0;overflow: hidden;text-align: left;background-color: #f0f8ff;}#sk-container-id-1 div.sk-toggleable__content pre {margin: 0.2em;color: black;border-radius: 0.25em;background-color: #f0f8ff;}#sk-container-id-1 input.sk-toggleable__control:checked~div.sk-toggleable__content {max-height: 200px;max-width: 100%;overflow: auto;}#sk-container-id-1 input.sk-toggleable__control:checked~label.sk-toggleable__label-arrow:before {content: \"▾\";}#sk-container-id-1 div.sk-estimator input.sk-toggleable__control:checked~label.sk-toggleable__label {background-color: #d4ebff;}#sk-container-id-1 div.sk-label input.sk-toggleable__control:checked~label.sk-toggleable__label {background-color: #d4ebff;}#sk-container-id-1 input.sk-hidden--visually {border: 0;clip: rect(1px 1px 1px 1px);clip: rect(1px, 1px, 1px, 1px);height: 1px;margin: -1px;overflow: hidden;padding: 0;position: absolute;width: 1px;}#sk-container-id-1 div.sk-estimator {font-family: monospace;background-color: #f0f8ff;border: 1px dotted black;border-radius: 0.25em;box-sizing: border-box;margin-bottom: 0.5em;}#sk-container-id-1 div.sk-estimator:hover {background-color: #d4ebff;}#sk-container-id-1 div.sk-parallel-item::after {content: \"\";width: 100%;border-bottom: 1px solid gray;flex-grow: 1;}#sk-container-id-1 div.sk-label:hover label.sk-toggleable__label {background-color: #d4ebff;}#sk-container-id-1 div.sk-serial::before {content: \"\";position: absolute;border-left: 1px solid gray;box-sizing: border-box;top: 0;bottom: 0;left: 50%;z-index: 0;}#sk-container-id-1 div.sk-serial {display: flex;flex-direction: column;align-items: center;background-color: white;padding-right: 0.2em;padding-left: 0.2em;position: relative;}#sk-container-id-1 div.sk-item {position: relative;z-index: 1;}#sk-container-id-1 div.sk-parallel {display: flex;align-items: stretch;justify-content: center;background-color: white;position: relative;}#sk-container-id-1 div.sk-item::before, #sk-container-id-1 div.sk-parallel-item::before {content: \"\";position: absolute;border-left: 1px solid gray;box-sizing: border-box;top: 0;bottom: 0;left: 50%;z-index: -1;}#sk-container-id-1 div.sk-parallel-item {display: flex;flex-direction: column;z-index: 1;position: relative;background-color: white;}#sk-container-id-1 div.sk-parallel-item:first-child::after {align-self: flex-end;width: 50%;}#sk-container-id-1 div.sk-parallel-item:last-child::after {align-self: flex-start;width: 50%;}#sk-container-id-1 div.sk-parallel-item:only-child::after {width: 0;}#sk-container-id-1 div.sk-dashed-wrapped {border: 1px dashed gray;margin: 0 0.4em 0.5em 0.4em;box-sizing: border-box;padding-bottom: 0.4em;background-color: white;}#sk-container-id-1 div.sk-label label {font-family: monospace;font-weight: bold;display: inline-block;line-height: 1.2em;}#sk-container-id-1 div.sk-label-container {text-align: center;}#sk-container-id-1 div.sk-container {/* jupyter's `normalize.less` sets `[hidden] { display: none; }` but bootstrap.min.css set `[hidden] { display: none !important; }` so we also need the `!important` here to be able to override the default hidden behavior on the sphinx rendered scikit-learn.org. See: https://github.com/scikit-learn/scikit-learn/issues/21755 */display: inline-block !important;position: relative;}#sk-container-id-1 div.sk-text-repr-fallback {display: none;}</style><div id=\"sk-container-id-1\" class=\"sk-top-container\"><div class=\"sk-text-repr-fallback\"><pre>RandomForestClassifier(class_weight=&#x27;balanced&#x27;, criterion=&#x27;log_loss&#x27;,\n",
              "                       max_depth=30, max_leaf_nodes=5,\n",
              "                       min_impurity_decrease=0.2, min_samples_split=10,\n",
              "                       min_weight_fraction_leaf=0.4, n_estimators=200,\n",
              "                       n_jobs=-1, random_state=420)</pre><b>In a Jupyter environment, please rerun this cell to show the HTML representation or trust the notebook. <br />On GitHub, the HTML representation is unable to render, please try loading this page with nbviewer.org.</b></div><div class=\"sk-container\" hidden><div class=\"sk-item\"><div class=\"sk-estimator sk-toggleable\"><input class=\"sk-toggleable__control sk-hidden--visually\" id=\"sk-estimator-id-1\" type=\"checkbox\" checked><label for=\"sk-estimator-id-1\" class=\"sk-toggleable__label sk-toggleable__label-arrow\">RandomForestClassifier</label><div class=\"sk-toggleable__content\"><pre>RandomForestClassifier(class_weight=&#x27;balanced&#x27;, criterion=&#x27;log_loss&#x27;,\n",
              "                       max_depth=30, max_leaf_nodes=5,\n",
              "                       min_impurity_decrease=0.2, min_samples_split=10,\n",
              "                       min_weight_fraction_leaf=0.4, n_estimators=200,\n",
              "                       n_jobs=-1, random_state=420)</pre></div></div></div></div></div>"
            ]
          },
          "metadata": {},
          "execution_count": 37
        }
      ],
      "source": [
        "# RandomizedSearchCV for hyperparameter tuning\n",
        "# search space is just most common search space for each hyperparameter\n",
        "\n",
        "parameter_space = {\n",
        "    'bootstrap': [True, False],\n",
        "    'ccp_alpha': [0.0],\n",
        "    'class_weight': ['balanced'],\n",
        "    'criterion': ['gini', 'entropy', 'log_loss'],\n",
        "    'max_depth': [None, 10, 20, 30, 40],\n",
        "    'max_features': ['sqrt', 'log2', None],\n",
        "    'max_leaf_nodes': [None, 2, 5, 10, 20, 50, 100],\n",
        "    'max_samples': [None],\n",
        "    'min_impurity_decrease': [0.0, 0.01, 0.05, 0.1, 0.2],\n",
        "    'min_samples_leaf': [1, 2, 4, 8, 16],\n",
        "    'min_samples_split': [2, 5, 10, 20, 30],\n",
        "    'min_weight_fraction_leaf': [0.0, 0.1, 0.2, 0.3, 0.4, 0.5],\n",
        "    'n_estimators': [50, 100, 150, 200, 250, 300],\n",
        "    'n_jobs': [-1],\n",
        "    'oob_score': [False],\n",
        "    # 'random_state': 420,\n",
        "    # 'verbose': [0],\n",
        "    'warm_start': [False]\n",
        "  }\n",
        "\n",
        "# adjusting number of iterations is still necessary\n",
        "optimizer = RandomizedSearchCV(model, parameter_space, scoring = 'f1', n_iter=5)\n",
        "\n",
        "optimizer.fit(X_train, y_train)\n",
        "\n",
        "optimizer.best_estimator_"
      ]
    },
    {
      "cell_type": "code",
      "source": [
        "pd.DataFrame(optimizer.cv_results_)"
      ],
      "metadata": {
        "colab": {
          "base_uri": "https://localhost:8080/",
          "height": 200
        },
        "id": "7dGcS6YEGggF",
        "outputId": "56fce108-809d-4c4e-f20a-b38bd59e345e"
      },
      "execution_count": null,
      "outputs": [
        {
          "output_type": "execute_result",
          "data": {
            "text/plain": [
              "   mean_fit_time  std_fit_time  mean_score_time  std_score_time  \\\n",
              "0       1.098176      0.187804         0.071722        0.007103   \n",
              "\n",
              "  param_warm_start param_oob_score param_n_jobs param_n_estimators  \\\n",
              "0             True            True           -1                150   \n",
              "\n",
              "  param_min_weight_fraction_leaf param_min_samples_split  ... param_bootstrap  \\\n",
              "0                            0.1                      20  ...            True   \n",
              "\n",
              "                                              params split0_test_score  \\\n",
              "0  {'warm_start': True, 'oob_score': True, 'n_job...          0.238477   \n",
              "\n",
              "  split1_test_score split2_test_score split3_test_score split4_test_score  \\\n",
              "0          0.293059          0.312057          0.317862          0.312925   \n",
              "\n",
              "  mean_test_score std_test_score rank_test_score  \n",
              "0        0.294876        0.02944               1  \n",
              "\n",
              "[1 rows x 29 columns]"
            ],
            "text/html": [
              "\n",
              "  <div id=\"df-740765cc-940b-40ba-9b26-e4f2c5585c23\" class=\"colab-df-container\">\n",
              "    <div>\n",
              "<style scoped>\n",
              "    .dataframe tbody tr th:only-of-type {\n",
              "        vertical-align: middle;\n",
              "    }\n",
              "\n",
              "    .dataframe tbody tr th {\n",
              "        vertical-align: top;\n",
              "    }\n",
              "\n",
              "    .dataframe thead th {\n",
              "        text-align: right;\n",
              "    }\n",
              "</style>\n",
              "<table border=\"1\" class=\"dataframe\">\n",
              "  <thead>\n",
              "    <tr style=\"text-align: right;\">\n",
              "      <th></th>\n",
              "      <th>mean_fit_time</th>\n",
              "      <th>std_fit_time</th>\n",
              "      <th>mean_score_time</th>\n",
              "      <th>std_score_time</th>\n",
              "      <th>param_warm_start</th>\n",
              "      <th>param_oob_score</th>\n",
              "      <th>param_n_jobs</th>\n",
              "      <th>param_n_estimators</th>\n",
              "      <th>param_min_weight_fraction_leaf</th>\n",
              "      <th>param_min_samples_split</th>\n",
              "      <th>...</th>\n",
              "      <th>param_bootstrap</th>\n",
              "      <th>params</th>\n",
              "      <th>split0_test_score</th>\n",
              "      <th>split1_test_score</th>\n",
              "      <th>split2_test_score</th>\n",
              "      <th>split3_test_score</th>\n",
              "      <th>split4_test_score</th>\n",
              "      <th>mean_test_score</th>\n",
              "      <th>std_test_score</th>\n",
              "      <th>rank_test_score</th>\n",
              "    </tr>\n",
              "  </thead>\n",
              "  <tbody>\n",
              "    <tr>\n",
              "      <th>0</th>\n",
              "      <td>1.098176</td>\n",
              "      <td>0.187804</td>\n",
              "      <td>0.071722</td>\n",
              "      <td>0.007103</td>\n",
              "      <td>True</td>\n",
              "      <td>True</td>\n",
              "      <td>-1</td>\n",
              "      <td>150</td>\n",
              "      <td>0.1</td>\n",
              "      <td>20</td>\n",
              "      <td>...</td>\n",
              "      <td>True</td>\n",
              "      <td>{'warm_start': True, 'oob_score': True, 'n_job...</td>\n",
              "      <td>0.238477</td>\n",
              "      <td>0.293059</td>\n",
              "      <td>0.312057</td>\n",
              "      <td>0.317862</td>\n",
              "      <td>0.312925</td>\n",
              "      <td>0.294876</td>\n",
              "      <td>0.02944</td>\n",
              "      <td>1</td>\n",
              "    </tr>\n",
              "  </tbody>\n",
              "</table>\n",
              "<p>1 rows × 29 columns</p>\n",
              "</div>\n",
              "    <div class=\"colab-df-buttons\">\n",
              "\n",
              "  <div class=\"colab-df-container\">\n",
              "    <button class=\"colab-df-convert\" onclick=\"convertToInteractive('df-740765cc-940b-40ba-9b26-e4f2c5585c23')\"\n",
              "            title=\"Convert this dataframe to an interactive table.\"\n",
              "            style=\"display:none;\">\n",
              "\n",
              "  <svg xmlns=\"http://www.w3.org/2000/svg\" height=\"24px\" viewBox=\"0 -960 960 960\">\n",
              "    <path d=\"M120-120v-720h720v720H120Zm60-500h600v-160H180v160Zm220 220h160v-160H400v160Zm0 220h160v-160H400v160ZM180-400h160v-160H180v160Zm440 0h160v-160H620v160ZM180-180h160v-160H180v160Zm440 0h160v-160H620v160Z\"/>\n",
              "  </svg>\n",
              "    </button>\n",
              "\n",
              "  <style>\n",
              "    .colab-df-container {\n",
              "      display:flex;\n",
              "      gap: 12px;\n",
              "    }\n",
              "\n",
              "    .colab-df-convert {\n",
              "      background-color: #E8F0FE;\n",
              "      border: none;\n",
              "      border-radius: 50%;\n",
              "      cursor: pointer;\n",
              "      display: none;\n",
              "      fill: #1967D2;\n",
              "      height: 32px;\n",
              "      padding: 0 0 0 0;\n",
              "      width: 32px;\n",
              "    }\n",
              "\n",
              "    .colab-df-convert:hover {\n",
              "      background-color: #E2EBFA;\n",
              "      box-shadow: 0px 1px 2px rgba(60, 64, 67, 0.3), 0px 1px 3px 1px rgba(60, 64, 67, 0.15);\n",
              "      fill: #174EA6;\n",
              "    }\n",
              "\n",
              "    .colab-df-buttons div {\n",
              "      margin-bottom: 4px;\n",
              "    }\n",
              "\n",
              "    [theme=dark] .colab-df-convert {\n",
              "      background-color: #3B4455;\n",
              "      fill: #D2E3FC;\n",
              "    }\n",
              "\n",
              "    [theme=dark] .colab-df-convert:hover {\n",
              "      background-color: #434B5C;\n",
              "      box-shadow: 0px 1px 3px 1px rgba(0, 0, 0, 0.15);\n",
              "      filter: drop-shadow(0px 1px 2px rgba(0, 0, 0, 0.3));\n",
              "      fill: #FFFFFF;\n",
              "    }\n",
              "  </style>\n",
              "\n",
              "    <script>\n",
              "      const buttonEl =\n",
              "        document.querySelector('#df-740765cc-940b-40ba-9b26-e4f2c5585c23 button.colab-df-convert');\n",
              "      buttonEl.style.display =\n",
              "        google.colab.kernel.accessAllowed ? 'block' : 'none';\n",
              "\n",
              "      async function convertToInteractive(key) {\n",
              "        const element = document.querySelector('#df-740765cc-940b-40ba-9b26-e4f2c5585c23');\n",
              "        const dataTable =\n",
              "          await google.colab.kernel.invokeFunction('convertToInteractive',\n",
              "                                                    [key], {});\n",
              "        if (!dataTable) return;\n",
              "\n",
              "        const docLinkHtml = 'Like what you see? Visit the ' +\n",
              "          '<a target=\"_blank\" href=https://colab.research.google.com/notebooks/data_table.ipynb>data table notebook</a>'\n",
              "          + ' to learn more about interactive tables.';\n",
              "        element.innerHTML = '';\n",
              "        dataTable['output_type'] = 'display_data';\n",
              "        await google.colab.output.renderOutput(dataTable, element);\n",
              "        const docLink = document.createElement('div');\n",
              "        docLink.innerHTML = docLinkHtml;\n",
              "        element.appendChild(docLink);\n",
              "      }\n",
              "    </script>\n",
              "  </div>\n",
              "\n",
              "    </div>\n",
              "  </div>\n"
            ]
          },
          "metadata": {},
          "execution_count": 42
        }
      ]
    },
    {
      "cell_type": "code",
      "execution_count": null,
      "metadata": {
        "colab": {
          "base_uri": "https://localhost:8080/"
        },
        "id": "UbFb47NyR3Lk",
        "outputId": "8b52cccf-9759-45d7-aadc-ff9d67b217f9"
      },
      "outputs": [
        {
          "output_type": "execute_result",
          "data": {
            "text/plain": [
              "{'accuracy': 0.663135593220339,\n",
              " 'precision': 0.1956521739130435,\n",
              " 'recall': 0.7659574468085106,\n",
              " 'f1': 0.31168831168831174}"
            ]
          },
          "metadata": {},
          "execution_count": 38
        }
      ],
      "source": [
        "# goal of 75%+\n",
        "y_pred = optimizer.best_estimator_.predict(X_test)\n",
        "\n",
        "model_metrics(y_test, y_pred)\n",
        "\n"
      ]
    },
    {
      "cell_type": "markdown",
      "source": [
        "## Manual Hyperparameter Tuning"
      ],
      "metadata": {
        "id": "gzrFdCDa0SgH"
      }
    },
    {
      "cell_type": "code",
      "source": [
        "# GridSearchCV for hyperparameter tuning by hand\n",
        "# search space is adjust one by one\n",
        "\n",
        "parameter_space = {\n",
        "    'bootstrap': [True],\n",
        "    'ccp_alpha': [0.1],\n",
        "    'class_weight': ['balanced'], #0.388\n",
        "    'criterion': ['gini'], #0.3957\n",
        "    'max_depth': [20], #0.3957\n",
        "    'max_features': ['log2'], #0.4\n",
        "    'max_leaf_nodes': [5],\n",
        "    'max_samples': [0.8], #0.40437\n",
        "    'min_impurity_decrease': [0.02],\n",
        "    'min_samples_leaf': [4],\n",
        "    'min_samples_split': [20],\n",
        "    'min_weight_fraction_leaf': [0.1],\n",
        "    'n_estimators': [150],\n",
        "    'n_jobs': [-1],\n",
        "    'oob_score': [True],\n",
        "    # 'random_state': 420,\n",
        "    # 'verbose': [0],\n",
        "    'warm_start': [True]\n",
        "  }\n",
        "\n",
        "# adjusting number of iterations is still necessary\n",
        "optimizer = RandomizedSearchCV(model, parameter_space, scoring = 'f1')\n",
        "\n",
        "optimizer.fit(X_train, y_train)\n",
        "\n",
        "print(optimizer.best_estimator_)\n",
        "\n",
        "y_pred = optimizer.best_estimator_.predict(X_test)\n",
        "\n",
        "model_metrics(y_test, y_pred)"
      ],
      "metadata": {
        "colab": {
          "base_uri": "https://localhost:8080/"
        },
        "id": "xFimm9Of0poo",
        "outputId": "c91197ab-b412-4886-cace-701b72ab4a77"
      },
      "execution_count": null,
      "outputs": [
        {
          "output_type": "stream",
          "name": "stderr",
          "text": [
            "/usr/local/lib/python3.10/dist-packages/sklearn/model_selection/_search.py:305: UserWarning: The total space of parameters 1 is smaller than n_iter=10. Running 1 iterations. For exhaustive searches, use GridSearchCV.\n",
            "  warnings.warn(\n",
            "/usr/local/lib/python3.10/dist-packages/sklearn/ensemble/_forest.py:777: UserWarning: class_weight presets \"balanced\" or \"balanced_subsample\" are not recommended for warm_start if the fitted data differs from the full dataset. In order to use \"balanced\" weights, use compute_class_weight (\"balanced\", classes, y). In place of y you can use a large enough sample of the full training set target to properly estimate the class frequency distributions. Pass the resulting weights as the class_weight parameter.\n",
            "  warn(\n",
            "/usr/local/lib/python3.10/dist-packages/sklearn/ensemble/_forest.py:777: UserWarning: class_weight presets \"balanced\" or \"balanced_subsample\" are not recommended for warm_start if the fitted data differs from the full dataset. In order to use \"balanced\" weights, use compute_class_weight (\"balanced\", classes, y). In place of y you can use a large enough sample of the full training set target to properly estimate the class frequency distributions. Pass the resulting weights as the class_weight parameter.\n",
            "  warn(\n",
            "/usr/local/lib/python3.10/dist-packages/sklearn/ensemble/_forest.py:777: UserWarning: class_weight presets \"balanced\" or \"balanced_subsample\" are not recommended for warm_start if the fitted data differs from the full dataset. In order to use \"balanced\" weights, use compute_class_weight (\"balanced\", classes, y). In place of y you can use a large enough sample of the full training set target to properly estimate the class frequency distributions. Pass the resulting weights as the class_weight parameter.\n",
            "  warn(\n",
            "/usr/local/lib/python3.10/dist-packages/sklearn/ensemble/_forest.py:777: UserWarning: class_weight presets \"balanced\" or \"balanced_subsample\" are not recommended for warm_start if the fitted data differs from the full dataset. In order to use \"balanced\" weights, use compute_class_weight (\"balanced\", classes, y). In place of y you can use a large enough sample of the full training set target to properly estimate the class frequency distributions. Pass the resulting weights as the class_weight parameter.\n",
            "  warn(\n",
            "/usr/local/lib/python3.10/dist-packages/sklearn/ensemble/_forest.py:777: UserWarning: class_weight presets \"balanced\" or \"balanced_subsample\" are not recommended for warm_start if the fitted data differs from the full dataset. In order to use \"balanced\" weights, use compute_class_weight (\"balanced\", classes, y). In place of y you can use a large enough sample of the full training set target to properly estimate the class frequency distributions. Pass the resulting weights as the class_weight parameter.\n",
            "  warn(\n",
            "/usr/local/lib/python3.10/dist-packages/sklearn/ensemble/_forest.py:777: UserWarning: class_weight presets \"balanced\" or \"balanced_subsample\" are not recommended for warm_start if the fitted data differs from the full dataset. In order to use \"balanced\" weights, use compute_class_weight (\"balanced\", classes, y). In place of y you can use a large enough sample of the full training set target to properly estimate the class frequency distributions. Pass the resulting weights as the class_weight parameter.\n",
            "  warn(\n"
          ]
        },
        {
          "output_type": "stream",
          "name": "stdout",
          "text": [
            "RandomForestClassifier(ccp_alpha=0.1, class_weight='balanced', max_depth=20,\n",
            "                       max_features='log2', max_leaf_nodes=5, max_samples=0.8,\n",
            "                       min_impurity_decrease=0.02, min_samples_leaf=4,\n",
            "                       min_samples_split=20, min_weight_fraction_leaf=0.1,\n",
            "                       n_estimators=150, n_jobs=-1, oob_score=True,\n",
            "                       random_state=420, warm_start=True)\n"
          ]
        },
        {
          "output_type": "execute_result",
          "data": {
            "text/plain": [
              "{'accuracy': 0.7372881355932204,\n",
              " 'precision': 0.25477707006369427,\n",
              " 'recall': 0.851063829787234,\n",
              " 'f1': 0.39215686274509803}"
            ]
          },
          "metadata": {},
          "execution_count": 39
        }
      ]
    }
  ],
  "metadata": {
    "colab": {
      "provenance": []
    },
    "kernelspec": {
      "display_name": "Python 3",
      "name": "python3"
    },
    "language_info": {
      "name": "python"
    }
  },
  "nbformat": 4,
  "nbformat_minor": 0
}
